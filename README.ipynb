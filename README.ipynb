{
 "cells": [
  {
   "cell_type": "markdown",
   "metadata": {},
   "source": [
    "# camera_calib_python"
   ]
  },
  {
   "cell_type": "markdown",
   "metadata": {
    "ExecuteTime": {
     "end_time": "2020-06-16T21:06:46.821514Z",
     "start_time": "2020-06-16T21:06:46.813003Z"
    }
   },
   "source": [
    "This is a python based camera calibration \"library\". Some things:\n",
    "\n",
    "* Uses [nbdev](https://github.com/fastai/nbdev), which is an awesome and fun way to develop and tinker.\n",
    "* Uses pytorch for optimization of intrinsic and extrinsic parameters. Each step in the model is modularized as its own pytorch `nn.module` in the `modules.ipynb` notebook. \n",
    "    * Optimization is carried out via the built in `LBFGS` optimizer. The `LBFGS` optimizer uses only the gradient to do a quasi second order optimization. However, I've noticed it's imperfect and can a take long time to converge in some cases.\n",
    "    * The use of pytorch allows the forward pass to be easily modified. It also allows the use of any differentiable loss function although I've noticed that sum of squared errors seems to give the best results of the losses I've tried.\n",
    "* The fiducial point detector for my calibration board uses a pytorch neural net under the hood (more info [here](https://github.com/justinblaber/fiducial_detect)), which is easily integrated into this library since its python based."
   ]
  },
  {
   "cell_type": "markdown",
   "metadata": {},
   "source": [
    "# Example"
   ]
  },
  {
   "cell_type": "code",
   "execution_count": null,
   "metadata": {
    "ExecuteTime": {
     "start_time": "2020-06-29T02:13:54.529Z"
    }
   },
   "outputs": [],
   "source": [
    "import re\n",
    "from pathlib import Path\n",
    "\n",
    "import matplotlib.pyplot as plt\n",
    "\n",
    "from camera_calib_python.calib import calib_multi, draw_bipartite\n",
    "from camera_calib_python.cb_geom import CbGeom, CpCSRGrid, FmCFPGrid\n",
    "from camera_calib_python.control_refine import OpenCVCheckerRefiner\n",
    "from camera_calib_python.fiducial_detect import DotVisionCheckerDLDetector\n",
    "from camera_calib_python.image import File16bitImg\n",
    "from camera_calib_python.plot import plot_extrinsics"
   ]
  },
  {
   "cell_type": "markdown",
   "metadata": {},
   "source": [
    "Before calibration can be done, we need the following information:\n",
    "\n",
    "1. Calibration board geometry\n",
    "2. Fiducial point detector\n",
    "3. Control point refiner\n",
    "4. Images and their respective camera and pose indices"
   ]
  },
  {
   "cell_type": "markdown",
   "metadata": {
    "ExecuteTime": {
     "end_time": "2020-06-16T20:53:29.347597Z",
     "start_time": "2020-06-16T20:53:29.336522Z"
    }
   },
   "source": [
    "1) The first thing to do is define a calibration board geometry. This specifies where fiducial markers and control points are located. For this example, my dot vision checker board is used."
   ]
  },
  {
   "cell_type": "code",
   "execution_count": null,
   "metadata": {
    "ExecuteTime": {
     "start_time": "2020-06-29T02:13:54.530Z"
    }
   },
   "outputs": [],
   "source": [
    "h_cb = 50.8\n",
    "w_cb = 50.8\n",
    "h_f = 42.672\n",
    "w_f = 42.672\n",
    "num_c_h = 16\n",
    "num_c_w = 16\n",
    "spacing_c = 2.032\n",
    "cb_geom = CbGeom(h_cb, w_cb,\n",
    "                 CpCSRGrid(num_c_h, num_c_w, spacing_c),\n",
    "                 FmCFPGrid(h_f, w_f))"
   ]
  },
  {
   "cell_type": "code",
   "execution_count": null,
   "metadata": {
    "ExecuteTime": {
     "start_time": "2020-06-29T02:13:54.533Z"
    }
   },
   "outputs": [],
   "source": [
    "cb_geom.plot()"
   ]
  },
  {
   "cell_type": "markdown",
   "metadata": {
    "ExecuteTime": {
     "end_time": "2020-06-16T20:45:38.036257Z",
     "start_time": "2020-06-16T20:45:38.029838Z"
    }
   },
   "source": [
    "2) A fiducial detector needs to be specified. This fiducial detector will take in an image and return the locations of the fiducial markers. The detector in this example is a neural net trained specifically on my calibration board. More info available at:\n",
    "\n",
    "* https://github.com/justinblaber/fiducial_detect"
   ]
  },
  {
   "cell_type": "code",
   "execution_count": null,
   "metadata": {
    "ExecuteTime": {
     "start_time": "2020-06-29T02:13:54.534Z"
    }
   },
   "outputs": [],
   "source": [
    "file_model = Path('models/dot_vision_checker.pth')\n",
    "detector = DotVisionCheckerDLDetector(file_model)"
   ]
  },
  {
   "cell_type": "markdown",
   "metadata": {},
   "source": [
    "3) The refiner will take in an image, initial guesses for control points, and the boundaries around the control points. These boundaries help determine how much neighboring info can be used to refine the control point."
   ]
  },
  {
   "cell_type": "code",
   "execution_count": null,
   "metadata": {
    "ExecuteTime": {
     "start_time": "2020-06-29T02:13:54.537Z"
    }
   },
   "outputs": [],
   "source": [
    "refiner = OpenCVCheckerRefiner(hw_min=5, hw_max=15, cutoff_it=20, cutoff_norm=1e-3)"
   ]
  },
  {
   "cell_type": "markdown",
   "metadata": {},
   "source": [
    "4) Get images and respective camera and calibration board indices from the file name"
   ]
  },
  {
   "cell_type": "code",
   "execution_count": null,
   "metadata": {
    "ExecuteTime": {
     "start_time": "2020-06-29T02:13:54.539Z"
    }
   },
   "outputs": [],
   "source": [
    "files_img = list(Path('data/dot_vision_checker').glob('*.png'))\n",
    "files_img"
   ]
  },
  {
   "cell_type": "code",
   "execution_count": null,
   "metadata": {
    "ExecuteTime": {
     "start_time": "2020-06-29T02:13:54.541Z"
    }
   },
   "outputs": [],
   "source": [
    "def _parse_name(name_img):\n",
    "    match = re.match(r'''SERIAL_(?P<serial>.*)_\n",
    "                         DATETIME_(?P<date>.*)_\n",
    "                         CAM_(?P<cam>.*)_\n",
    "                         FRAMEID_(?P<frameid>.*)_\n",
    "                         COUNTER_(?P<counter>.*).png''', \n",
    "                     name_img, \n",
    "                     re.VERBOSE)\n",
    "    return match.groupdict()"
   ]
  },
  {
   "cell_type": "code",
   "execution_count": null,
   "metadata": {
    "ExecuteTime": {
     "start_time": "2020-06-29T02:13:54.542Z"
    }
   },
   "outputs": [],
   "source": [
    "imgs = []\n",
    "for file_img in files_img:\n",
    "    dict_group = _parse_name(file_img.name)\n",
    "    img = File16bitImg(file_img)\n",
    "    img.idx_cam = int(dict_group['cam'])-1\n",
    "    img.idx_cb  = int(dict_group['counter'])-1\n",
    "    imgs.append(img)"
   ]
  },
  {
   "cell_type": "code",
   "execution_count": null,
   "metadata": {
    "ExecuteTime": {
     "start_time": "2020-06-29T02:13:54.543Z"
    }
   },
   "outputs": [],
   "source": [
    "for img in imgs: print(f'{img.name} - cam: {img.idx_cam} - cb: {img.idx_cb}')"
   ]
  },
  {
   "cell_type": "markdown",
   "metadata": {},
   "source": [
    "Now, we can calibrate"
   ]
  },
  {
   "cell_type": "code",
   "execution_count": null,
   "metadata": {
    "ExecuteTime": {
     "start_time": "2020-06-29T02:13:54.545Z"
    },
    "scrolled": false
   },
   "outputs": [],
   "source": [
    "cams, distorts, rigids_cb, rigids_cam, debug = calib_multi(imgs, cb_geom, detector, refiner)"
   ]
  },
  {
   "cell_type": "markdown",
   "metadata": {},
   "source": [
    "From Bo Li's calibration paper, we know the coordinate graph of poses and cameras forms a bipartite graph. For debugging purposes this is displayed below."
   ]
  },
  {
   "cell_type": "code",
   "execution_count": null,
   "metadata": {
    "ExecuteTime": {
     "start_time": "2020-06-29T02:13:54.548Z"
    }
   },
   "outputs": [],
   "source": [
    "draw_bipartite(*debug[2:])"
   ]
  },
  {
   "cell_type": "markdown",
   "metadata": {},
   "source": [
    "Plot refined and model control points"
   ]
  },
  {
   "cell_type": "code",
   "execution_count": null,
   "metadata": {
    "ExecuteTime": {
     "start_time": "2020-06-29T02:13:54.552Z"
    },
    "scrolled": false
   },
   "outputs": [],
   "source": [
    "for idx, img in enumerate(imgs):\n",
    "    plt.figure(idx, figsize=(10,10))\n",
    "    plt.imshow(img.array_gs, cmap='gray')\n",
    "    plt.plot(debug[0][idx][:,0], debug[0][idx][:,1], 'rs')\n",
    "    plt.plot(debug[1][idx][:,0], debug[1][idx][:,1], 'gs')"
   ]
  },
  {
   "cell_type": "markdown",
   "metadata": {},
   "source": [
    "Plot residuals"
   ]
  },
  {
   "cell_type": "code",
   "execution_count": null,
   "metadata": {
    "ExecuteTime": {
     "start_time": "2020-06-29T02:13:54.555Z"
    }
   },
   "outputs": [],
   "source": [
    "for p1, p2 in zip(debug[0], debug[1]):\n",
    "    res = (p1-p2)\n",
    "    plt.plot(res[:,0], res[:,1], 's')\n",
    "plt.gca().set_aspect(1)\n",
    "plt.gca().set_xlim(-0.25, 0.25)\n",
    "plt.gca().set_ylim(-0.25, 0.25)"
   ]
  },
  {
   "cell_type": "markdown",
   "metadata": {},
   "source": [
    "Plot extrinsics; note that `%matplotlib notebook` can be used to make the plot interactive"
   ]
  },
  {
   "cell_type": "code",
   "execution_count": null,
   "metadata": {
    "ExecuteTime": {
     "start_time": "2020-06-29T02:13:54.558Z"
    }
   },
   "outputs": [],
   "source": [
    "plot_extrinsics(rigids_cb, rigids_cam, cb_geom)"
   ]
  },
  {
   "cell_type": "markdown",
   "metadata": {},
   "source": [
    "This matches pretty closely to my camera rig"
   ]
  },
  {
   "cell_type": "markdown",
   "metadata": {},
   "source": [
    "# Build"
   ]
  },
  {
   "cell_type": "code",
   "execution_count": null,
   "metadata": {
    "ExecuteTime": {
     "start_time": "2020-06-29T02:13:54.562Z"
    }
   },
   "outputs": [],
   "source": [
    "!jupyter nbconvert --to markdown README.ipynb"
   ]
  }
 ],
 "metadata": {
  "kernelspec": {
   "display_name": "Python 3",
   "language": "python",
   "name": "python3"
  },
  "language_info": {
   "codemirror_mode": {
    "name": "ipython",
    "version": 3
   },
   "file_extension": ".py",
   "mimetype": "text/x-python",
   "name": "python",
   "nbconvert_exporter": "python",
   "pygments_lexer": "ipython3",
   "version": "3.6.9"
  },
  "varInspector": {
   "cols": {
    "lenName": 16,
    "lenType": 16,
    "lenVar": 40
   },
   "kernels_config": {
    "python": {
     "delete_cmd_postfix": "",
     "delete_cmd_prefix": "del ",
     "library": "var_list.py",
     "varRefreshCmd": "print(var_dic_list())"
    },
    "r": {
     "delete_cmd_postfix": ") ",
     "delete_cmd_prefix": "rm(",
     "library": "var_list.r",
     "varRefreshCmd": "cat(var_dic_list()) "
    }
   },
   "types_to_exclude": [
    "module",
    "function",
    "builtin_function_or_method",
    "instance",
    "_Feature"
   ],
   "window_display": false
  }
 },
 "nbformat": 4,
 "nbformat_minor": 2
}
