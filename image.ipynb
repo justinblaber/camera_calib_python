{
 "cells": [
  {
   "cell_type": "code",
   "execution_count": 1,
   "metadata": {
    "ExecuteTime": {
     "end_time": "2020-06-29T02:40:02.207459Z",
     "start_time": "2020-06-29T02:40:02.204916Z"
    }
   },
   "outputs": [],
   "source": [
    "# default_exp image"
   ]
  },
  {
   "cell_type": "markdown",
   "metadata": {
    "ExecuteTime": {
     "end_time": "2020-05-10T15:07:02.636992Z",
     "start_time": "2020-05-10T15:07:02.628266Z"
    }
   },
   "source": [
    "This contains the `Img` class, which encapsulates how to read/load images. Image arrays are expected to be scaled between [0,1] and be floats."
   ]
  },
  {
   "cell_type": "markdown",
   "metadata": {},
   "source": [
    "# Import"
   ]
  },
  {
   "cell_type": "code",
   "execution_count": 2,
   "metadata": {
    "ExecuteTime": {
     "end_time": "2020-06-29T02:40:02.554865Z",
     "start_time": "2020-06-29T02:40:02.208968Z"
    }
   },
   "outputs": [],
   "source": [
    "# export\n",
    "import warnings\n",
    "\n",
    "import numpy as np\n",
    "from PIL import Image\n",
    "\n",
    "from camera_calib_python.utils import *"
   ]
  },
  {
   "cell_type": "code",
   "execution_count": 3,
   "metadata": {
    "ExecuteTime": {
     "end_time": "2020-06-29T02:40:02.694510Z",
     "start_time": "2020-06-29T02:40:02.555968Z"
    }
   },
   "outputs": [],
   "source": [
    "from pathlib import Path\n",
    "\n",
    "import matplotlib.pyplot as plt"
   ]
  },
  {
   "cell_type": "markdown",
   "metadata": {},
   "source": [
    "# Utility"
   ]
  },
  {
   "cell_type": "code",
   "execution_count": 4,
   "metadata": {
    "ExecuteTime": {
     "end_time": "2020-06-29T02:40:02.698182Z",
     "start_time": "2020-06-29T02:40:02.695511Z"
    }
   },
   "outputs": [],
   "source": [
    "# export\n",
    "def rgb2gray(arr): # From Pillow documentation\n",
    "    return arr[:,:,0]*(299/1000) + arr[:,:,1]*(587/1000) + arr[:,:,2]*(114/1000)"
   ]
  },
  {
   "cell_type": "markdown",
   "metadata": {},
   "source": [
    "# Base class"
   ]
  },
  {
   "cell_type": "code",
   "execution_count": 5,
   "metadata": {
    "ExecuteTime": {
     "end_time": "2020-06-29T02:40:02.707395Z",
     "start_time": "2020-06-29T02:40:02.699791Z"
    }
   },
   "outputs": [],
   "source": [
    "# export\n",
    "class Img:    \n",
    "    def exists(self): raise NotImplementedError('Please implement exists()')\n",
    "        \n",
    "    @property\n",
    "    def name(self):   raise NotImplementedError('Please implement name')\n",
    "    @property\n",
    "    def size(self):   raise NotImplementedError('Please implement size')\n",
    "    @property\n",
    "    def array(self):  raise NotImplementedError('Please implement array')\n",
    "    @property\n",
    "    def array_gs(self): # gs == \"gray scale\"\n",
    "        arr = self.array\n",
    "        if len(arr.shape) == 3 and arr.shape[2] == 3:\n",
    "            arr = rgb2gray(arr)\n",
    "        elif len(arr.shape) == 2:\n",
    "            pass\n",
    "        else:\n",
    "            raise RuntimeError(f'Dont know how to handle array of shape: {arr.shape}')\n",
    "        return arr\n",
    "    \n",
    "    def __repr__(self):\n",
    "        return f'{self.__class__.__name__}({self.name})'"
   ]
  },
  {
   "cell_type": "markdown",
   "metadata": {
    "ExecuteTime": {
     "end_time": "2020-05-12T21:59:19.867861Z",
     "start_time": "2020-05-12T21:59:19.860446Z"
    }
   },
   "source": [
    "Note that `size` is the 2D shape"
   ]
  },
  {
   "cell_type": "markdown",
   "metadata": {
    "ExecuteTime": {
     "end_time": "2020-05-10T15:12:06.652842Z",
     "start_time": "2020-05-10T15:12:06.646621Z"
    }
   },
   "source": [
    "# File Image"
   ]
  },
  {
   "cell_type": "code",
   "execution_count": 6,
   "metadata": {
    "ExecuteTime": {
     "end_time": "2020-06-29T02:40:02.713963Z",
     "start_time": "2020-06-29T02:40:02.708521Z"
    }
   },
   "outputs": [],
   "source": [
    "# export\n",
    "class FileImg(Img):\n",
    "    def __init__(self, file_img):\n",
    "        self.file_img = file_img\n",
    "    \n",
    "    def exists(self): return self.file_img.exists()\n",
    "\n",
    "    @property\n",
    "    def name(self):   return self.file_img.stem\n",
    "    @property\n",
    "    def size(self):   return reverse(Image.open(self.file_img).size) # fast"
   ]
  },
  {
   "cell_type": "markdown",
   "metadata": {},
   "source": [
    "For some reason the 16 bit images I've got get read as 32bit signed integers, and I found it hard to write a generic `FileImg` class that can scale values to [0,1] correctly. So just subclass it for now."
   ]
  },
  {
   "cell_type": "code",
   "execution_count": 7,
   "metadata": {
    "ExecuteTime": {
     "end_time": "2020-06-29T02:40:02.720248Z",
     "start_time": "2020-06-29T02:40:02.715050Z"
    }
   },
   "outputs": [],
   "source": [
    "# export\n",
    "class File16bitImg(FileImg):\n",
    "    def __init__(self, file_img):\n",
    "        super().__init__(file_img)\n",
    "        \n",
    "    @property\n",
    "    def array(self):\n",
    "        arr = np.array(Image.open(self.file_img), dtype=np.float)\n",
    "        arr /= 2**16-1 # Scale between 0 and 1 for 16 bit image\n",
    "        return arr"
   ]
  },
  {
   "cell_type": "markdown",
   "metadata": {},
   "source": [
    "Test out methods"
   ]
  },
  {
   "cell_type": "code",
   "execution_count": 8,
   "metadata": {
    "ExecuteTime": {
     "end_time": "2020-06-29T02:40:02.726397Z",
     "start_time": "2020-06-29T02:40:02.721326Z"
    }
   },
   "outputs": [],
   "source": [
    "file_img1 = Path('data/dot_vision_checker/SERIAL_16276941_DATETIME_2019-06-07-00:38:19-438631_CAM_2_FRAMEID_0_COUNTER_1.png')\n",
    "file_img2 = Path('data/dot_vision_checker/SERIAL_16276942_DATETIME_2019-06-07-00:38:48-109736_CAM_3_FRAMEID_0_COUNTER_2.png')"
   ]
  },
  {
   "cell_type": "code",
   "execution_count": 9,
   "metadata": {
    "ExecuteTime": {
     "end_time": "2020-06-29T02:40:02.732316Z",
     "start_time": "2020-06-29T02:40:02.727513Z"
    }
   },
   "outputs": [],
   "source": [
    "img1, img2 = map(File16bitImg, [file_img1, file_img2])"
   ]
  },
  {
   "cell_type": "code",
   "execution_count": 10,
   "metadata": {
    "ExecuteTime": {
     "end_time": "2020-06-29T02:40:02.921817Z",
     "start_time": "2020-06-29T02:40:02.733397Z"
    }
   },
   "outputs": [],
   "source": [
    "assert_allclose(img1.array_gs.min(), 0.0029297322041657)\n",
    "assert_allclose(img1.array_gs.max(), 0.9995269703212024)\n",
    "assert_allclose(img1.name, 'SERIAL_16276941_DATETIME_2019-06-07-00:38:19-438631_CAM_2_FRAMEID_0_COUNTER_1')\n",
    "assert_allclose(img1.size, (1536, 2048))\n",
    "assert_allclose(img1.exists(), True)"
   ]
  },
  {
   "cell_type": "code",
   "execution_count": 11,
   "metadata": {
    "ExecuteTime": {
     "end_time": "2020-06-29T02:40:03.335979Z",
     "start_time": "2020-06-29T02:40:02.922796Z"
    }
   },
   "outputs": [
    {
     "data": {
      "text/plain": [
       "<matplotlib.image.AxesImage at 0x7fbf5f079128>"
      ]
     },
     "execution_count": 11,
     "metadata": {},
     "output_type": "execute_result"
    },
    {
     "data": {
      "image/png": "[encoded data removed]",
      "text/plain": [
       "<Figure size 432x288 with 1 Axes>"
      ]
     },
     "metadata": {
      "needs_background": "light"
     },
     "output_type": "display_data"
    }
   ],
   "source": [
    "plt.imshow(img1.array_gs, cmap='gray')"
   ]
  },
  {
   "cell_type": "markdown",
   "metadata": {
    "ExecuteTime": {
     "end_time": "2020-05-10T15:12:17.395067Z",
     "start_time": "2020-05-10T15:12:17.392822Z"
    }
   },
   "source": [
    "# Array Image"
   ]
  },
  {
   "cell_type": "markdown",
   "metadata": {},
   "source": [
    "This could be useful if there's an image in memory and you don't want to save it. Note that it is the responsbility of the user to ensure values are scaled from 0 to 1."
   ]
  },
  {
   "cell_type": "code",
   "execution_count": 12,
   "metadata": {
    "ExecuteTime": {
     "end_time": "2020-06-29T02:40:03.340791Z",
     "start_time": "2020-06-29T02:40:03.336952Z"
    }
   },
   "outputs": [],
   "source": [
    "# export\n",
    "class ArrayImg(Img):\n",
    "    def __init__(self, arr, name=None):\n",
    "        if len(arr.shape) < 2: raise RuntimeError('Input array has less than 2 dimensions')\n",
    "        self.sz = arr.shape[:2]\n",
    "        self.n = name        \n",
    "        \n",
    "        assert_allclose(arr.dtype, np.float)\n",
    "        if arr.min() < 0: warnings.warn('Value less than 0 found')    \n",
    "        if arr.max() > 1: warnings.warn('Value greater than 1 found')    \n",
    "        self.arr = arr\n",
    "        \n",
    "    @property\n",
    "    def name(self):   return self.n\n",
    "    @property\n",
    "    def size(self):   return self.sz\n",
    "    @property\n",
    "    def array(self):  return self.arr\n",
    "\n",
    "    def exists(self): return True"
   ]
  },
  {
   "cell_type": "code",
   "execution_count": 13,
   "metadata": {
    "ExecuteTime": {
     "end_time": "2020-06-29T02:40:03.350328Z",
     "start_time": "2020-06-29T02:40:03.342542Z"
    }
   },
   "outputs": [],
   "source": [
    "array1, array2 = [np.clip(np.random.normal(size=(20,10,3)), 0, 1) for _ in range(2)]\n",
    "img1, img2 = [ArrayImg(arr, f'array{i+1}') for i, arr in enumerate([array1, array2])]"
   ]
  },
  {
   "cell_type": "code",
   "execution_count": 14,
   "metadata": {
    "ExecuteTime": {
     "end_time": "2020-06-29T02:40:03.356624Z",
     "start_time": "2020-06-29T02:40:03.351883Z"
    }
   },
   "outputs": [],
   "source": [
    "assert_allclose(img1.array_gs.min(), rgb2gray(array1).min())\n",
    "assert_allclose(img1.array_gs.max(), rgb2gray(array1).max())\n",
    "assert_allclose(img1.name, 'array1')\n",
    "assert_allclose(img1.size, array1.shape[:2])\n",
    "assert_allclose(img1.exists(), True)"
   ]
  },
  {
   "cell_type": "code",
   "execution_count": 15,
   "metadata": {
    "ExecuteTime": {
     "end_time": "2020-06-29T02:40:03.460672Z",
     "start_time": "2020-06-29T02:40:03.357661Z"
    }
   },
   "outputs": [
    {
     "data": {
      "text/plain": [
       "<matplotlib.image.AxesImage at 0x7fbf5d7b9400>"
      ]
     },
     "execution_count": 15,
     "metadata": {},
     "output_type": "execute_result"
    },
    {
     "data": {
      "image/png": "[encoded data removed]",
      "text/plain": [
       "<Figure size 432x288 with 1 Axes>"
      ]
     },
     "metadata": {
      "needs_background": "light"
     },
     "output_type": "display_data"
    }
   ],
   "source": [
    "plt.imshow(img1.array_gs, cmap='gray')"
   ]
  },
  {
   "cell_type": "markdown",
   "metadata": {
    "ExecuteTime": {
     "end_time": "2020-05-03T20:36:21.604772Z",
     "start_time": "2020-05-03T20:36:21.600609Z"
    }
   },
   "source": [
    "# Build"
   ]
  },
  {
   "cell_type": "code",
   "execution_count": 16,
   "metadata": {
    "ExecuteTime": {
     "end_time": "2020-06-29T02:40:03.464461Z",
     "start_time": "2020-06-29T02:40:03.461594Z"
    }
   },
   "outputs": [
    {
     "data": {
      "application/javascript": [
       "IPython.notebook.save_notebook()\n"
      ],
      "text/plain": [
       "<IPython.core.display.Javascript object>"
      ]
     },
     "metadata": {},
     "output_type": "display_data"
    }
   ],
   "source": [
    "%%javascript\n",
    "IPython.notebook.save_notebook()"
   ]
  },
  {
   "cell_type": "code",
   "execution_count": 17,
   "metadata": {
    "ExecuteTime": {
     "end_time": "2020-06-29T02:40:04.069299Z",
     "start_time": "2020-06-29T02:40:03.465792Z"
    }
   },
   "outputs": [
    {
     "name": "stdout",
     "output_type": "stream",
     "text": [
      "Converted README.ipynb.\n",
      "Converted calib.ipynb.\n",
      "Converted cb_geom.ipynb.\n",
      "Converted control_refine.ipynb.\n",
      "Converted fiducial_detect.ipynb.\n",
      "Converted image.ipynb.\n",
      "Converted modules.ipynb.\n",
      "Converted plot.ipynb.\n",
      "Converted utils.ipynb.\n"
     ]
    }
   ],
   "source": [
    "!nbdev_build_lib"
   ]
  }
 ],
 "metadata": {
  "kernelspec": {
   "display_name": "Python 3",
   "language": "python",
   "name": "python3"
  },
  "language_info": {
   "codemirror_mode": {
    "name": "ipython",
    "version": 3
   },
   "file_extension": ".py",
   "mimetype": "text/x-python",
   "name": "python",
   "nbconvert_exporter": "python",
   "pygments_lexer": "ipython3",
   "version": "3.6.9"
  },
  "varInspector": {
   "cols": {
    "lenName": 16,
    "lenType": 16,
    "lenVar": 40
   },
   "kernels_config": {
    "python": {
     "delete_cmd_postfix": "",
     "delete_cmd_prefix": "del ",
     "library": "var_list.py",
     "varRefreshCmd": "print(var_dic_list())"
    },
    "r": {
     "delete_cmd_postfix": ") ",
     "delete_cmd_prefix": "rm(",
     "library": "var_list.r",
     "varRefreshCmd": "cat(var_dic_list()) "
    }
   },
   "types_to_exclude": [
    "module",
    "function",
    "builtin_function_or_method",
    "instance",
    "_Feature"
   ],
   "window_display": false
  }
 },
 "nbformat": 4,
 "nbformat_minor": 2
}
