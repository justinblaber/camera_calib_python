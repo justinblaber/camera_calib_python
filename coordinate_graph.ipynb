{
 "cells": [
  {
   "cell_type": "code",
   "execution_count": 118,
   "metadata": {
    "ExecuteTime": {
     "end_time": "2020-05-09T16:05:28.978665Z",
     "start_time": "2020-05-09T16:05:28.974319Z"
    }
   },
   "outputs": [],
   "source": [
    "import re\n",
    "from pathlib import Path\n",
    "\n",
    "import matplotlib.pyplot as plt\n",
    "import networkx as nx\n",
    "import torch\n",
    "\n",
    "from camera_calib_python.modules import *"
   ]
  },
  {
   "cell_type": "markdown",
   "metadata": {},
   "source": [
    "# Image file name parsing"
   ]
  },
  {
   "cell_type": "markdown",
   "metadata": {},
   "source": [
    "This will parse camera# and pose# from image file names so we can construct the coordinate graph"
   ]
  },
  {
   "cell_type": "code",
   "execution_count": 119,
   "metadata": {
    "ExecuteTime": {
     "end_time": "2020-05-09T16:05:28.992611Z",
     "start_time": "2020-05-09T16:05:28.983831Z"
    }
   },
   "outputs": [],
   "source": [
    "dir_data = Path('data')"
   ]
  },
  {
   "cell_type": "code",
   "execution_count": 120,
   "metadata": {
    "ExecuteTime": {
     "end_time": "2020-05-09T16:05:28.999885Z",
     "start_time": "2020-05-09T16:05:28.994051Z"
    }
   },
   "outputs": [
    {
     "data": {
      "text/plain": [
       "[PosixPath('data/SERIAL_16276941_DATETIME_2019-06-07-00:38:48-109732_CAM_2_FRAMEID_0_COUNTER_2.png'),\n",
       " PosixPath('data/SERIAL_19061245_DATETIME_2019-06-07-00:38:19-438594_CAM_1_FRAMEID_0_COUNTER_1.png'),\n",
       " PosixPath('data/SERIAL_16276942_DATETIME_2019-06-07-00:38:19-438636_CAM_3_FRAMEID_0_COUNTER_1.png'),\n",
       " PosixPath('data/SERIAL_16276942_DATETIME_2019-06-07-00:38:48-109736_CAM_3_FRAMEID_0_COUNTER_2.png'),\n",
       " PosixPath('data/SERIAL_16276941_DATETIME_2019-06-07-00:38:19-438631_CAM_2_FRAMEID_0_COUNTER_1.png')]"
      ]
     },
     "execution_count": 120,
     "metadata": {},
     "output_type": "execute_result"
    }
   ],
   "source": [
    "files_img = list(dir_data.rglob('*.png'))\n",
    "files_img"
   ]
  },
  {
   "cell_type": "code",
   "execution_count": 121,
   "metadata": {
    "ExecuteTime": {
     "end_time": "2020-05-09T16:05:29.005203Z",
     "start_time": "2020-05-09T16:05:29.001316Z"
    }
   },
   "outputs": [],
   "source": [
    "def _parse_name(name_img):\n",
    "    match = re.match(r\"\"\"SERIAL_(?P<serial>.*)_\n",
    "                         DATETIME_(?P<date>.*)_\n",
    "                         CAM_(?P<cam>.*)_\n",
    "                         FRAMEID_(?P<frameid>.*)_\n",
    "                         COUNTER_(?P<counter>.*).png\"\"\", \n",
    "                     name_img, \n",
    "                     re.VERBOSE)\n",
    "    return match.groupdict()"
   ]
  },
  {
   "cell_type": "code",
   "execution_count": 122,
   "metadata": {
    "ExecuteTime": {
     "end_time": "2020-05-09T16:05:29.010968Z",
     "start_time": "2020-05-09T16:05:29.006265Z"
    }
   },
   "outputs": [],
   "source": [
    "def _parse_cam_and_pos(name_img):\n",
    "    dict_group = _parse_name(name_img)\n",
    "    return {'cam': dict_group['cam'],\n",
    "            'pos': dict_group['counter']}"
   ]
  },
  {
   "cell_type": "code",
   "execution_count": 123,
   "metadata": {
    "ExecuteTime": {
     "end_time": "2020-05-09T16:05:29.018882Z",
     "start_time": "2020-05-09T16:05:29.011989Z"
    }
   },
   "outputs": [
    {
     "data": {
      "text/plain": [
       "[{'cam': '2', 'pos': '2'},\n",
       " {'cam': '1', 'pos': '1'},\n",
       " {'cam': '3', 'pos': '1'},\n",
       " {'cam': '3', 'pos': '2'},\n",
       " {'cam': '2', 'pos': '1'}]"
      ]
     },
     "execution_count": 123,
     "metadata": {},
     "output_type": "execute_result"
    }
   ],
   "source": [
    "cam_and_poss = [_parse_cam_and_pos(file_img.name) for file_img in files_img]\n",
    "cam_and_poss"
   ]
  },
  {
   "cell_type": "code",
   "execution_count": 124,
   "metadata": {
    "ExecuteTime": {
     "end_time": "2020-05-09T16:05:29.024494Z",
     "start_time": "2020-05-09T16:05:29.020430Z"
    }
   },
   "outputs": [
    {
     "data": {
      "text/plain": [
       "['1', '2', '3']"
      ]
     },
     "execution_count": 124,
     "metadata": {},
     "output_type": "execute_result"
    }
   ],
   "source": [
    "cams = sorted({cam_and_pos['cam'] for cam_and_pos in cam_and_poss}, key=float)\n",
    "cams"
   ]
  },
  {
   "cell_type": "code",
   "execution_count": 125,
   "metadata": {
    "ExecuteTime": {
     "end_time": "2020-05-09T16:05:29.030932Z",
     "start_time": "2020-05-09T16:05:29.025500Z"
    }
   },
   "outputs": [
    {
     "data": {
      "text/plain": [
       "['1', '2']"
      ]
     },
     "execution_count": 125,
     "metadata": {},
     "output_type": "execute_result"
    }
   ],
   "source": [
    "poss = sorted({cam_and_pos['pos'] for cam_and_pos in cam_and_poss}, key=float)\n",
    "poss"
   ]
  },
  {
   "cell_type": "markdown",
   "metadata": {},
   "source": [
    "# Coordinate graph"
   ]
  },
  {
   "cell_type": "markdown",
   "metadata": {},
   "source": [
    "Some things:\n",
    "\n",
    "* I  think this should be a digraph, with each edge containing a tranform and the opposite edge containing the inverse transform; if a transform is not inversible then it should only contain a single edge\n",
    "* The nodes are just 3D coordinate systems; the path from one node to another will contain edges with transforms; if these transforms are composed they should yeild the transform to convert coordinates from node1 to node2\n",
    "* I'm using `networkx` to represent the digraph"
   ]
  },
  {
   "cell_type": "markdown",
   "metadata": {},
   "source": [
    "### Node stuff"
   ]
  },
  {
   "cell_type": "code",
   "execution_count": 126,
   "metadata": {
    "ExecuteTime": {
     "end_time": "2020-05-09T16:05:29.036843Z",
     "start_time": "2020-05-09T16:05:29.032749Z"
    }
   },
   "outputs": [],
   "source": [
    "class Node:\n",
    "    def __init__(self, label):\n",
    "        self.label = label\n",
    "        \n",
    "    def __repr__(self):\n",
    "        return f'{self.__class__.__name__}({self.label})'"
   ]
  },
  {
   "cell_type": "code",
   "execution_count": 127,
   "metadata": {
    "ExecuteTime": {
     "end_time": "2020-05-09T16:05:29.042928Z",
     "start_time": "2020-05-09T16:05:29.038197Z"
    }
   },
   "outputs": [],
   "source": [
    "class CamNode(Node):\n",
    "    def __init__(self, label):\n",
    "        super().__init__(label)"
   ]
  },
  {
   "cell_type": "code",
   "execution_count": 128,
   "metadata": {
    "ExecuteTime": {
     "end_time": "2020-05-09T16:05:29.049378Z",
     "start_time": "2020-05-09T16:05:29.044177Z"
    }
   },
   "outputs": [],
   "source": [
    "class PosNode(Node):\n",
    "    def __init__(self, label):\n",
    "        super().__init__(label)"
   ]
  },
  {
   "cell_type": "code",
   "execution_count": 129,
   "metadata": {
    "ExecuteTime": {
     "end_time": "2020-05-09T16:05:29.056530Z",
     "start_time": "2020-05-09T16:05:29.051021Z"
    }
   },
   "outputs": [
    {
     "data": {
      "text/plain": [
       "{'1': CamNode(1), '2': CamNode(2), '3': CamNode(3)}"
      ]
     },
     "execution_count": 129,
     "metadata": {},
     "output_type": "execute_result"
    }
   ],
   "source": [
    "nodes_cam = {cam: CamNode(cam) for cam in cams}\n",
    "nodes_cam"
   ]
  },
  {
   "cell_type": "code",
   "execution_count": 130,
   "metadata": {
    "ExecuteTime": {
     "end_time": "2020-05-09T16:05:29.063370Z",
     "start_time": "2020-05-09T16:05:29.058131Z"
    }
   },
   "outputs": [
    {
     "data": {
      "text/plain": [
       "{'1': PosNode(1), '2': PosNode(2)}"
      ]
     },
     "execution_count": 130,
     "metadata": {},
     "output_type": "execute_result"
    }
   ],
   "source": [
    "nodes_pos = {pos: PosNode(pos) for pos in poss}\n",
    "nodes_pos"
   ]
  },
  {
   "cell_type": "markdown",
   "metadata": {},
   "source": [
    "### test graph"
   ]
  },
  {
   "cell_type": "code",
   "execution_count": 131,
   "metadata": {
    "ExecuteTime": {
     "end_time": "2020-05-09T16:05:29.069018Z",
     "start_time": "2020-05-09T16:05:29.064521Z"
    }
   },
   "outputs": [],
   "source": [
    "def _rand_rigid():\n",
    "    return Rigid(R=euler2R(*torch.rand(3)), t=torch.rand(3))"
   ]
  },
  {
   "cell_type": "code",
   "execution_count": 132,
   "metadata": {
    "ExecuteTime": {
     "end_time": "2020-05-09T16:05:29.077039Z",
     "start_time": "2020-05-09T16:05:29.070050Z"
    }
   },
   "outputs": [],
   "source": [
    "G = nx.DiGraph()"
   ]
  },
  {
   "cell_type": "code",
   "execution_count": 133,
   "metadata": {
    "ExecuteTime": {
     "end_time": "2020-05-09T16:05:29.083143Z",
     "start_time": "2020-05-09T16:05:29.078057Z"
    }
   },
   "outputs": [],
   "source": [
    "for cam_and_pos in cam_and_poss:\n",
    "    cam, pos = cam_and_pos['cam'], cam_and_pos['pos']\n",
    "    node_cam, node_pos = nodes_cam[cam], nodes_pos[pos]\n",
    "    G.add_edge(node_cam, node_pos)\n",
    "    G.add_edge(node_pos, node_cam)"
   ]
  },
  {
   "cell_type": "code",
   "execution_count": 134,
   "metadata": {
    "ExecuteTime": {
     "end_time": "2020-05-09T16:05:29.091343Z",
     "start_time": "2020-05-09T16:05:29.084153Z"
    }
   },
   "outputs": [
    {
     "data": {
      "text/plain": [
       "{CamNode(1): (0, tensor(0.)),\n",
       " CamNode(2): (0, tensor(0.5000)),\n",
       " CamNode(3): (0, tensor(1.))}"
      ]
     },
     "execution_count": 134,
     "metadata": {},
     "output_type": "execute_result"
    }
   ],
   "source": [
    "{node_cam: (0, y) for node_cam,y in zip(nodes_cam.values(), \n",
    "                                                     torch.linspace(0, 1, len(nodes_cam)))}"
   ]
  },
  {
   "cell_type": "code",
   "execution_count": 135,
   "metadata": {
    "ExecuteTime": {
     "end_time": "2020-05-09T16:05:29.099064Z",
     "start_time": "2020-05-09T16:05:29.092299Z"
    }
   },
   "outputs": [],
   "source": [
    "def draw_bipartite(G, nodes_cam, nodes_pos):\n",
    "    def _get_p(nodes, x):\n",
    "        return {node: (x, y) for node,y in zip(nodes.values(), torch.linspace(0, 1, len(nodes)))}\n",
    "\n",
    "    nx.draw(G, \n",
    "            node_color=['g' if isinstance(node, CamNode) else 'r' for node in G], \n",
    "            pos={**_get_p(nodes_cam, 0), \n",
    "                 **_get_p(nodes_pos, 1)}, \n",
    "            with_labels=True)\n",
    "    plt.xlim(-0.5, 1.5);\n",
    "    plt.ylim(-0.5, 1.5);"
   ]
  },
  {
   "cell_type": "code",
   "execution_count": 136,
   "metadata": {
    "ExecuteTime": {
     "end_time": "2020-05-09T16:05:29.292863Z",
     "start_time": "2020-05-09T16:05:29.100429Z"
    }
   },
   "outputs": [
    {
     "data": {
      "image/png": "[encoded data removed]",
      "text/plain": [
       "<Figure size 432x288 with 1 Axes>"
      ]
     },
     "metadata": {},
     "output_type": "display_data"
    }
   ],
   "source": [
    "draw_bipartite(G, nodes_cam, nodes_pos)"
   ]
  },
  {
   "cell_type": "code",
   "execution_count": null,
   "metadata": {},
   "outputs": [],
   "source": [
    "# Do initial guess for each "
   ]
  },
  {
   "cell_type": "code",
   "execution_count": null,
   "metadata": {},
   "outputs": [],
   "source": []
  },
  {
   "cell_type": "code",
   "execution_count": null,
   "metadata": {},
   "outputs": [],
   "source": []
  },
  {
   "cell_type": "code",
   "execution_count": null,
   "metadata": {},
   "outputs": [],
   "source": []
  },
  {
   "cell_type": "code",
   "execution_count": null,
   "metadata": {},
   "outputs": [],
   "source": []
  },
  {
   "cell_type": "code",
   "execution_count": null,
   "metadata": {},
   "outputs": [],
   "source": []
  },
  {
   "cell_type": "code",
   "execution_count": null,
   "metadata": {},
   "outputs": [],
   "source": []
  },
  {
   "cell_type": "code",
   "execution_count": null,
   "metadata": {},
   "outputs": [],
   "source": [
    "def _insert(graph, node1, node2):\n",
    "    if node1 in graph:\n",
    "        graph[node1].append(node2)\n",
    "    else:\n",
    "        graph[node1] = [node2]"
   ]
  },
  {
   "cell_type": "code",
   "execution_count": 72,
   "metadata": {
    "ExecuteTime": {
     "end_time": "2020-04-28T01:24:41.372423Z",
     "start_time": "2020-04-28T01:24:41.370220Z"
    }
   },
   "outputs": [],
   "source": [
    "def _add_edge(graph, node1, node2):\n",
    "    _insert(graph, node1, node2)\n",
    "    _insert(graph, node2, node1)"
   ]
  },
  {
   "cell_type": "code",
   "execution_count": 73,
   "metadata": {
    "ExecuteTime": {
     "end_time": "2020-04-28T01:24:46.926977Z",
     "start_time": "2020-04-28T01:24:46.915179Z"
    }
   },
   "outputs": [],
   "source": [
    "graph = {}\n",
    "for cam_and_pos in cam_and_poss:\n",
    "    node_cam = nodes_cam[cam_and_pos['cam']]\n",
    "    node_pos = nodes_pos[cam_and_pos['pos']]\n",
    "    _add_edge(graph, node_cam, node_pos)"
   ]
  },
  {
   "cell_type": "code",
   "execution_count": 74,
   "metadata": {
    "ExecuteTime": {
     "end_time": "2020-04-28T01:24:47.856861Z",
     "start_time": "2020-04-28T01:24:47.850120Z"
    }
   },
   "outputs": [
    {
     "data": {
      "text/plain": [
       "{CamNode(16276941): [PosNode(2), PosNode(1)],\n",
       " PosNode(2): [CamNode(16276941), CamNode(16276942)],\n",
       " CamNode(19061245): [PosNode(1)],\n",
       " PosNode(1): [CamNode(19061245), CamNode(16276942), CamNode(16276941)],\n",
       " CamNode(16276942): [PosNode(1), PosNode(2)]}"
      ]
     },
     "execution_count": 74,
     "metadata": {},
     "output_type": "execute_result"
    }
   ],
   "source": [
    "graph"
   ]
  },
  {
   "cell_type": "markdown",
   "metadata": {},
   "source": [
    "Do BFS to get Pose spanning tree"
   ]
  },
  {
   "cell_type": "code",
   "execution_count": 164,
   "metadata": {
    "ExecuteTime": {
     "end_time": "2020-04-28T17:59:36.911282Z",
     "start_time": "2020-04-28T17:59:36.905531Z"
    }
   },
   "outputs": [],
   "source": [
    "def bfs(graph, node_root):         \n",
    "    queue   = []\n",
    "    visited = dict.fromkeys(graph.keys(), False)\n",
    "    \n",
    "    def _add_queue(node_curr, node_prnt):\n",
    "        queue.append([node_curr, node_prnt])\n",
    "        visited[node_curr] = True\n",
    "    \n",
    "    _add_queue(node_root, None) # Root node has no parent\n",
    "    while queue:\n",
    "        node_curr, node_prnt = queue.pop(0)\n",
    "        yield node_curr, node_prnt # Return current node and its parent\n",
    "        for node_nebr in graph[node_curr]:\n",
    "            if not visited[node_nebr]:               \n",
    "                _add_queue(node_nebr, node_curr)\n",
    "    \n",
    "    if not np.all(np.array(list(visited.values()))):\n",
    "        raise RuntimeError('Graph is disjoint!')"
   ]
  },
  {
   "cell_type": "code",
   "execution_count": 165,
   "metadata": {
    "ExecuteTime": {
     "end_time": "2020-04-28T17:59:45.532106Z",
     "start_time": "2020-04-28T17:59:45.522687Z"
    }
   },
   "outputs": [
    {
     "name": "stdout",
     "output_type": "stream",
     "text": [
      "CamNode(19061245) None\n",
      "PosNode(1) CamNode(19061245)\n",
      "CamNode(16276942) PosNode(1)\n",
      "CamNode(16276941) PosNode(1)\n",
      "PosNode(2) CamNode(16276942)\n"
     ]
    }
   ],
   "source": [
    "node_root = nodes_cam['19061245']\n",
    "for node_curr, node_prnt in bfs(graph, node_root):\n",
    "    print(node_curr, node_prnt)"
   ]
  },
  {
   "cell_type": "code",
   "execution_count": 148,
   "metadata": {
    "ExecuteTime": {
     "end_time": "2020-04-28T17:34:33.604261Z",
     "start_time": "2020-04-28T17:34:33.600920Z"
    }
   },
   "outputs": [
    {
     "data": {
      "text/plain": [
       "{'1', '2'}"
      ]
     },
     "execution_count": 148,
     "metadata": {},
     "output_type": "execute_result"
    }
   ],
   "source": [
    "{'1','2'}"
   ]
  },
  {
   "cell_type": "code",
   "execution_count": 149,
   "metadata": {
    "ExecuteTime": {
     "end_time": "2020-04-28T17:34:37.740817Z",
     "start_time": "2020-04-28T17:34:37.735014Z"
    }
   },
   "outputs": [
    {
     "data": {
      "text/plain": [
       "{'1', '2'}"
      ]
     },
     "execution_count": 149,
     "metadata": {},
     "output_type": "execute_result"
    }
   ],
   "source": [
    "{'2','1'}"
   ]
  },
  {
   "cell_type": "code",
   "execution_count": 151,
   "metadata": {
    "ExecuteTime": {
     "end_time": "2020-04-28T17:34:58.166393Z",
     "start_time": "2020-04-28T17:34:58.149560Z"
    }
   },
   "outputs": [
    {
     "ename": "TypeError",
     "evalue": "unhashable type: 'set'",
     "output_type": "error",
     "traceback": [
      "\u001b[0;31m---------------------------------------------------------------------------\u001b[0m",
      "\u001b[0;31mTypeError\u001b[0m                                 Traceback (most recent call last)",
      "\u001b[0;32m<ipython-input-151-a2c8cbb663ae>\u001b[0m in \u001b[0;36m<module>\u001b[0;34m\u001b[0m\n\u001b[1;32m      1\u001b[0m \u001b[0ma\u001b[0m \u001b[0;34m=\u001b[0m \u001b[0;34m{\u001b[0m\u001b[0;34m}\u001b[0m\u001b[0;34m\u001b[0m\u001b[0;34m\u001b[0m\u001b[0m\n\u001b[0;32m----> 2\u001b[0;31m \u001b[0ma\u001b[0m\u001b[0;34m[\u001b[0m\u001b[0;34m{\u001b[0m\u001b[0;34m'2'\u001b[0m\u001b[0;34m,\u001b[0m\u001b[0;34m'1'\u001b[0m\u001b[0;34m}\u001b[0m\u001b[0;34m]\u001b[0m \u001b[0;34m=\u001b[0m \u001b[0;34m'test'\u001b[0m\u001b[0;34m\u001b[0m\u001b[0;34m\u001b[0m\u001b[0m\n\u001b[0m",
      "\u001b[0;31mTypeError\u001b[0m: unhashable type: 'set'"
     ]
    }
   ],
   "source": [
    "a = {}\n",
    "a[{'2','1'}] = 'test'"
   ]
  },
  {
   "cell_type": "code",
   "execution_count": 167,
   "metadata": {
    "ExecuteTime": {
     "end_time": "2020-04-28T18:09:27.260181Z",
     "start_time": "2020-04-28T18:09:27.254129Z"
    }
   },
   "outputs": [
    {
     "data": {
      "text/plain": [
       "{'test': 5}"
      ]
     },
     "execution_count": 167,
     "metadata": {},
     "output_type": "execute_result"
    }
   ],
   "source": [
    "import networkx as nx\n",
    "G=nx.Graph()\n",
    "G.add_edge(1,2, test=5)\n",
    "G.get_edge_data(1,2)"
   ]
  },
  {
   "cell_type": "code",
   "execution_count": 171,
   "metadata": {
    "ExecuteTime": {
     "end_time": "2020-04-28T18:24:53.683674Z",
     "start_time": "2020-04-28T18:24:53.658382Z"
    }
   },
   "outputs": [],
   "source": [
    "G.get_edge_data??"
   ]
  },
  {
   "cell_type": "code",
   "execution_count": 170,
   "metadata": {
    "ExecuteTime": {
     "end_time": "2020-04-28T18:21:03.524709Z",
     "start_time": "2020-04-28T18:21:03.517387Z"
    }
   },
   "outputs": [
    {
     "data": {
      "text/plain": [
       "{1: {2: {'test': 5}}, 2: {1: {'test': 5}}}"
      ]
     },
     "execution_count": 170,
     "metadata": {},
     "output_type": "execute_result"
    }
   ],
   "source": [
    "G._adj"
   ]
  },
  {
   "cell_type": "code",
   "execution_count": 172,
   "metadata": {
    "ExecuteTime": {
     "end_time": "2020-04-28T18:25:11.362297Z",
     "start_time": "2020-04-28T18:25:11.331036Z"
    }
   },
   "outputs": [],
   "source": [
    "G.add_edge??"
   ]
  },
  {
   "cell_type": "code",
   "execution_count": null,
   "metadata": {},
   "outputs": [],
   "source": []
  }
 ],
 "metadata": {
  "kernelspec": {
   "display_name": "Python 3",
   "language": "python",
   "name": "python3"
  },
  "language_info": {
   "codemirror_mode": {
    "name": "ipython",
    "version": 3
   },
   "file_extension": ".py",
   "mimetype": "text/x-python",
   "name": "python",
   "nbconvert_exporter": "python",
   "pygments_lexer": "ipython3",
   "version": "3.6.9"
  },
  "varInspector": {
   "cols": {
    "lenName": 16,
    "lenType": 16,
    "lenVar": 40
   },
   "kernels_config": {
    "python": {
     "delete_cmd_postfix": "",
     "delete_cmd_prefix": "del ",
     "library": "var_list.py",
     "varRefreshCmd": "print(var_dic_list())"
    },
    "r": {
     "delete_cmd_postfix": ") ",
     "delete_cmd_prefix": "rm(",
     "library": "var_list.r",
     "varRefreshCmd": "cat(var_dic_list()) "
    }
   },
   "types_to_exclude": [
    "module",
    "function",
    "builtin_function_or_method",
    "instance",
    "_Feature"
   ],
   "window_display": false
  }
 },
 "nbformat": 4,
 "nbformat_minor": 2
}
