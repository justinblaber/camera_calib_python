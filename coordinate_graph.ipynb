{
 "cells": [
  {
   "cell_type": "code",
   "execution_count": 1,
   "metadata": {
    "ExecuteTime": {
     "end_time": "2020-06-11T01:42:53.074303Z",
     "start_time": "2020-06-11T01:42:52.039656Z"
    }
   },
   "outputs": [],
   "source": [
    "import re\n",
    "from pathlib import Path\n",
    "\n",
    "import matplotlib.pyplot as plt\n",
    "import networkx as nx\n",
    "import numpy as np\n",
    "import pandas as pd\n",
    "import torch\n",
    "\n",
    "from camera_calib_python.calib import single_calib_f\n",
    "from camera_calib_python.cb_geom import CbGeom, CpCSRGrid, FmCFPGrid\n",
    "from camera_calib_python.control_refine import (CheckerRefiner,\n",
    "                                                OpenCVCheckerRefiner)\n",
    "from camera_calib_python.fiducial_detect import DotVisionCheckerDLDetector\n",
    "from camera_calib_python.image import File16bitImg\n",
    "from camera_calib_python.modules import *\n",
    "from camera_calib_python.utils import *"
   ]
  },
  {
   "cell_type": "code",
   "execution_count": 2,
   "metadata": {
    "ExecuteTime": {
     "end_time": "2020-06-11T01:42:53.078361Z",
     "start_time": "2020-06-11T01:42:53.075659Z"
    }
   },
   "outputs": [],
   "source": [
    "from IPython.core.debugger import set_trace"
   ]
  },
  {
   "cell_type": "markdown",
   "metadata": {},
   "source": [
    "# Image file name parsing"
   ]
  },
  {
   "cell_type": "markdown",
   "metadata": {},
   "source": [
    "Need to get image path, pose, and camera so we can construct coordinate graph."
   ]
  },
  {
   "cell_type": "code",
   "execution_count": 3,
   "metadata": {
    "ExecuteTime": {
     "end_time": "2020-06-11T01:42:53.092433Z",
     "start_time": "2020-06-11T01:42:53.080071Z"
    }
   },
   "outputs": [],
   "source": [
    "dir_data = Path('data/dot_vision_checker')"
   ]
  },
  {
   "cell_type": "code",
   "execution_count": 4,
   "metadata": {
    "ExecuteTime": {
     "end_time": "2020-06-11T01:42:53.100632Z",
     "start_time": "2020-06-11T01:42:53.093414Z"
    }
   },
   "outputs": [
    {
     "data": {
      "text/plain": [
       "[PosixPath('data/dot_vision_checker/SERIAL_16276941_DATETIME_2019-06-07-00:38:48-109732_CAM_2_FRAMEID_0_COUNTER_2.png'),\n",
       " PosixPath('data/dot_vision_checker/SERIAL_19061245_DATETIME_2019-06-07-00:38:19-438594_CAM_1_FRAMEID_0_COUNTER_1.png'),\n",
       " PosixPath('data/dot_vision_checker/SERIAL_16276942_DATETIME_2019-06-07-00:38:19-438636_CAM_3_FRAMEID_0_COUNTER_1.png'),\n",
       " PosixPath('data/dot_vision_checker/SERIAL_16276942_DATETIME_2019-06-07-00:38:48-109736_CAM_3_FRAMEID_0_COUNTER_2.png'),\n",
       " PosixPath('data/dot_vision_checker/SERIAL_16276941_DATETIME_2019-06-07-00:38:19-438631_CAM_2_FRAMEID_0_COUNTER_1.png')]"
      ]
     },
     "execution_count": 4,
     "metadata": {},
     "output_type": "execute_result"
    }
   ],
   "source": [
    "files_img = list(dir_data.glob('*.png'))\n",
    "files_img"
   ]
  },
  {
   "cell_type": "code",
   "execution_count": 5,
   "metadata": {
    "ExecuteTime": {
     "end_time": "2020-06-11T01:42:53.104471Z",
     "start_time": "2020-06-11T01:42:53.101486Z"
    }
   },
   "outputs": [],
   "source": [
    "def _parse_name(name_img):\n",
    "    match = re.match(r\"\"\"SERIAL_(?P<serial>.*)_\n",
    "                         DATETIME_(?P<date>.*)_\n",
    "                         CAM_(?P<cam>.*)_\n",
    "                         FRAMEID_(?P<frameid>.*)_\n",
    "                         COUNTER_(?P<counter>.*).png\"\"\", \n",
    "                     name_img, \n",
    "                     re.VERBOSE)\n",
    "    return match.groupdict()"
   ]
  },
  {
   "cell_type": "code",
   "execution_count": 6,
   "metadata": {
    "ExecuteTime": {
     "end_time": "2020-06-11T01:42:53.126518Z",
     "start_time": "2020-06-11T01:42:53.106380Z"
    }
   },
   "outputs": [],
   "source": [
    "df_icp = pd.DataFrame(columns=['img', 'idx_cam', 'idx_pos'])\n",
    "for file_img in files_img:\n",
    "    dict_group = _parse_name(file_img.name)\n",
    "    df_icp = df_icp.append({'img': File16bitImg(file_img),\n",
    "                            'idx_cam': int(dict_group['cam'])-1,\n",
    "                            'idx_pos': int(dict_group['counter'])-1}, ignore_index=True)"
   ]
  },
  {
   "cell_type": "code",
   "execution_count": 7,
   "metadata": {
    "ExecuteTime": {
     "end_time": "2020-06-11T01:42:53.141298Z",
     "start_time": "2020-06-11T01:42:53.127792Z"
    }
   },
   "outputs": [
    {
     "data": {
      "text/html": [
       "<div>\n",
       "<style scoped>\n",
       "    .dataframe tbody tr th:only-of-type {\n",
       "        vertical-align: middle;\n",
       "    }\n",
       "\n",
       "    .dataframe tbody tr th {\n",
       "        vertical-align: top;\n",
       "    }\n",
       "\n",
       "    .dataframe thead th {\n",
       "        text-align: right;\n",
       "    }\n",
       "</style>\n",
       "<table border=\"1\" class=\"dataframe\">\n",
       "  <thead>\n",
       "    <tr style=\"text-align: right;\">\n",
       "      <th></th>\n",
       "      <th>img</th>\n",
       "      <th>idx_cam</th>\n",
       "      <th>idx_pos</th>\n",
       "    </tr>\n",
       "  </thead>\n",
       "  <tbody>\n",
       "    <tr>\n",
       "      <th>0</th>\n",
       "      <td>File16bitImg(SERIAL_16276941_DATETIME_2019-06-...</td>\n",
       "      <td>1</td>\n",
       "      <td>1</td>\n",
       "    </tr>\n",
       "    <tr>\n",
       "      <th>1</th>\n",
       "      <td>File16bitImg(SERIAL_19061245_DATETIME_2019-06-...</td>\n",
       "      <td>0</td>\n",
       "      <td>0</td>\n",
       "    </tr>\n",
       "    <tr>\n",
       "      <th>2</th>\n",
       "      <td>File16bitImg(SERIAL_16276942_DATETIME_2019-06-...</td>\n",
       "      <td>2</td>\n",
       "      <td>0</td>\n",
       "    </tr>\n",
       "    <tr>\n",
       "      <th>3</th>\n",
       "      <td>File16bitImg(SERIAL_16276942_DATETIME_2019-06-...</td>\n",
       "      <td>2</td>\n",
       "      <td>1</td>\n",
       "    </tr>\n",
       "    <tr>\n",
       "      <th>4</th>\n",
       "      <td>File16bitImg(SERIAL_16276941_DATETIME_2019-06-...</td>\n",
       "      <td>1</td>\n",
       "      <td>0</td>\n",
       "    </tr>\n",
       "  </tbody>\n",
       "</table>\n",
       "</div>"
      ],
      "text/plain": [
       "                                                 img idx_cam idx_pos\n",
       "0  File16bitImg(SERIAL_16276941_DATETIME_2019-06-...       1       1\n",
       "1  File16bitImg(SERIAL_19061245_DATETIME_2019-06-...       0       0\n",
       "2  File16bitImg(SERIAL_16276942_DATETIME_2019-06-...       2       0\n",
       "3  File16bitImg(SERIAL_16276942_DATETIME_2019-06-...       2       1\n",
       "4  File16bitImg(SERIAL_16276941_DATETIME_2019-06-...       1       0"
      ]
     },
     "execution_count": 7,
     "metadata": {},
     "output_type": "execute_result"
    }
   ],
   "source": [
    "df_icp"
   ]
  },
  {
   "cell_type": "markdown",
   "metadata": {},
   "source": [
    "# Initialize"
   ]
  },
  {
   "cell_type": "markdown",
   "metadata": {},
   "source": [
    "Camera calibration stuff"
   ]
  },
  {
   "cell_type": "code",
   "execution_count": 8,
   "metadata": {
    "ExecuteTime": {
     "end_time": "2020-06-11T01:42:53.146833Z",
     "start_time": "2020-06-11T01:42:53.142384Z"
    }
   },
   "outputs": [],
   "source": [
    "h_cb = 50.8\n",
    "w_cb = 50.8\n",
    "h_f = 42.672\n",
    "w_f = 42.672\n",
    "num_c_h = 16\n",
    "num_c_w = 16\n",
    "spacing_c = 2.032\n",
    "cb_geom = CbGeom(h_cb, w_cb,\n",
    "                 CpCSRGrid(num_c_h, num_c_w, spacing_c),\n",
    "                 FmCFPGrid(h_f, w_f))"
   ]
  },
  {
   "cell_type": "code",
   "execution_count": 9,
   "metadata": {
    "ExecuteTime": {
     "end_time": "2020-06-11T01:42:53.171917Z",
     "start_time": "2020-06-11T01:42:53.147936Z"
    }
   },
   "outputs": [],
   "source": [
    "file_model = Path('models/dot_vision_checker.pth')\n",
    "detector = DotVisionCheckerDLDetector(file_model)"
   ]
  },
  {
   "cell_type": "code",
   "execution_count": 10,
   "metadata": {
    "ExecuteTime": {
     "end_time": "2020-06-11T01:42:53.177443Z",
     "start_time": "2020-06-11T01:42:53.173158Z"
    }
   },
   "outputs": [],
   "source": [
    "refiner = OpenCVCheckerRefiner(hw_min=5, hw_max=15, cutoff_it=20, cutoff_norm=1e-3)"
   ]
  },
  {
   "cell_type": "markdown",
   "metadata": {},
   "source": [
    "Get and order camera and pos indices"
   ]
  },
  {
   "cell_type": "code",
   "execution_count": 11,
   "metadata": {
    "ExecuteTime": {
     "end_time": "2020-06-11T01:42:53.183992Z",
     "start_time": "2020-06-11T01:42:53.178470Z"
    }
   },
   "outputs": [],
   "source": [
    "idxs_cam = np.sort(df_icp.idx_cam.unique())\n",
    "idxs_pos = np.sort(df_icp.idx_pos.unique())"
   ]
  },
  {
   "cell_type": "code",
   "execution_count": 12,
   "metadata": {
    "ExecuteTime": {
     "end_time": "2020-06-11T01:42:53.190255Z",
     "start_time": "2020-06-11T01:42:53.184963Z"
    }
   },
   "outputs": [],
   "source": [
    "assert_allclose(idxs_cam, np.arange(len(idxs_cam)))\n",
    "assert_allclose(idxs_pos, np.arange(len(idxs_pos)))"
   ]
  },
  {
   "cell_type": "markdown",
   "metadata": {},
   "source": [
    "Do single camera calibration and store results in coordinate graph"
   ]
  },
  {
   "cell_type": "code",
   "execution_count": 13,
   "metadata": {
    "ExecuteTime": {
     "end_time": "2020-06-11T01:42:53.197299Z",
     "start_time": "2020-06-11T01:42:53.191244Z"
    }
   },
   "outputs": [],
   "source": [
    "class Node:\n",
    "    def __init__(self, label):\n",
    "        self.label = label\n",
    "        self.M = None # Affine transfrom from this coordinate system to the root coordinate system\n",
    "        \n",
    "    def __repr__(self):\n",
    "        return f'{self.__class__.__name__}({self.label})'"
   ]
  },
  {
   "cell_type": "code",
   "execution_count": 14,
   "metadata": {
    "ExecuteTime": {
     "end_time": "2020-06-11T01:42:53.203540Z",
     "start_time": "2020-06-11T01:42:53.198483Z"
    }
   },
   "outputs": [],
   "source": [
    "class CamNode(Node):\n",
    "    def __init__(self, label, cam, distort):\n",
    "        super().__init__(label)\n",
    "        self.cam, self.distort = cam, distort"
   ]
  },
  {
   "cell_type": "code",
   "execution_count": 15,
   "metadata": {
    "ExecuteTime": {
     "end_time": "2020-06-11T01:42:53.210019Z",
     "start_time": "2020-06-11T01:42:53.204474Z"
    }
   },
   "outputs": [],
   "source": [
    "class PosNode(Node):\n",
    "    def __init__(self, label):\n",
    "        super().__init__(label)"
   ]
  },
  {
   "cell_type": "code",
   "execution_count": 16,
   "metadata": {
    "ExecuteTime": {
     "end_time": "2020-06-11T01:42:53.216154Z",
     "start_time": "2020-06-11T01:42:53.211147Z"
    }
   },
   "outputs": [],
   "source": [
    "G = nx.DiGraph()"
   ]
  },
  {
   "cell_type": "code",
   "execution_count": 17,
   "metadata": {
    "ExecuteTime": {
     "end_time": "2020-06-11T01:43:04.930787Z",
     "start_time": "2020-06-11T01:42:53.217170Z"
    }
   },
   "outputs": [
    {
     "name": "stdout",
     "output_type": "stream",
     "text": [
      "Refining control points for: SERIAL_19061245_DATETIME_2019-06-07-00:38:19-438594_CAM_1_FRAMEID_0_COUNTER_1...\n",
      "Refining parameters...\n",
      " - Iteration: 000 - Norm:    0.00483 - Loss:    5.36058\n",
      " - Iteration: 001 - Norm:    0.15146 - Loss:    3.71881\n",
      " - Iteration: 002 - Norm:    3.92902 - Loss:    3.49835\n",
      " - Iteration: 003 - Norm:    7.61183 - Loss:    3.26027\n",
      " - Iteration: 004 - Norm:   53.26645 - Loss:    1.69542\n",
      " - Iteration: 005 - Norm:    0.00000 - Loss:    1.69542\n",
      "Refining control points for: SERIAL_16276941_DATETIME_2019-06-07-00:38:48-109732_CAM_2_FRAMEID_0_COUNTER_2...\n",
      "Refining control points for: SERIAL_16276941_DATETIME_2019-06-07-00:38:19-438631_CAM_2_FRAMEID_0_COUNTER_1...\n",
      "Refining parameters...\n",
      " - Iteration: 000 - Norm:    0.04100 - Loss:  145.66077\n",
      " - Iteration: 001 - Norm:    0.13687 - Loss:   83.93632\n",
      " - Iteration: 002 - Norm:    0.84322 - Loss:    3.98970\n",
      " - Iteration: 003 - Norm:    0.27753 - Loss:    3.59056\n",
      " - Iteration: 004 - Norm:    6.16048 - Loss:    3.37696\n",
      " - Iteration: 005 - Norm:   21.15202 - Loss:    2.63034\n",
      " - Iteration: 006 - Norm:    0.00000 - Loss:    2.63034\n",
      "Refining control points for: SERIAL_16276942_DATETIME_2019-06-07-00:38:19-438636_CAM_3_FRAMEID_0_COUNTER_1...\n",
      "Refining control points for: SERIAL_16276942_DATETIME_2019-06-07-00:38:48-109736_CAM_3_FRAMEID_0_COUNTER_2...\n",
      "Refining parameters...\n",
      " - Iteration: 000 - Norm:    0.04608 - Loss:   59.65914\n",
      " - Iteration: 001 - Norm:    0.17380 - Loss:   21.75514\n",
      " - Iteration: 002 - Norm:    0.19863 - Loss:   10.38609\n",
      " - Iteration: 003 - Norm:    0.12684 - Loss:   10.02735\n",
      " - Iteration: 004 - Norm:   89.80061 - Loss:    5.97396\n",
      " - Iteration: 005 - Norm:   16.32146 - Loss:    1.76116\n",
      " - Iteration: 006 - Norm:    0.00000 - Loss:    1.76116\n"
     ]
    }
   ],
   "source": [
    "nodes_pos = [PosNode(idx_pos) for idx_pos in idxs_pos]\n",
    "nodes_cam = []\n",
    "df_icp['ps_c_p'] = pd.Series([], dtype=object) # Initializes column type\n",
    "for idx_cam in np.sort(df_icp.idx_cam.unique()):\n",
    "    imgs_cam = df_icp[df_icp.idx_cam == idx_cam].img.to_list()\n",
    "    cam, distort, rigids, (pss_c_p, _) = single_calib(imgs_cam, cb_geom, detector, refiner)\n",
    "    df_icp.loc[df_icp[df_icp.idx_cam == idx_cam].index, 'ps_c_p'] = pss_c_p\n",
    "    node_cam = CamNode(idx_cam, cam, distort)\n",
    "    for img_cam, m_rigid in zip(imgs_cam, rigids):\n",
    "        row_icp = df_icp[df_icp.img == img_cam]\n",
    "        node_pos = nodes_pos[row_icp.idx_pos.item()]\n",
    "        G.add_edge(node_pos, node_cam, m_rigid=m_rigid)\n",
    "        G.add_edge(node_cam, node_pos, m_rigid=Inverse(m_rigid))\n",
    "    nodes_cam.append(node_cam)"
   ]
  },
  {
   "cell_type": "code",
   "execution_count": 18,
   "metadata": {
    "ExecuteTime": {
     "end_time": "2020-06-11T01:43:04.996708Z",
     "start_time": "2020-06-11T01:43:04.933281Z"
    }
   },
   "outputs": [
    {
     "data": {
      "text/html": [
       "<div>\n",
       "<style scoped>\n",
       "    .dataframe tbody tr th:only-of-type {\n",
       "        vertical-align: middle;\n",
       "    }\n",
       "\n",
       "    .dataframe tbody tr th {\n",
       "        vertical-align: top;\n",
       "    }\n",
       "\n",
       "    .dataframe thead th {\n",
       "        text-align: right;\n",
       "    }\n",
       "</style>\n",
       "<table border=\"1\" class=\"dataframe\">\n",
       "  <thead>\n",
       "    <tr style=\"text-align: right;\">\n",
       "      <th></th>\n",
       "      <th>img</th>\n",
       "      <th>idx_cam</th>\n",
       "      <th>idx_pos</th>\n",
       "      <th>ps_c_p</th>\n",
       "    </tr>\n",
       "  </thead>\n",
       "  <tbody>\n",
       "    <tr>\n",
       "      <th>0</th>\n",
       "      <td>File16bitImg(SERIAL_16276941_DATETIME_2019-06-...</td>\n",
       "      <td>1</td>\n",
       "      <td>1</td>\n",
       "      <td>[[1071.9211135484697, 565.8056310561878], [102...</td>\n",
       "    </tr>\n",
       "    <tr>\n",
       "      <th>1</th>\n",
       "      <td>File16bitImg(SERIAL_19061245_DATETIME_2019-06-...</td>\n",
       "      <td>0</td>\n",
       "      <td>0</td>\n",
       "      <td>[[1561.8121472966093, 770.4002155480954], [154...</td>\n",
       "    </tr>\n",
       "    <tr>\n",
       "      <th>2</th>\n",
       "      <td>File16bitImg(SERIAL_16276942_DATETIME_2019-06-...</td>\n",
       "      <td>2</td>\n",
       "      <td>0</td>\n",
       "      <td>[[1278.5818720675918, 816.6561685414962], [124...</td>\n",
       "    </tr>\n",
       "    <tr>\n",
       "      <th>3</th>\n",
       "      <td>File16bitImg(SERIAL_16276942_DATETIME_2019-06-...</td>\n",
       "      <td>2</td>\n",
       "      <td>1</td>\n",
       "      <td>[[860.2190376313916, 635.1841570918837], [820....</td>\n",
       "    </tr>\n",
       "    <tr>\n",
       "      <th>4</th>\n",
       "      <td>File16bitImg(SERIAL_16276941_DATETIME_2019-06-...</td>\n",
       "      <td>1</td>\n",
       "      <td>0</td>\n",
       "      <td>[[1505.8628106094825, 775.0347973776888], [147...</td>\n",
       "    </tr>\n",
       "  </tbody>\n",
       "</table>\n",
       "</div>"
      ],
      "text/plain": [
       "                                                 img idx_cam idx_pos  \\\n",
       "0  File16bitImg(SERIAL_16276941_DATETIME_2019-06-...       1       1   \n",
       "1  File16bitImg(SERIAL_19061245_DATETIME_2019-06-...       0       0   \n",
       "2  File16bitImg(SERIAL_16276942_DATETIME_2019-06-...       2       0   \n",
       "3  File16bitImg(SERIAL_16276942_DATETIME_2019-06-...       2       1   \n",
       "4  File16bitImg(SERIAL_16276941_DATETIME_2019-06-...       1       0   \n",
       "\n",
       "                                              ps_c_p  \n",
       "0  [[1071.9211135484697, 565.8056310561878], [102...  \n",
       "1  [[1561.8121472966093, 770.4002155480954], [154...  \n",
       "2  [[1278.5818720675918, 816.6561685414962], [124...  \n",
       "3  [[860.2190376313916, 635.1841570918837], [820....  \n",
       "4  [[1505.8628106094825, 775.0347973776888], [147...  "
      ]
     },
     "execution_count": 18,
     "metadata": {},
     "output_type": "execute_result"
    }
   ],
   "source": [
    "df_icp"
   ]
  },
  {
   "cell_type": "code",
   "execution_count": 19,
   "metadata": {
    "ExecuteTime": {
     "end_time": "2020-06-11T01:43:05.010055Z",
     "start_time": "2020-06-11T01:43:04.998331Z"
    }
   },
   "outputs": [],
   "source": [
    "def draw_bipartite(G, nodes_cam, nodes_pos):\n",
    "    def _get_p(nodes, x):\n",
    "        return {node: (x, y) for node,y in zip(nodes, np.linspace(0, 1, len(nodes)))}\n",
    "\n",
    "    nx.draw(G, \n",
    "            node_color=['g' if isinstance(node, CamNode) else 'r' for node in G], \n",
    "            pos={**_get_p(nodes_cam, 0), \n",
    "                 **_get_p(nodes_pos, 1)}, \n",
    "            with_labels=True)\n",
    "    plt.xlim(-0.5, 1.5);\n",
    "    plt.ylim(-0.5, 1.5);"
   ]
  },
  {
   "cell_type": "code",
   "execution_count": 20,
   "metadata": {
    "ExecuteTime": {
     "end_time": "2020-06-11T01:43:05.179977Z",
     "start_time": "2020-06-11T01:43:05.011177Z"
    }
   },
   "outputs": [
    {
     "data": {
      "image/png": "[encoded data removed]",
      "text/plain": [
       "<Figure size 432x288 with 1 Axes>"
      ]
     },
     "metadata": {},
     "output_type": "display_data"
    }
   ],
   "source": [
    "draw_bipartite(G, nodes_cam, nodes_pos)"
   ]
  },
  {
   "cell_type": "markdown",
   "metadata": {},
   "source": [
    "Do BFS and compose transforms to get the transform from each coordinate node to the root node (master camera)"
   ]
  },
  {
   "cell_type": "code",
   "execution_count": 21,
   "metadata": {
    "ExecuteTime": {
     "end_time": "2020-06-11T01:43:05.182762Z",
     "start_time": "2020-06-11T01:43:05.181027Z"
    }
   },
   "outputs": [],
   "source": [
    "node_root = nodes_cam[0]"
   ]
  },
  {
   "cell_type": "code",
   "execution_count": 22,
   "metadata": {
    "ExecuteTime": {
     "end_time": "2020-06-11T01:43:05.193221Z",
     "start_time": "2020-06-11T01:43:05.183788Z"
    }
   },
   "outputs": [],
   "source": [
    "node_root.M = torch.eye(4, dtype=torch.double)\n",
    "for (node_prnt, node_chld) in nx.bfs_edges(G, node_root):\n",
    "    node_chld.M = node_prnt.M@G.get_edge_data(node_chld, node_prnt)['m_rigid'].get_param()"
   ]
  },
  {
   "cell_type": "markdown",
   "metadata": {},
   "source": [
    "Gather modules"
   ]
  },
  {
   "cell_type": "code",
   "execution_count": 23,
   "metadata": {
    "ExecuteTime": {
     "end_time": "2020-06-11T01:43:05.198897Z",
     "start_time": "2020-06-11T01:43:05.194317Z"
    }
   },
   "outputs": [],
   "source": [
    "cams = [nodes_cam[idx].cam for idx in idxs_cam]\n",
    "distorts = [nodes_cam[idx].distort for idx in idxs_cam]\n",
    "rigids_pos = [Rigid(*M2Rt(nodes_pos[idx].M)) for idx in idxs_pos]\n",
    "rigids_cam = [Rigid(*M2Rt(invert_rigid(nodes_cam[idx].M))) for idx in idxs_cam]"
   ]
  },
  {
   "cell_type": "markdown",
   "metadata": {},
   "source": [
    "Get ms_w2p transformations"
   ]
  },
  {
   "cell_type": "code",
   "execution_count": 24,
   "metadata": {
    "ExecuteTime": {
     "end_time": "2020-06-11T01:43:05.261189Z",
     "start_time": "2020-06-11T01:43:05.200054Z"
    }
   },
   "outputs": [
    {
     "data": {
      "text/html": [
       "<div>\n",
       "<style scoped>\n",
       "    .dataframe tbody tr th:only-of-type {\n",
       "        vertical-align: middle;\n",
       "    }\n",
       "\n",
       "    .dataframe tbody tr th {\n",
       "        vertical-align: top;\n",
       "    }\n",
       "\n",
       "    .dataframe thead th {\n",
       "        text-align: right;\n",
       "    }\n",
       "</style>\n",
       "<table border=\"1\" class=\"dataframe\">\n",
       "  <thead>\n",
       "    <tr style=\"text-align: right;\">\n",
       "      <th></th>\n",
       "      <th>img</th>\n",
       "      <th>idx_cam</th>\n",
       "      <th>idx_pos</th>\n",
       "      <th>ps_c_p</th>\n",
       "    </tr>\n",
       "  </thead>\n",
       "  <tbody>\n",
       "    <tr>\n",
       "      <th>0</th>\n",
       "      <td>File16bitImg(SERIAL_16276941_DATETIME_2019-06-...</td>\n",
       "      <td>1</td>\n",
       "      <td>1</td>\n",
       "      <td>[[1071.9211135484697, 565.8056310561878], [102...</td>\n",
       "    </tr>\n",
       "    <tr>\n",
       "      <th>1</th>\n",
       "      <td>File16bitImg(SERIAL_19061245_DATETIME_2019-06-...</td>\n",
       "      <td>0</td>\n",
       "      <td>0</td>\n",
       "      <td>[[1561.8121472966093, 770.4002155480954], [154...</td>\n",
       "    </tr>\n",
       "    <tr>\n",
       "      <th>2</th>\n",
       "      <td>File16bitImg(SERIAL_16276942_DATETIME_2019-06-...</td>\n",
       "      <td>2</td>\n",
       "      <td>0</td>\n",
       "      <td>[[1278.5818720675918, 816.6561685414962], [124...</td>\n",
       "    </tr>\n",
       "    <tr>\n",
       "      <th>3</th>\n",
       "      <td>File16bitImg(SERIAL_16276942_DATETIME_2019-06-...</td>\n",
       "      <td>2</td>\n",
       "      <td>1</td>\n",
       "      <td>[[860.2190376313916, 635.1841570918837], [820....</td>\n",
       "    </tr>\n",
       "    <tr>\n",
       "      <th>4</th>\n",
       "      <td>File16bitImg(SERIAL_16276941_DATETIME_2019-06-...</td>\n",
       "      <td>1</td>\n",
       "      <td>0</td>\n",
       "      <td>[[1505.8628106094825, 775.0347973776888], [147...</td>\n",
       "    </tr>\n",
       "  </tbody>\n",
       "</table>\n",
       "</div>"
      ],
      "text/plain": [
       "                                                 img idx_cam idx_pos  \\\n",
       "0  File16bitImg(SERIAL_16276941_DATETIME_2019-06-...       1       1   \n",
       "1  File16bitImg(SERIAL_19061245_DATETIME_2019-06-...       0       0   \n",
       "2  File16bitImg(SERIAL_16276942_DATETIME_2019-06-...       2       0   \n",
       "3  File16bitImg(SERIAL_16276942_DATETIME_2019-06-...       2       1   \n",
       "4  File16bitImg(SERIAL_16276941_DATETIME_2019-06-...       1       0   \n",
       "\n",
       "                                              ps_c_p  \n",
       "0  [[1071.9211135484697, 565.8056310561878], [102...  \n",
       "1  [[1561.8121472966093, 770.4002155480954], [154...  \n",
       "2  [[1278.5818720675918, 816.6561685414962], [124...  \n",
       "3  [[860.2190376313916, 635.1841570918837], [820....  \n",
       "4  [[1505.8628106094825, 775.0347973776888], [147...  "
      ]
     },
     "execution_count": 24,
     "metadata": {},
     "output_type": "execute_result"
    }
   ],
   "source": [
    "df_icp"
   ]
  },
  {
   "cell_type": "code",
   "execution_count": 25,
   "metadata": {
    "ExecuteTime": {
     "end_time": "2020-06-11T01:43:05.267621Z",
     "start_time": "2020-06-11T01:43:05.262129Z"
    }
   },
   "outputs": [],
   "source": [
    "df_icp['m_w2p'] = pd.Series([], dtype=object) # Initializes column type\n",
    "for idx, row_icp in df_icp.iterrows():\n",
    "     df_icp.loc[idx, 'm_w2p'] = torch.nn.Sequential(rigids_pos[row_icp.idx_pos],\n",
    "                                                    rigids_cam[row_icp.idx_cam],\n",
    "                                                    Normalize(), \n",
    "                                                    distorts[row_icp.idx_cam], \n",
    "                                                    cams[row_icp.idx_cam])"
   ]
  },
  {
   "cell_type": "code",
   "execution_count": 26,
   "metadata": {
    "ExecuteTime": {
     "end_time": "2020-06-11T01:43:05.276651Z",
     "start_time": "2020-06-11T01:43:05.268682Z"
    }
   },
   "outputs": [],
   "source": [
    "df_icp.ps_c_p = df_icp.ps_c_p.apply(torch.DoubleTensor)"
   ]
  },
  {
   "cell_type": "markdown",
   "metadata": {},
   "source": [
    "root camera has identity xform which shouldn't get updated"
   ]
  },
  {
   "cell_type": "code",
   "execution_count": 27,
   "metadata": {
    "ExecuteTime": {
     "end_time": "2020-06-11T01:43:05.282609Z",
     "start_time": "2020-06-11T01:43:05.277785Z"
    }
   },
   "outputs": [],
   "source": [
    "for p in rigids_cam[0].parameters():\n",
    "    p.requires_grad_(False)"
   ]
  },
  {
   "cell_type": "code",
   "execution_count": 28,
   "metadata": {
    "ExecuteTime": {
     "end_time": "2020-06-11T01:43:05.288784Z",
     "start_time": "2020-06-11T01:43:05.283649Z"
    }
   },
   "outputs": [],
   "source": [
    "def _get_params(): # skip first rigid_cam, which is just identity transform\n",
    "    return sum([list(m.parameters()) for m in cams + distorts + rigids_cam[1:] + rigids_pos], [])"
   ]
  },
  {
   "cell_type": "code",
   "execution_count": 29,
   "metadata": {
    "ExecuteTime": {
     "end_time": "2020-06-11T01:43:05.295051Z",
     "start_time": "2020-06-11T01:43:05.289798Z"
    }
   },
   "outputs": [],
   "source": [
    "# export\n",
    "def SSE(x1, x2): return ((x1-x2)**2).sum()"
   ]
  },
  {
   "cell_type": "code",
   "execution_count": 30,
   "metadata": {
    "ExecuteTime": {
     "end_time": "2020-06-11T01:43:05.301351Z",
     "start_time": "2020-06-11T01:43:05.296035Z"
    }
   },
   "outputs": [],
   "source": [
    "# Do nonlinear optimization\n",
    "def _get_loss():\n",
    "    ls = []\n",
    "    for _, row_icp in df_icp.iterrows():\n",
    "        m_w2p, ps_c_p = row_icp.m_w2p, row_icp.ps_c_p\n",
    "        idx = torch.where(torch.all(torch.isfinite(ps_c_p), dim=1))[0]\n",
    "        ls.append(loss(ps_c_p[idx], m_w2p(ps_c_w[idx])))\n",
    "    return sum(ls)"
   ]
  },
  {
   "cell_type": "code",
   "execution_count": 31,
   "metadata": {
    "ExecuteTime": {
     "end_time": "2020-06-11T01:43:05.307780Z",
     "start_time": "2020-06-11T01:43:05.302322Z"
    }
   },
   "outputs": [],
   "source": [
    "ps_c_w = cb_geom.ps_c"
   ]
  },
  {
   "cell_type": "code",
   "execution_count": 32,
   "metadata": {
    "ExecuteTime": {
     "end_time": "2020-06-11T01:43:05.313319Z",
     "start_time": "2020-06-11T01:43:05.309282Z"
    }
   },
   "outputs": [],
   "source": [
    "ps_c_w = torch.DoubleTensor(np.c_[ps_c_w, np.zeros(len(ps_c_w))]) # 3rd dimension is zero"
   ]
  },
  {
   "cell_type": "code",
   "execution_count": 34,
   "metadata": {
    "ExecuteTime": {
     "end_time": "2020-06-11T01:43:19.785496Z",
     "start_time": "2020-06-11T01:43:19.780119Z"
    }
   },
   "outputs": [],
   "source": [
    "cutoff_it = 500\n",
    "cutoff_norm = 1e-6\n",
    "loss = SSE"
   ]
  },
  {
   "cell_type": "code",
   "execution_count": 36,
   "metadata": {
    "ExecuteTime": {
     "end_time": "2020-06-11T01:43:26.523634Z",
     "start_time": "2020-06-11T01:43:26.513576Z"
    }
   },
   "outputs": [
    {
     "data": {
      "text/plain": [
       "tensor(15.7325, dtype=torch.float64, grad_fn=<AddBackward0>)"
      ]
     },
     "execution_count": 36,
     "metadata": {},
     "output_type": "execute_result"
    }
   ],
   "source": [
    "_get_loss()"
   ]
  },
  {
   "cell_type": "code",
   "execution_count": 37,
   "metadata": {
    "ExecuteTime": {
     "end_time": "2020-06-11T01:43:26.527028Z",
     "start_time": "2020-06-11T01:43:26.524958Z"
    }
   },
   "outputs": [],
   "source": [
    "optim = torch.optim.LBFGS(_get_params())"
   ]
  },
  {
   "cell_type": "code",
   "execution_count": 38,
   "metadata": {
    "ExecuteTime": {
     "end_time": "2020-06-11T01:43:26.539934Z",
     "start_time": "2020-06-11T01:43:26.528438Z"
    }
   },
   "outputs": [],
   "source": [
    "pss_c_p_m = []\n",
    "for _, row_icp in df_icp.iterrows():\n",
    "    m_w2p, ps_c_p = row_icp.m_w2p, row_icp.ps_c_p\n",
    "    pss_c_p_m.append(m_w2p(ps_c_w))"
   ]
  },
  {
   "cell_type": "code",
   "execution_count": 39,
   "metadata": {
    "ExecuteTime": {
     "end_time": "2020-06-11T01:43:26.543915Z",
     "start_time": "2020-06-11T01:43:26.541088Z"
    }
   },
   "outputs": [],
   "source": [
    "pss_c_p = []\n",
    "for _, row_icp in df_icp.iterrows():\n",
    "    pss_c_p.append(row_icp.ps_c_p)"
   ]
  },
  {
   "cell_type": "code",
   "execution_count": 40,
   "metadata": {
    "ExecuteTime": {
     "end_time": "2020-06-11T01:43:26.549909Z",
     "start_time": "2020-06-11T01:43:26.544989Z"
    }
   },
   "outputs": [],
   "source": [
    "debug = torch2np((tuple(pss_c_p), tuple(pss_c_p_m))) "
   ]
  },
  {
   "cell_type": "code",
   "execution_count": 41,
   "metadata": {
    "ExecuteTime": {
     "end_time": "2020-06-11T01:43:26.679420Z",
     "start_time": "2020-06-11T01:43:26.551028Z"
    }
   },
   "outputs": [
    {
     "data": {
      "text/plain": [
       "(-0.25, 0.25)"
      ]
     },
     "execution_count": 41,
     "metadata": {},
     "output_type": "execute_result"
    },
    {
     "data": {
      "image/png": "[encoded data removed]",
      "text/plain": [
       "<Figure size 432x288 with 1 Axes>"
      ]
     },
     "metadata": {
      "needs_background": "light"
     },
     "output_type": "display_data"
    }
   ],
   "source": [
    "for p1, p2 in zip(debug[0], debug[1]):\n",
    "    res = (p1-p2)\n",
    "    plt.plot(res[:,0], res[:,1], 's')\n",
    "plt.gca().set_aspect(1)\n",
    "plt.gca().set_xlim(-0.25, 0.25)\n",
    "plt.gca().set_ylim(-0.25, 0.25)"
   ]
  },
  {
   "cell_type": "code",
   "execution_count": 42,
   "metadata": {
    "ExecuteTime": {
     "end_time": "2020-06-11T01:43:33.433582Z",
     "start_time": "2020-06-11T01:43:26.680488Z"
    }
   },
   "outputs": [
    {
     "name": "stdout",
     "output_type": "stream",
     "text": [
      " - Iteration: 000 - Norm:    0.00056 - Loss:   10.38034\n",
      " - Iteration: 001 - Norm:    0.00082 - Loss:    8.47968\n",
      " - Iteration: 002 - Norm:    0.00098 - Loss:    8.07391\n",
      " - Iteration: 003 - Norm:    0.00099 - Loss:    7.88472\n",
      " - Iteration: 004 - Norm:    0.00292 - Loss:    7.64915\n",
      " - Iteration: 005 - Norm:    0.00345 - Loss:    7.46645\n",
      " - Iteration: 006 - Norm:    0.00588 - Loss:    7.30868\n",
      " - Iteration: 007 - Norm:    0.00090 - Loss:    7.29254\n",
      " - Iteration: 008 - Norm:    0.00219 - Loss:    7.28159\n",
      " - Iteration: 009 - Norm:    0.00238 - Loss:    7.26833\n",
      " - Iteration: 010 - Norm:    0.00568 - Loss:    7.24649\n",
      " - Iteration: 011 - Norm:    0.00368 - Loss:    7.23508\n",
      " - Iteration: 012 - Norm:    0.01295 - Loss:    7.20371\n",
      " - Iteration: 013 - Norm:    0.00073 - Loss:    7.20276\n",
      " - Iteration: 014 - Norm:    0.00656 - Loss:    7.19368\n",
      " - Iteration: 015 - Norm:    0.02478 - Loss:    7.16473\n",
      " - Iteration: 016 - Norm:    0.00021 - Loss:    7.16465\n",
      " - Iteration: 017 - Norm:    0.05316 - Loss:    7.13839\n",
      " - Iteration: 018 - Norm:    0.00032 - Loss:    7.13833\n",
      " - Iteration: 019 - Norm:    0.04042 - Loss:    7.12686\n",
      " - Iteration: 020 - Norm:    0.03808 - Loss:    7.11983\n",
      " - Iteration: 021 - Norm:    0.00315 - Loss:    7.11905\n",
      " - Iteration: 022 - Norm:    0.00000 - Loss:    7.11905\n"
     ]
    }
   ],
   "source": [
    "params_prev = torch.cat([p.view(-1) for p in _get_params()])\n",
    "for it in range(cutoff_it):\n",
    "    def _closure():\n",
    "        optim.zero_grad()\n",
    "        l = _get_loss()\n",
    "        l.backward()\n",
    "        return l\n",
    "    optim.step(_closure)\n",
    "    params = torch.cat([p.view(-1) for p in _get_params()])\n",
    "    norm = torch.norm(params-params_prev)\n",
    "    print(f' - Iteration: {it:03d} - Norm: {norm.item():10.5f} - Loss: {_get_loss().item():10.5f}')\n",
    "    if norm < cutoff_norm: break\n",
    "    params_prev = params"
   ]
  },
  {
   "cell_type": "code",
   "execution_count": 43,
   "metadata": {
    "ExecuteTime": {
     "end_time": "2020-06-11T01:43:33.445529Z",
     "start_time": "2020-06-11T01:43:33.434903Z"
    }
   },
   "outputs": [],
   "source": [
    "pss_c_p_m = []\n",
    "for _, row_icp in df_icp.iterrows():\n",
    "    m_w2p, ps_c_p = row_icp.m_w2p, row_icp.ps_c_p\n",
    "    pss_c_p_m.append(m_w2p(ps_c_w))"
   ]
  },
  {
   "cell_type": "code",
   "execution_count": 44,
   "metadata": {
    "ExecuteTime": {
     "end_time": "2020-06-11T01:43:33.453390Z",
     "start_time": "2020-06-11T01:43:33.447077Z"
    }
   },
   "outputs": [],
   "source": [
    "pss_c_p = []\n",
    "for _, row_icp in df_icp.iterrows():\n",
    "    pss_c_p.append(row_icp.ps_c_p)"
   ]
  },
  {
   "cell_type": "code",
   "execution_count": 45,
   "metadata": {
    "ExecuteTime": {
     "end_time": "2020-06-11T01:43:33.459487Z",
     "start_time": "2020-06-11T01:43:33.454479Z"
    }
   },
   "outputs": [],
   "source": [
    "debug = torch2np((tuple(pss_c_p), tuple(pss_c_p_m))) "
   ]
  },
  {
   "cell_type": "code",
   "execution_count": 46,
   "metadata": {
    "ExecuteTime": {
     "end_time": "2020-06-11T01:43:33.583050Z",
     "start_time": "2020-06-11T01:43:33.460666Z"
    }
   },
   "outputs": [
    {
     "data": {
      "text/plain": [
       "(-0.25, 0.25)"
      ]
     },
     "execution_count": 46,
     "metadata": {},
     "output_type": "execute_result"
    },
    {
     "data": {
      "image/png": "[encoded data removed]",
      "text/plain": [
       "<Figure size 432x288 with 1 Axes>"
      ]
     },
     "metadata": {
      "needs_background": "light"
     },
     "output_type": "display_data"
    }
   ],
   "source": [
    "for p1, p2 in zip(debug[0], debug[1]):\n",
    "    res = (p1-p2)\n",
    "    plt.plot(res[:,0], res[:,1], 's')\n",
    "plt.gca().set_aspect(1)\n",
    "plt.gca().set_xlim(-0.25, 0.25)\n",
    "plt.gca().set_ylim(-0.25, 0.25)"
   ]
  },
  {
   "cell_type": "code",
   "execution_count": 47,
   "metadata": {
    "ExecuteTime": {
     "end_time": "2020-06-11T01:52:20.660033Z",
     "start_time": "2020-06-11T01:52:20.654001Z"
    }
   },
   "outputs": [
    {
     "data": {
      "text/plain": [
       "[CamSF(alpha:3.59e+03 x_o:974.5 y_o:763.5),\n",
       " CamSF(alpha:3.572e+03 x_o:1.038e+03 y_o:788.0),\n",
       " CamSF(alpha:3.48e+03 x_o:1.118e+03 y_o:734.3)]"
      ]
     },
     "execution_count": 47,
     "metadata": {},
     "output_type": "execute_result"
    }
   ],
   "source": [
    "cams"
   ]
  },
  {
   "cell_type": "code",
   "execution_count": 48,
   "metadata": {
    "ExecuteTime": {
     "end_time": "2020-06-11T01:55:32.937895Z",
     "start_time": "2020-06-11T01:55:32.928115Z"
    }
   },
   "outputs": [
    {
     "data": {
      "text/plain": [
       "[Rigid(\n",
       "   (ms): ModuleList(\n",
       "     (0): EulerRotation(ex:0.0 ey:-0.0 ez:0.0)\n",
       "     (1): Translation(tx:0.0 ty:0.0 tz:0.0)\n",
       "   )\n",
       " ), Rigid(\n",
       "   (ms): ModuleList(\n",
       "     (0): EulerRotation(ex:0.003261 ey:0.3904 ez:-0.003991)\n",
       "     (1): Translation(tx:-83.43 ty:0.0831 tz:-7.064)\n",
       "   )\n",
       " ), Rigid(\n",
       "   (ms): ModuleList(\n",
       "     (0): EulerRotation(ex:-0.03141 ey:0.7848 ez:-0.02494)\n",
       "     (1): Translation(tx:-153.9 ty:1.597 tz:58.07)\n",
       "   )\n",
       " )]"
      ]
     },
     "execution_count": 48,
     "metadata": {},
     "output_type": "execute_result"
    }
   ],
   "source": [
    "rigids_cam"
   ]
  },
  {
   "cell_type": "code",
   "execution_count": null,
   "metadata": {},
   "outputs": [],
   "source": []
  }
 ],
 "metadata": {
  "kernelspec": {
   "display_name": "Python 3",
   "language": "python",
   "name": "python3"
  },
  "language_info": {
   "codemirror_mode": {
    "name": "ipython",
    "version": 3
   },
   "file_extension": ".py",
   "mimetype": "text/x-python",
   "name": "python",
   "nbconvert_exporter": "python",
   "pygments_lexer": "ipython3",
   "version": "3.6.9"
  },
  "varInspector": {
   "cols": {
    "lenName": 16,
    "lenType": 16,
    "lenVar": 40
   },
   "kernels_config": {
    "python": {
     "delete_cmd_postfix": "",
     "delete_cmd_prefix": "del ",
     "library": "var_list.py",
     "varRefreshCmd": "print(var_dic_list())"
    },
    "r": {
     "delete_cmd_postfix": ") ",
     "delete_cmd_prefix": "rm(",
     "library": "var_list.r",
     "varRefreshCmd": "cat(var_dic_list()) "
    }
   },
   "types_to_exclude": [
    "module",
    "function",
    "builtin_function_or_method",
    "instance",
    "_Feature"
   ],
   "window_display": false
  }
 },
 "nbformat": 4,
 "nbformat_minor": 2
}
