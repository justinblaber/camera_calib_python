{
 "cells": [
  {
   "cell_type": "code",
   "execution_count": 1,
   "metadata": {
    "ExecuteTime": {
     "end_time": "2020-08-06T18:06:00.290319Z",
     "start_time": "2020-08-06T18:06:00.288264Z"
    }
   },
   "outputs": [],
   "source": [
    "# default_exp modules"
   ]
  },
  {
   "cell_type": "markdown",
   "metadata": {},
   "source": [
    "This contains pytorch modules which allow for optimization of intrinsic/extrinsic parameters"
   ]
  },
  {
   "cell_type": "markdown",
   "metadata": {
    "ExecuteTime": {
     "end_time": "2020-05-14T13:42:09.485783Z",
     "start_time": "2020-05-14T13:42:09.141697Z"
    }
   },
   "source": [
    "# Import"
   ]
  },
  {
   "cell_type": "code",
   "execution_count": 2,
   "metadata": {
    "ExecuteTime": {
     "end_time": "2020-08-06T18:06:01.289108Z",
     "start_time": "2020-08-06T18:06:00.291571Z"
    }
   },
   "outputs": [],
   "source": [
    "# export\n",
    "import torch\n",
    "import torch.nn as nn\n",
    "\n",
    "from camera_calib.utils import *"
   ]
  },
  {
   "cell_type": "code",
   "execution_count": 3,
   "metadata": {
    "ExecuteTime": {
     "end_time": "2020-08-06T18:06:01.292596Z",
     "start_time": "2020-08-06T18:06:01.290425Z"
    }
   },
   "outputs": [],
   "source": [
    "from IPython.core.debugger import set_trace"
   ]
  },
  {
   "cell_type": "markdown",
   "metadata": {},
   "source": [
    "# Utility"
   ]
  },
  {
   "cell_type": "code",
   "execution_count": 4,
   "metadata": {
    "ExecuteTime": {
     "end_time": "2020-08-06T18:06:01.307854Z",
     "start_time": "2020-08-06T18:06:01.294630Z"
    }
   },
   "outputs": [],
   "source": [
    "# export\n",
    "def tensors2parameters(args): return args_loop(args, lambda arg: nn.Parameter(arg))"
   ]
  },
  {
   "cell_type": "markdown",
   "metadata": {
    "ExecuteTime": {
     "end_time": "2020-04-30T14:20:52.666739Z",
     "start_time": "2020-04-30T14:20:52.665136Z"
    }
   },
   "source": [
    "# Inversible Modules"
   ]
  },
  {
   "cell_type": "markdown",
   "metadata": {},
   "source": [
    "Some things:\n",
    "* I want to be able to have a `Module`, call `Inverse()` on it, and have the `Module` and it's `Inverse` share the same parameters, yet the inverse does the inverse of the module\n",
    "* I want to ensure some intuitive things, like: `Inverse(Inverse(Module)) == Module`\n",
    "* It's useful to be able to access some parameters in an \"inverse-aware\" reconstructed form, so I've implemented `get_param()`. i.e. if a `Rotation` is `Inverse`d and I want to get the rotation matrix, calling the `get_param()` method should return the transposed version"
   ]
  },
  {
   "cell_type": "markdown",
   "metadata": {},
   "source": [
    "For inversible modules, inherit this:"
   ]
  },
  {
   "cell_type": "code",
   "execution_count": 5,
   "metadata": {
    "ExecuteTime": {
     "end_time": "2020-08-06T18:06:01.316487Z",
     "start_time": "2020-08-06T18:06:01.310806Z"
    }
   },
   "outputs": [],
   "source": [
    "# export\n",
    "class Inversible(nn.Module):\n",
    "    def __init__(self):\n",
    "        super().__init__()\n",
    "       \n",
    "    def forward_param(self): raise NotImplementedError('Please implement forward_param() method')\n",
    "    def inverse_param(self): raise NotImplementedError('Please implement inverse_param() method')\n",
    "        \n",
    "    # Call this method to get a copy of \"inverse aware\" reconstructed parameters\n",
    "    def get_param(self):\n",
    "        with torch.no_grad():\n",
    "            return self.forward_param().detach().clone() \n",
    "    \n",
    "    def inverse(self): raise NotImplementedError('Please implement inverse() method')"
   ]
  },
  {
   "cell_type": "markdown",
   "metadata": {
    "ExecuteTime": {
     "end_time": "2020-04-30T03:51:39.031196Z",
     "start_time": "2020-04-30T03:51:39.027408Z"
    }
   },
   "source": [
    "Do `Inverse(Module)` to take its inverse:"
   ]
  },
  {
   "cell_type": "code",
   "execution_count": 6,
   "metadata": {
    "ExecuteTime": {
     "end_time": "2020-08-06T18:06:01.323043Z",
     "start_time": "2020-08-06T18:06:01.318101Z"
    }
   },
   "outputs": [],
   "source": [
    "# export\n",
    "class Inverse(Inversible): # Note that Inverse is itself Inversible...\n",
    "    def __init__(self, m):\n",
    "        super().__init__()\n",
    "        self.m = m\n",
    "        \n",
    "    def __repr__(self):\n",
    "        return f'{self.__class__.__name__}({self.m.__repr__()})'\n",
    "    \n",
    "    def forward_param(self): return self.m.inverse_param()\n",
    "    def inverse_param(self): return self.m.forward_param()\n",
    "    \n",
    "    def forward(self, x): return self.m.inverse(x)\n",
    "    def inverse(self, x): return self.m.forward(x)"
   ]
  },
  {
   "cell_type": "markdown",
   "metadata": {},
   "source": [
    "Have a basic test to test inversibility"
   ]
  },
  {
   "cell_type": "code",
   "execution_count": 7,
   "metadata": {
    "ExecuteTime": {
     "end_time": "2020-08-06T18:06:01.331281Z",
     "start_time": "2020-08-06T18:06:01.324470Z"
    }
   },
   "outputs": [],
   "source": [
    "# export\n",
    "def assert_inversible(m, x, y, **kwargs):\n",
    "    assert_allclose(m(x),          y, **kwargs)\n",
    "    assert_allclose(Inverse(m)(y), x, **kwargs)"
   ]
  },
  {
   "cell_type": "code",
   "execution_count": 8,
   "metadata": {
    "ExecuteTime": {
     "end_time": "2020-08-06T18:06:01.339250Z",
     "start_time": "2020-08-06T18:06:01.332518Z"
    }
   },
   "outputs": [
    {
     "data": {
      "text/plain": [
       "(Inversible(), Inverse(Inversible()), Inverse(Inverse(Inversible())))"
      ]
     },
     "execution_count": 8,
     "metadata": {},
     "output_type": "execute_result"
    }
   ],
   "source": [
    "a = Inversible(); b = Inverse(a); c = Inverse(b)\n",
    "a,b,c"
   ]
  },
  {
   "cell_type": "markdown",
   "metadata": {},
   "source": [
    "# Translation module"
   ]
  },
  {
   "cell_type": "markdown",
   "metadata": {
    "ExecuteTime": {
     "end_time": "2020-05-02T01:21:28.774565Z",
     "start_time": "2020-05-02T01:21:28.768732Z"
    }
   },
   "source": [
    "This performs a simple 3D translation; the inverse is simply subtracting the translation"
   ]
  },
  {
   "cell_type": "code",
   "execution_count": 9,
   "metadata": {
    "ExecuteTime": {
     "end_time": "2020-08-06T18:06:01.345754Z",
     "start_time": "2020-08-06T18:06:01.341245Z"
    }
   },
   "outputs": [],
   "source": [
    "# export\n",
    "class Translation(Inversible):\n",
    "    def __init__(self, t):\n",
    "        super().__init__()\n",
    "        self.t = tensors2parameters(t)\n",
    "        \n",
    "    def __repr__(self):\n",
    "        t_x, t_y, t_z = self.t\n",
    "        return f'{self.__class__.__name__}(tx:{t_x:.4} ty:{t_y:.4} tz:{t_z:.4})'\n",
    "        \n",
    "    def forward_param(self): return  self.t\n",
    "    def inverse_param(self): return -self.forward_param()\n",
    "        \n",
    "    def forward(self, ps, inverse=False): \n",
    "        t = self.forward_param() if not inverse else self.inverse_param()\n",
    "        return ps + t\n",
    "    def inverse(self, ps): return self.forward(ps, inverse=True)"
   ]
  },
  {
   "cell_type": "code",
   "execution_count": 10,
   "metadata": {
    "ExecuteTime": {
     "end_time": "2020-08-06T18:06:01.353500Z",
     "start_time": "2020-08-06T18:06:01.347633Z"
    }
   },
   "outputs": [
    {
     "data": {
      "text/plain": [
       "(Translation(tx:1.0 ty:2.0 tz:3.0), Inverse(Translation(tx:1.0 ty:2.0 tz:3.0)))"
      ]
     },
     "execution_count": 10,
     "metadata": {},
     "output_type": "execute_result"
    }
   ],
   "source": [
    "t = torch.FloatTensor([1,2,3])\n",
    "a = Translation(t); b = Inverse(a);\n",
    "a, b"
   ]
  },
  {
   "cell_type": "code",
   "execution_count": 11,
   "metadata": {
    "ExecuteTime": {
     "end_time": "2020-08-06T18:06:01.361281Z",
     "start_time": "2020-08-06T18:06:01.354800Z"
    }
   },
   "outputs": [
    {
     "data": {
      "text/plain": [
       "tensor([[0.4244, 0.6631, 0.7994],\n",
       "        [0.4344, 0.8532, 0.7623],\n",
       "        [0.5804, 0.9253, 0.8938],\n",
       "        [0.2995, 0.7431, 0.4128]])"
      ]
     },
     "execution_count": 11,
     "metadata": {},
     "output_type": "execute_result"
    }
   ],
   "source": [
    "ps = torch.rand(4,3)\n",
    "ps"
   ]
  },
  {
   "cell_type": "code",
   "execution_count": 12,
   "metadata": {
    "ExecuteTime": {
     "end_time": "2020-08-06T18:06:01.366395Z",
     "start_time": "2020-08-06T18:06:01.362419Z"
    }
   },
   "outputs": [],
   "source": [
    "assert_inversible(a, ps, ps+t, atol=1e-4)\n",
    "assert_inversible(b, ps, ps-t, atol=1e-4)"
   ]
  },
  {
   "cell_type": "code",
   "execution_count": 13,
   "metadata": {
    "ExecuteTime": {
     "end_time": "2020-08-06T18:06:01.372289Z",
     "start_time": "2020-08-06T18:06:01.367325Z"
    }
   },
   "outputs": [],
   "source": [
    "assert_allclose(a.get_param(),  t)\n",
    "assert_allclose(b.get_param(), -t)"
   ]
  },
  {
   "cell_type": "markdown",
   "metadata": {},
   "source": [
    "# Rotation module"
   ]
  },
  {
   "cell_type": "markdown",
   "metadata": {},
   "source": [
    "This performs a simple 3D rotation; the inverse is simply the transpose. Implement the reconstruction in the `r2R()` method for child classes."
   ]
  },
  {
   "cell_type": "code",
   "execution_count": 14,
   "metadata": {
    "ExecuteTime": {
     "end_time": "2020-08-06T18:06:01.379266Z",
     "start_time": "2020-08-06T18:06:01.374392Z"
    }
   },
   "outputs": [],
   "source": [
    "# export\n",
    "class Rotation(Inversible):\n",
    "    def __init__(self):\n",
    "        super().__init__()\n",
    "        \n",
    "    def r2R(self):\n",
    "        raise NotImplementedError('Please implement rotation matrix reconstruction')       \n",
    "    \n",
    "    def forward_param(self): return self.r2R()\n",
    "    def inverse_param(self): return self.forward_param().T\n",
    "        \n",
    "    def forward(self, ps, inverse=False): \n",
    "        R = self.forward_param() if not inverse else self.inverse_param()\n",
    "        return pmm(ps, R)\n",
    "    def inverse(self, ps): return self.forward(ps, inverse=True)"
   ]
  },
  {
   "cell_type": "markdown",
   "metadata": {},
   "source": [
    "### Euler"
   ]
  },
  {
   "cell_type": "code",
   "execution_count": 15,
   "metadata": {
    "ExecuteTime": {
     "end_time": "2020-08-06T18:06:01.387822Z",
     "start_time": "2020-08-06T18:06:01.380485Z"
    }
   },
   "outputs": [],
   "source": [
    "# export\n",
    "class EulerRotation(Rotation):\n",
    "    def __init__(self, R):\n",
    "        super().__init__()\n",
    "        self.euler = tensors2parameters(R2euler(R))\n",
    "    \n",
    "    def __repr__(self):\n",
    "        e_x, e_y, e_z = self.euler\n",
    "        return f'{self.__class__.__name__}(ex:{e_x:.4} ey:{e_y:.4} ez:{e_z:.4})'\n",
    "    \n",
    "    def r2R(self): return euler2R(self.euler)"
   ]
  },
  {
   "cell_type": "code",
   "execution_count": 16,
   "metadata": {
    "ExecuteTime": {
     "end_time": "2020-08-06T18:06:01.395578Z",
     "start_time": "2020-08-06T18:06:01.388816Z"
    }
   },
   "outputs": [
    {
     "data": {
      "text/plain": [
       "(EulerRotation(ex:-2.142 ey:1.142 ez:-0.1416),\n",
       " Inverse(EulerRotation(ex:-2.142 ey:1.142 ez:-0.1416)))"
      ]
     },
     "execution_count": 16,
     "metadata": {},
     "output_type": "execute_result"
    }
   ],
   "source": [
    "R = euler2R(torch.FloatTensor([1,2,3]))\n",
    "a = EulerRotation(R); b = Inverse(a)\n",
    "a,b"
   ]
  },
  {
   "cell_type": "code",
   "execution_count": 17,
   "metadata": {
    "ExecuteTime": {
     "end_time": "2020-08-06T18:06:01.400772Z",
     "start_time": "2020-08-06T18:06:01.396929Z"
    }
   },
   "outputs": [
    {
     "data": {
      "text/plain": [
       "tensor([[0.1109, 0.3613, 0.3338],\n",
       "        [0.0388, 0.4454, 0.2202],\n",
       "        [0.9195, 0.5900, 0.8141],\n",
       "        [0.4360, 0.9580, 0.5670]])"
      ]
     },
     "execution_count": 17,
     "metadata": {},
     "output_type": "execute_result"
    }
   ],
   "source": [
    "ps = torch.rand(4,3)\n",
    "ps"
   ]
  },
  {
   "cell_type": "code",
   "execution_count": 18,
   "metadata": {
    "ExecuteTime": {
     "end_time": "2020-08-06T18:06:01.408778Z",
     "start_time": "2020-08-06T18:06:01.401730Z"
    }
   },
   "outputs": [],
   "source": [
    "assert_inversible(a, ps, pmm(ps, R  ), atol=1e-4)\n",
    "assert_inversible(b, ps, pmm(ps, R.T), atol=1e-4)"
   ]
  },
  {
   "cell_type": "code",
   "execution_count": 19,
   "metadata": {
    "ExecuteTime": {
     "end_time": "2020-08-06T18:06:01.413825Z",
     "start_time": "2020-08-06T18:06:01.410175Z"
    }
   },
   "outputs": [],
   "source": [
    "assert_allclose(a.get_param(), R)\n",
    "assert_allclose(b.get_param(), R.T)"
   ]
  },
  {
   "cell_type": "markdown",
   "metadata": {},
   "source": [
    "# InversibleSequential Module"
   ]
  },
  {
   "cell_type": "markdown",
   "metadata": {},
   "source": [
    "Having inversible composible modules will be super useful. This is basically nn.Sequential but I've made it inversible. Note that:\n",
    "`y = f(g(h(x)))` implies that `x = h^-1(g^-1(f^-1(y)))`. So basically just reverse the order and take the inverse of each function to invert the whole thing."
   ]
  },
  {
   "cell_type": "code",
   "execution_count": 20,
   "metadata": {
    "ExecuteTime": {
     "end_time": "2020-08-06T18:06:01.418443Z",
     "start_time": "2020-08-06T18:06:01.414979Z"
    }
   },
   "outputs": [],
   "source": [
    "# export\n",
    "class InversibleSequential(Inversible):\n",
    "    def __init__(self, ms):\n",
    "        super().__init__()\n",
    "        self.ms = nn.ModuleList(ms)  \n",
    "    \n",
    "    def forward(self, x):\n",
    "        for m in self.ms: \n",
    "            x = m.forward(x)\n",
    "        return x\n",
    "    \n",
    "    def inverse(self, x):\n",
    "        for m in reversed(self.ms):\n",
    "            x = m.inverse(x)\n",
    "        return x"
   ]
  },
  {
   "cell_type": "markdown",
   "metadata": {},
   "source": [
    "# Rigid"
   ]
  },
  {
   "cell_type": "markdown",
   "metadata": {},
   "source": [
    "Rigid transform is a rotation followed by translation."
   ]
  },
  {
   "cell_type": "code",
   "execution_count": 21,
   "metadata": {
    "ExecuteTime": {
     "end_time": "2020-08-06T18:06:01.425185Z",
     "start_time": "2020-08-06T18:06:01.419409Z"
    }
   },
   "outputs": [],
   "source": [
    "# export\n",
    "class Rigid(InversibleSequential):\n",
    "    def __init__(self, R, t, Rotation=EulerRotation):\n",
    "        super().__init__([Rotation(R), Translation(t)]) # NOTE: rotation happens first\n",
    "        \n",
    "    def forward_param(self):\n",
    "        return Rt2M(self.ms[0].forward_param(), # R \n",
    "                    self.ms[1].forward_param()) # t\n",
    "        \n",
    "    def inverse_param(self): return invert_rigid(self.forward_param())"
   ]
  },
  {
   "cell_type": "code",
   "execution_count": 22,
   "metadata": {
    "ExecuteTime": {
     "end_time": "2020-08-06T18:06:01.432866Z",
     "start_time": "2020-08-06T18:06:01.426666Z"
    }
   },
   "outputs": [
    {
     "data": {
      "text/plain": [
       "(Rigid(\n",
       "   (ms): ModuleList(\n",
       "     (0): EulerRotation(ex:-2.142 ey:1.142 ez:-0.1416)\n",
       "     (1): Translation(tx:1.0 ty:2.0 tz:3.0)\n",
       "   )\n",
       " ), Inverse(Rigid(\n",
       "   (ms): ModuleList(\n",
       "     (0): EulerRotation(ex:-2.142 ey:1.142 ez:-0.1416)\n",
       "     (1): Translation(tx:1.0 ty:2.0 tz:3.0)\n",
       "   )\n",
       " )))"
      ]
     },
     "execution_count": 22,
     "metadata": {},
     "output_type": "execute_result"
    }
   ],
   "source": [
    "R, t = euler2R(tuple(torch.FloatTensor([1,2,3]))), torch.FloatTensor([1,2,3])\n",
    "a = Rigid(R, t); b = Inverse(a)\n",
    "a,b"
   ]
  },
  {
   "cell_type": "code",
   "execution_count": 23,
   "metadata": {
    "ExecuteTime": {
     "end_time": "2020-08-06T18:06:01.440964Z",
     "start_time": "2020-08-06T18:06:01.433753Z"
    }
   },
   "outputs": [
    {
     "data": {
      "text/plain": [
       "tensor([[0.4850, 0.4903, 0.8178],\n",
       "        [0.3627, 0.9858, 0.7188],\n",
       "        [0.7270, 0.9490, 0.4363],\n",
       "        [0.6762, 0.0786, 0.0193]])"
      ]
     },
     "execution_count": 23,
     "metadata": {},
     "output_type": "execute_result"
    }
   ],
   "source": [
    "ps = torch.rand(4,3)\n",
    "ps"
   ]
  },
  {
   "cell_type": "code",
   "execution_count": 24,
   "metadata": {
    "ExecuteTime": {
     "end_time": "2020-08-06T18:06:01.446266Z",
     "start_time": "2020-08-06T18:06:01.443969Z"
    }
   },
   "outputs": [],
   "source": [
    "M = Rt2M(R,t)\n",
    "M_inv = invert_rigid(M)\n",
    "R_inv, t_inv = M2Rt(M_inv)"
   ]
  },
  {
   "cell_type": "code",
   "execution_count": 25,
   "metadata": {
    "ExecuteTime": {
     "end_time": "2020-08-06T18:06:01.454335Z",
     "start_time": "2020-08-06T18:06:01.447640Z"
    }
   },
   "outputs": [],
   "source": [
    "assert_inversible(a, ps, pmm(ps, R    ) + t,     atol=1e-4)\n",
    "assert_inversible(b, ps, pmm(ps, R_inv) + t_inv, atol=1e-4)"
   ]
  },
  {
   "cell_type": "code",
   "execution_count": 26,
   "metadata": {
    "ExecuteTime": {
     "end_time": "2020-08-06T18:06:01.459578Z",
     "start_time": "2020-08-06T18:06:01.455717Z"
    }
   },
   "outputs": [],
   "source": [
    "assert_allclose(a.get_param(), M)\n",
    "assert_allclose(b.get_param(), M_inv)"
   ]
  },
  {
   "cell_type": "markdown",
   "metadata": {
    "ExecuteTime": {
     "end_time": "2020-05-02T03:08:06.759294Z",
     "start_time": "2020-05-02T03:08:06.752916Z"
    }
   },
   "source": [
    "Create a wrapper for composing multiple `Rigid`s"
   ]
  },
  {
   "cell_type": "code",
   "execution_count": 27,
   "metadata": {
    "ExecuteTime": {
     "end_time": "2020-08-06T18:06:01.464550Z",
     "start_time": "2020-08-06T18:06:01.460896Z"
    }
   },
   "outputs": [],
   "source": [
    "# export\n",
    "class Rigids(InversibleSequential):\n",
    "    def __init__(self, rigids):\n",
    "        super().__init__(rigids)\n",
    "    \n",
    "    def forward_param(self):\n",
    "        M = self.ms[0].forward_param()\n",
    "        for m in self.ms[1:]:\n",
    "            M = mult_rigid(m.forward_param(), M)\n",
    "        return M\n",
    "    \n",
    "    def inverse_param(self): return invert_rigid(self.forward_param())"
   ]
  },
  {
   "cell_type": "code",
   "execution_count": 28,
   "metadata": {
    "ExecuteTime": {
     "end_time": "2020-08-06T18:06:01.472239Z",
     "start_time": "2020-08-06T18:06:01.465428Z"
    }
   },
   "outputs": [],
   "source": [
    "R_a, t_a = euler2R(torch.FloatTensor([ 1, 2, 3])), torch.FloatTensor([1,2,3])\n",
    "a = Rigid(R_a, t_a)\n",
    "R_b, t_b = euler2R(torch.FloatTensor([.5, 1, 1])), torch.FloatTensor([3,2,2])\n",
    "b = Inverse(Rigid(R_b, t_b))\n",
    "R_c, t_c = euler2R(torch.FloatTensor([.3,.1, 0])), torch.FloatTensor([3,3,3])\n",
    "c = Rigid(R_c, t_c)"
   ]
  },
  {
   "cell_type": "code",
   "execution_count": 29,
   "metadata": {
    "ExecuteTime": {
     "end_time": "2020-08-06T18:06:01.477002Z",
     "start_time": "2020-08-06T18:06:01.473949Z"
    }
   },
   "outputs": [],
   "source": [
    "d = Rigids([a,b,c])"
   ]
  },
  {
   "cell_type": "code",
   "execution_count": 30,
   "metadata": {
    "ExecuteTime": {
     "end_time": "2020-08-06T18:06:01.483306Z",
     "start_time": "2020-08-06T18:06:01.478195Z"
    }
   },
   "outputs": [],
   "source": [
    "M_a = Rt2M(R_a, t_a)\n",
    "M_b = Rt2M(R_b.T, -R_b.T@t_b)\n",
    "M_c = Rt2M(R_c, t_c)\n",
    "M_d = M_c@M_b@M_a"
   ]
  },
  {
   "cell_type": "code",
   "execution_count": 31,
   "metadata": {
    "ExecuteTime": {
     "end_time": "2020-08-06T18:06:01.489152Z",
     "start_time": "2020-08-06T18:06:01.484516Z"
    }
   },
   "outputs": [],
   "source": [
    "R_d, t_d = M2Rt(M_d)"
   ]
  },
  {
   "cell_type": "code",
   "execution_count": 32,
   "metadata": {
    "ExecuteTime": {
     "end_time": "2020-08-06T18:06:01.498420Z",
     "start_time": "2020-08-06T18:06:01.490457Z"
    }
   },
   "outputs": [],
   "source": [
    "assert_inversible(d, ps, pmm(ps, R_d) + t_d, atol=1e-4)"
   ]
  },
  {
   "cell_type": "code",
   "execution_count": 33,
   "metadata": {
    "ExecuteTime": {
     "end_time": "2020-08-06T18:06:01.502497Z",
     "start_time": "2020-08-06T18:06:01.499455Z"
    }
   },
   "outputs": [],
   "source": [
    "assert_allclose(d.get_param(), M_d)"
   ]
  },
  {
   "cell_type": "markdown",
   "metadata": {
    "ExecuteTime": {
     "end_time": "2020-05-05T21:55:43.455346Z",
     "start_time": "2020-05-05T21:55:43.453510Z"
    }
   },
   "source": [
    "# Normalize"
   ]
  },
  {
   "cell_type": "markdown",
   "metadata": {},
   "source": [
    "This will normalize 3D coordinates (i.e. project points to \"unit\" image plane)."
   ]
  },
  {
   "cell_type": "code",
   "execution_count": 34,
   "metadata": {
    "ExecuteTime": {
     "end_time": "2020-08-06T18:06:01.507621Z",
     "start_time": "2020-08-06T18:06:01.503426Z"
    }
   },
   "outputs": [],
   "source": [
    "# export\n",
    "class Normalize(nn.Module): # Note: Not Inversible\n",
    "    def __init__(self):\n",
    "        super().__init__()\n",
    "        \n",
    "    def forward(self, ps): return normalize(ps)"
   ]
  },
  {
   "cell_type": "code",
   "execution_count": 35,
   "metadata": {
    "ExecuteTime": {
     "end_time": "2020-08-06T18:06:01.515136Z",
     "start_time": "2020-08-06T18:06:01.508855Z"
    }
   },
   "outputs": [
    {
     "data": {
      "text/plain": [
       "tensor([[0.7688, 0.0357, 0.1914],\n",
       "        [0.7886, 0.7543, 0.9366],\n",
       "        [0.4650, 0.1964, 0.7717],\n",
       "        [0.5852, 0.7220, 0.2781]])"
      ]
     },
     "execution_count": 35,
     "metadata": {},
     "output_type": "execute_result"
    }
   ],
   "source": [
    "ps = torch.rand(4,3)\n",
    "ps"
   ]
  },
  {
   "cell_type": "code",
   "execution_count": 36,
   "metadata": {
    "ExecuteTime": {
     "end_time": "2020-08-06T18:06:01.520033Z",
     "start_time": "2020-08-06T18:06:01.516172Z"
    }
   },
   "outputs": [],
   "source": [
    "assert_allclose(Normalize()(ps), ps[:,0:2]/ps[:,[2]])"
   ]
  },
  {
   "cell_type": "markdown",
   "metadata": {},
   "source": [
    "# Augment"
   ]
  },
  {
   "cell_type": "markdown",
   "metadata": {
    "ExecuteTime": {
     "end_time": "2020-05-05T23:26:15.800252Z",
     "start_time": "2020-05-05T23:26:15.791287Z"
    }
   },
   "source": [
    "Adds `one`s to input array; note this is `Inversible`"
   ]
  },
  {
   "cell_type": "code",
   "execution_count": 37,
   "metadata": {
    "ExecuteTime": {
     "end_time": "2020-08-06T18:06:01.526315Z",
     "start_time": "2020-08-06T18:06:01.520952Z"
    }
   },
   "outputs": [],
   "source": [
    "# export\n",
    "class Augment(Inversible):\n",
    "    def __init__(self):\n",
    "        super().__init__()\n",
    "\n",
    "    def forward(self, ps): return augment(ps)\n",
    "    def inverse(self, ps): return deaugment(ps)"
   ]
  },
  {
   "cell_type": "markdown",
   "metadata": {},
   "source": [
    "Test to make sure `one`s are added and removed"
   ]
  },
  {
   "cell_type": "code",
   "execution_count": 38,
   "metadata": {
    "ExecuteTime": {
     "end_time": "2020-08-06T18:06:01.533564Z",
     "start_time": "2020-08-06T18:06:01.527737Z"
    }
   },
   "outputs": [
    {
     "data": {
      "text/plain": [
       "tensor([[0.3854, 0.1597],\n",
       "        [0.2256, 0.3820],\n",
       "        [0.3090, 0.7993],\n",
       "        [0.5683, 0.9387]])"
      ]
     },
     "execution_count": 38,
     "metadata": {},
     "output_type": "execute_result"
    }
   ],
   "source": [
    "ps = torch.rand(4,2)\n",
    "ps"
   ]
  },
  {
   "cell_type": "code",
   "execution_count": 39,
   "metadata": {
    "ExecuteTime": {
     "end_time": "2020-08-06T18:06:01.542115Z",
     "start_time": "2020-08-06T18:06:01.534653Z"
    }
   },
   "outputs": [],
   "source": [
    "assert_inversible(Augment(), ps, torch.cat([ps, ps.new_ones(len(ps),1)], dim=1))"
   ]
  },
  {
   "cell_type": "markdown",
   "metadata": {},
   "source": [
    "# Distortion"
   ]
  },
  {
   "cell_type": "markdown",
   "metadata": {},
   "source": [
    "This will apply distortion model to 2D points. Note for now I didn't find much commonality so I didn't make a base class. Also note that distortions are typically not inversible (at least not analytically to my knowledge), so exclude for now."
   ]
  },
  {
   "cell_type": "markdown",
   "metadata": {},
   "source": [
    "### No distortion"
   ]
  },
  {
   "cell_type": "code",
   "execution_count": 40,
   "metadata": {
    "ExecuteTime": {
     "end_time": "2020-08-06T18:06:01.547647Z",
     "start_time": "2020-08-06T18:06:01.543465Z"
    }
   },
   "outputs": [],
   "source": [
    "# export\n",
    "NoDistortion = nn.Identity"
   ]
  },
  {
   "cell_type": "markdown",
   "metadata": {
    "ExecuteTime": {
     "end_time": "2020-05-05T23:35:04.096552Z",
     "start_time": "2020-05-05T23:35:04.092319Z"
    }
   },
   "source": [
    "### Heikkila97 distortion"
   ]
  },
  {
   "cell_type": "code",
   "execution_count": 41,
   "metadata": {
    "ExecuteTime": {
     "end_time": "2020-08-06T18:06:01.554296Z",
     "start_time": "2020-08-06T18:06:01.549095Z"
    }
   },
   "outputs": [],
   "source": [
    "# export\n",
    "class Heikkila97Distortion(nn.Module):\n",
    "    def __init__(self, d):\n",
    "        super().__init__()\n",
    "        self.d = tensors2parameters(d)\n",
    "    \n",
    "    def __repr__(self):\n",
    "        k1, k2, p1, p2 = self.d\n",
    "        return f'{self.__class__.__name__}(k1:{k1:.4} k2:{k2:.4} p1:{p1:.4} p2:{p2:.4})'\n",
    "    \n",
    "    def forward(self, ps):\n",
    "        k1, k2, p1, p2 = self.d\n",
    "        xs, ys = ps[:,0], ps[:,1]\n",
    "        \n",
    "        # Radial distortion\n",
    "        rs = xs**2 + ys**2\n",
    "        xs_r = xs*(1 + k1*rs + k2*rs**2)\n",
    "        ys_r = ys*(1 + k1*rs + k2*rs**2)\n",
    "\n",
    "        # Decentering distortion \n",
    "        xs_d = xs_r + 2*p1*xs*ys + p2*(3*xs**2 + ys**2)\n",
    "        ys_d = ys_r + p1*(xs**2 + 3*ys**2) + 2*p2*xs*ys\n",
    "        \n",
    "        return stackify((xs_d, ys_d), dim=1)"
   ]
  },
  {
   "cell_type": "code",
   "execution_count": 42,
   "metadata": {
    "ExecuteTime": {
     "end_time": "2020-08-06T18:06:01.563621Z",
     "start_time": "2020-08-06T18:06:01.555292Z"
    }
   },
   "outputs": [
    {
     "data": {
      "text/plain": [
       "Heikkila97Distortion(k1:0.01 k2:0.02 p1:0.03 p2:0.04)"
      ]
     },
     "execution_count": 42,
     "metadata": {},
     "output_type": "execute_result"
    }
   ],
   "source": [
    "distortion = Heikkila97Distortion(torch.FloatTensor([.01, 0.02, 0.03, 0.04]))\n",
    "distortion"
   ]
  },
  {
   "cell_type": "code",
   "execution_count": 43,
   "metadata": {
    "ExecuteTime": {
     "end_time": "2020-08-06T18:06:01.569353Z",
     "start_time": "2020-08-06T18:06:01.564630Z"
    }
   },
   "outputs": [],
   "source": [
    "ps = torch.FloatTensor([[0.1900, 0.2467],\n",
    "                        [0.9817, 0.7349],\n",
    "                        [0.2432, 1.6161],\n",
    "                        [0.2194, 0.4353]])\n",
    "assert_allclose(distortion(ps), torch.FloatTensor([[0.1998, 0.2573],\n",
    "                                                   [1.2215, 0.9145],\n",
    "                                                   [0.4196, 2.1581],\n",
    "                                                   [0.2393, 0.4630]]), atol=1e-4)"
   ]
  },
  {
   "cell_type": "markdown",
   "metadata": {
    "ExecuteTime": {
     "end_time": "2020-05-05T23:35:34.332425Z",
     "start_time": "2020-05-05T23:35:34.329342Z"
    }
   },
   "source": [
    "### Wang08 distortion"
   ]
  },
  {
   "cell_type": "code",
   "execution_count": 44,
   "metadata": {
    "ExecuteTime": {
     "end_time": "2020-08-06T18:06:01.577776Z",
     "start_time": "2020-08-06T18:06:01.570351Z"
    }
   },
   "outputs": [],
   "source": [
    "# export\n",
    "class Wang08Distortion(nn.Module):\n",
    "    def __init__(self, d):\n",
    "        super().__init__()\n",
    "        self.d = tensors2parameters(d)\n",
    "    \n",
    "    def __repr__(self):\n",
    "        k1, k2, p, t = self.d\n",
    "        return f'{self.__class__.__name__}(k1:{k1:.4} k2:{k2:.4} p:{p:.4} t:{t:.4})'\n",
    "    \n",
    "    def forward(self, ps):\n",
    "        k1, k2, p, t = self.d\n",
    "        xs, ys = ps[:,0], ps[:,1]\n",
    "        \n",
    "        # Radial distortion\n",
    "        rs = xs**2 + ys**2\n",
    "        xs_r = xs*(1 + k1*rs + k2*rs**2)\n",
    "        ys_r = ys*(1 + k1*rs + k2*rs**2)\n",
    "\n",
    "        # Image plane (small angle approximation) rotation distortion\n",
    "        xs_d = xs_r/(-p*xs_r + t*ys_r + 1)\n",
    "        ys_d = ys_r/(-p*xs_r + t*ys_r + 1)\n",
    "        \n",
    "        return stackify((xs_d, ys_d), dim=1)"
   ]
  },
  {
   "cell_type": "markdown",
   "metadata": {},
   "source": [
    "NOTE: possibly refactor the radial distortion part since it appears twice"
   ]
  },
  {
   "cell_type": "code",
   "execution_count": 45,
   "metadata": {
    "ExecuteTime": {
     "end_time": "2020-08-06T18:06:01.586535Z",
     "start_time": "2020-08-06T18:06:01.578909Z"
    }
   },
   "outputs": [
    {
     "data": {
      "text/plain": [
       "Wang08Distortion(k1:0.01 k2:0.02 p:0.03 t:0.04)"
      ]
     },
     "execution_count": 45,
     "metadata": {},
     "output_type": "execute_result"
    }
   ],
   "source": [
    "distortion = Wang08Distortion(torch.FloatTensor([.01, 0.02, 0.03, 0.04]))\n",
    "distortion"
   ]
  },
  {
   "cell_type": "code",
   "execution_count": 46,
   "metadata": {
    "ExecuteTime": {
     "end_time": "2020-08-06T18:06:01.593552Z",
     "start_time": "2020-08-06T18:06:01.587369Z"
    }
   },
   "outputs": [],
   "source": [
    "ps = torch.FloatTensor([[0.1900, 0.2467],\n",
    "                        [0.9817, 0.7349],\n",
    "                        [0.2432, 1.6161],\n",
    "                        [0.2194, 0.4353]])\n",
    "assert_allclose(distortion(ps), torch.FloatTensor([[0.1894, 0.2460],\n",
    "                                                   [1.0409, 0.7792],\n",
    "                                                   [0.2665, 1.7711],\n",
    "                                                   [0.2178, 0.4321]]), atol=1e-4)"
   ]
  },
  {
   "cell_type": "markdown",
   "metadata": {},
   "source": [
    "# Camera matrix"
   ]
  },
  {
   "cell_type": "markdown",
   "metadata": {
    "ExecuteTime": {
     "end_time": "2020-05-03T16:34:07.608445Z",
     "start_time": "2020-05-03T16:34:07.605173Z"
    }
   },
   "source": [
    "This performs the application of the Camera matrix. Implement the reconstruction in the `a2A()` method for child classes."
   ]
  },
  {
   "cell_type": "code",
   "execution_count": 47,
   "metadata": {
    "ExecuteTime": {
     "end_time": "2020-08-06T18:06:01.598431Z",
     "start_time": "2020-08-06T18:06:01.594921Z"
    }
   },
   "outputs": [],
   "source": [
    "# export\n",
    "def a2A(alpha_x, alpha_y, x_o, y_o):\n",
    "    zero, one = alpha_x.new_tensor(0), alpha_x.new_tensor(1)\n",
    "\n",
    "    return stackify(((alpha_x,    zero, x_o),\n",
    "                     (   zero, alpha_y, y_o),\n",
    "                     (   zero,    zero, one)))"
   ]
  },
  {
   "cell_type": "markdown",
   "metadata": {},
   "source": [
    "Test to make sure reconstruction is correct"
   ]
  },
  {
   "cell_type": "code",
   "execution_count": 48,
   "metadata": {
    "ExecuteTime": {
     "end_time": "2020-08-06T18:06:01.605126Z",
     "start_time": "2020-08-06T18:06:01.599440Z"
    }
   },
   "outputs": [],
   "source": [
    "a = torch.FloatTensor([1.5, -2.5, 3.5])\n",
    "A = a2A(alpha_x=a[0], alpha_y=a[0], x_o=a[1], y_o=a[2])\n",
    "assert_allclose(A, torch.FloatTensor([[ 1.5,  0.0, -2.5],\n",
    "                                      [ 0.0,  1.5,  3.5],\n",
    "                                      [ 0.0,  0.0,  1.0]]))"
   ]
  },
  {
   "cell_type": "code",
   "execution_count": 49,
   "metadata": {
    "ExecuteTime": {
     "end_time": "2020-08-06T18:06:01.610738Z",
     "start_time": "2020-08-06T18:06:01.606367Z"
    }
   },
   "outputs": [],
   "source": [
    "# export\n",
    "class Cam(Inversible):\n",
    "    def __init__(self):\n",
    "        super().__init__()\n",
    "    \n",
    "    def a2A(self):\n",
    "        raise NotImplementedError('Please implement camera matrix reconstruction')\n",
    "    \n",
    "    def forward_param(self): return self.a2A()\n",
    "    def inverse_param(self): return torch.inverse(self.forward_param()) # Overwrite this in child classes\n",
    "        \n",
    "    def forward(self, ps, inverse=False):\n",
    "        A = self.forward_param() if not inverse else self.inverse_param()\n",
    "        return pmm(ps, A, aug=True)\n",
    "    def inverse(self, ps): return self.forward(ps, inverse=True)"
   ]
  },
  {
   "cell_type": "markdown",
   "metadata": {},
   "source": [
    "### Single focal length"
   ]
  },
  {
   "cell_type": "markdown",
   "metadata": {
    "ExecuteTime": {
     "end_time": "2020-05-03T16:37:13.178310Z",
     "start_time": "2020-05-03T16:37:13.169302Z"
    }
   },
   "source": [
    "Assumes there is only a single `alpha`"
   ]
  },
  {
   "cell_type": "code",
   "execution_count": 50,
   "metadata": {
    "ExecuteTime": {
     "end_time": "2020-08-06T18:06:01.619536Z",
     "start_time": "2020-08-06T18:06:01.611854Z"
    }
   },
   "outputs": [],
   "source": [
    "# export\n",
    "class CamSF(Cam):\n",
    "    def __init__(self, A):\n",
    "        super().__init__()\n",
    "        assert_allclose(A[0,0], A[1,1]) # Check that alpha_x and alpha_y are the same\n",
    "        self.a = tensors2parameters(A[[0,0,1],[0,2,2]])\n",
    "    \n",
    "    def __repr__(self):\n",
    "        alpha, x_o, y_o = self.a\n",
    "        return f'{self.__class__.__name__}(alpha:{alpha:.4} x_o:{x_o:.4} y_o:{y_o:.4})'\n",
    "    \n",
    "    def a2A(self):\n",
    "        alpha, x_o, y_o = self.a\n",
    "        return a2A(alpha_x=alpha, alpha_y=alpha, x_o=x_o, y_o=y_o)\n",
    "    \n",
    "    def inverse_param(self): # Overwrite parent method\n",
    "        alpha, x_o, y_o = self.a\n",
    "        return a2A(alpha_x=1/alpha, \n",
    "                   alpha_y=1/alpha, \n",
    "                   x_o=-x_o/alpha, \n",
    "                   y_o=-y_o/alpha)"
   ]
  },
  {
   "cell_type": "code",
   "execution_count": 51,
   "metadata": {
    "ExecuteTime": {
     "end_time": "2020-08-06T18:06:01.628727Z",
     "start_time": "2020-08-06T18:06:01.620552Z"
    }
   },
   "outputs": [
    {
     "data": {
      "text/plain": [
       "CamSF(alpha:1.5 x_o:-2.5 y_o:3.5)"
      ]
     },
     "execution_count": 51,
     "metadata": {},
     "output_type": "execute_result"
    }
   ],
   "source": [
    "a = torch.FloatTensor([1.5, -2.5, 3.5])\n",
    "A = a2A(alpha_x=a[0], alpha_y=a[0], x_o=a[1], y_o=a[2])\n",
    "cam = CamSF(A)\n",
    "cam"
   ]
  },
  {
   "cell_type": "markdown",
   "metadata": {},
   "source": [
    "Test"
   ]
  },
  {
   "cell_type": "code",
   "execution_count": 52,
   "metadata": {
    "ExecuteTime": {
     "end_time": "2020-08-06T18:06:01.635387Z",
     "start_time": "2020-08-06T18:06:01.629625Z"
    }
   },
   "outputs": [
    {
     "data": {
      "text/plain": [
       "tensor([[0.9177, 0.1516],\n",
       "        [0.5213, 0.2512],\n",
       "        [0.1413, 0.4781],\n",
       "        [0.8336, 0.0534]])"
      ]
     },
     "execution_count": 52,
     "metadata": {},
     "output_type": "execute_result"
    }
   ],
   "source": [
    "ps = torch.rand(4,2)\n",
    "ps"
   ]
  },
  {
   "cell_type": "code",
   "execution_count": 53,
   "metadata": {
    "ExecuteTime": {
     "end_time": "2020-08-06T18:06:01.641490Z",
     "start_time": "2020-08-06T18:06:01.636318Z"
    }
   },
   "outputs": [],
   "source": [
    "assert_inversible(cam, ps, pmm(ps, A, aug=True), atol=1e-4)"
   ]
  },
  {
   "cell_type": "code",
   "execution_count": 54,
   "metadata": {
    "ExecuteTime": {
     "end_time": "2020-08-06T18:06:01.646278Z",
     "start_time": "2020-08-06T18:06:01.642645Z"
    }
   },
   "outputs": [],
   "source": [
    "assert_allclose(cam.get_param(), A)"
   ]
  },
  {
   "cell_type": "markdown",
   "metadata": {
    "ExecuteTime": {
     "end_time": "2020-05-03T20:36:21.604772Z",
     "start_time": "2020-05-03T20:36:21.600609Z"
    }
   },
   "source": [
    "# Build"
   ]
  },
  {
   "cell_type": "code",
   "execution_count": 55,
   "metadata": {
    "ExecuteTime": {
     "end_time": "2020-08-06T18:06:01.916126Z",
     "start_time": "2020-08-06T18:06:01.647189Z"
    }
   },
   "outputs": [
    {
     "data": {
      "application/javascript": [
       "IPython.notebook.save_checkpoint();"
      ],
      "text/plain": [
       "<IPython.core.display.Javascript object>"
      ]
     },
     "metadata": {},
     "output_type": "display_data"
    },
    {
     "name": "stdout",
     "output_type": "stream",
     "text": [
      "Converted modules.ipynb.\n"
     ]
    }
   ],
   "source": [
    "build_notebook()"
   ]
  }
 ],
 "metadata": {
  "kernelspec": {
   "display_name": "Python 3",
   "language": "python",
   "name": "python3"
  },
  "language_info": {
   "codemirror_mode": {
    "name": "ipython",
    "version": 3
   },
   "file_extension": ".py",
   "mimetype": "text/x-python",
   "name": "python",
   "nbconvert_exporter": "python",
   "pygments_lexer": "ipython3",
   "version": "3.6.9"
  },
  "varInspector": {
   "cols": {
    "lenName": 16,
    "lenType": 16,
    "lenVar": 40
   },
   "kernels_config": {
    "python": {
     "delete_cmd_postfix": "",
     "delete_cmd_prefix": "del ",
     "library": "var_list.py",
     "varRefreshCmd": "print(var_dic_list())"
    },
    "r": {
     "delete_cmd_postfix": ") ",
     "delete_cmd_prefix": "rm(",
     "library": "var_list.r",
     "varRefreshCmd": "cat(var_dic_list()) "
    }
   },
   "types_to_exclude": [
    "module",
    "function",
    "builtin_function_or_method",
    "instance",
    "_Feature"
   ],
   "window_display": false
  }
 },
 "nbformat": 4,
 "nbformat_minor": 2
}
