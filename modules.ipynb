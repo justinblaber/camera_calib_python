{
 "cells": [
  {
   "cell_type": "code",
   "execution_count": 1,
   "metadata": {
    "ExecuteTime": {
     "end_time": "2020-06-02T23:26:52.528343Z",
     "start_time": "2020-06-02T23:26:52.526586Z"
    }
   },
   "outputs": [],
   "source": [
    "# default_exp modules"
   ]
  },
  {
   "cell_type": "markdown",
   "metadata": {},
   "source": [
    "This contains pytorch modules which allow for optimization of intrinsic/extrinsic parameters"
   ]
  },
  {
   "cell_type": "markdown",
   "metadata": {
    "ExecuteTime": {
     "end_time": "2020-05-14T13:42:09.485783Z",
     "start_time": "2020-05-14T13:42:09.141697Z"
    }
   },
   "source": [
    "# Import"
   ]
  },
  {
   "cell_type": "code",
   "execution_count": 2,
   "metadata": {
    "ExecuteTime": {
     "end_time": "2020-06-02T23:26:52.877845Z",
     "start_time": "2020-06-02T23:26:52.536722Z"
    }
   },
   "outputs": [],
   "source": [
    "# export\n",
    "import torch\n",
    "import torch.nn as nn\n",
    "\n",
    "from camera_calib_python.utils import *"
   ]
  },
  {
   "cell_type": "code",
   "execution_count": 3,
   "metadata": {
    "ExecuteTime": {
     "end_time": "2020-06-02T23:26:52.881374Z",
     "start_time": "2020-06-02T23:26:52.879129Z"
    }
   },
   "outputs": [],
   "source": [
    "from IPython.core.debugger import set_trace"
   ]
  },
  {
   "cell_type": "markdown",
   "metadata": {},
   "source": [
    "# Utility"
   ]
  },
  {
   "cell_type": "code",
   "execution_count": 4,
   "metadata": {
    "ExecuteTime": {
     "end_time": "2020-06-02T23:26:52.887908Z",
     "start_time": "2020-06-02T23:26:52.882888Z"
    }
   },
   "outputs": [],
   "source": [
    "# export\n",
    "def tensors2parameters(*args): \n",
    "    params = [nn.Parameter(arg) for arg in args]\n",
    "    return params[0] if len(params) == 1 else params"
   ]
  },
  {
   "cell_type": "markdown",
   "metadata": {
    "ExecuteTime": {
     "end_time": "2020-04-30T14:20:52.666739Z",
     "start_time": "2020-04-30T14:20:52.665136Z"
    }
   },
   "source": [
    "# Inversible Modules"
   ]
  },
  {
   "cell_type": "markdown",
   "metadata": {},
   "source": [
    "Some things:\n",
    "* I want to be able to have a `Module`, call `Inverse()` on it, and have the `Module` and it's `Inverse` share the same parameters, yet the inverse does the inverse of the module\n",
    "* I want to ensure some intuitive things, like: `Inverse(Inverse(Module)) == Module`\n",
    "* It's useful to be able to access some parameters in an \"inverse-aware\" reconstructed form, so I've implemented `get_param()`. i.e. if a `Rotation` is `Inverse`d and I want to get the rotation matrix, calling the `get_param()` method should return the transposed version"
   ]
  },
  {
   "cell_type": "markdown",
   "metadata": {},
   "source": [
    "For inversible modules, inherit this:"
   ]
  },
  {
   "cell_type": "code",
   "execution_count": 5,
   "metadata": {
    "ExecuteTime": {
     "end_time": "2020-06-02T23:26:52.894069Z",
     "start_time": "2020-06-02T23:26:52.889146Z"
    }
   },
   "outputs": [],
   "source": [
    "# export\n",
    "class Inversible(nn.Module):\n",
    "    def __init__(self):\n",
    "        super().__init__()\n",
    "       \n",
    "    def forward_param(self): raise NotImplementedError('Please implement forward_param() method')\n",
    "    def inverse_param(self): raise NotImplementedError('Please implement inverse_param() method')\n",
    "        \n",
    "    # Call this method to get a copy of \"inverse aware\" reconstructed parameters\n",
    "    def get_param(self):\n",
    "        with torch.no_grad():\n",
    "            return self.forward_param().detach().clone() \n",
    "    \n",
    "    def inverse(self): raise NotImplementedError('Please implement inverse() method')"
   ]
  },
  {
   "cell_type": "markdown",
   "metadata": {
    "ExecuteTime": {
     "end_time": "2020-04-30T03:51:39.031196Z",
     "start_time": "2020-04-30T03:51:39.027408Z"
    }
   },
   "source": [
    "Do `Inverse(Module)` to take its inverse:"
   ]
  },
  {
   "cell_type": "code",
   "execution_count": 6,
   "metadata": {
    "ExecuteTime": {
     "end_time": "2020-06-02T23:26:52.902697Z",
     "start_time": "2020-06-02T23:26:52.894988Z"
    }
   },
   "outputs": [],
   "source": [
    "# export\n",
    "class Inverse(Inversible): # Note that Inverse is itself Inversible...\n",
    "    def __init__(self, m):\n",
    "        super().__init__()\n",
    "        self.m = m\n",
    "        \n",
    "    def __repr__(self):\n",
    "        return f\"{self.__class__.__name__}({self.m.__repr__()})\"\n",
    "    \n",
    "    def forward_param(self): return self.m.inverse_param()\n",
    "    def inverse_param(self): return self.m.forward_param()\n",
    "    \n",
    "    def forward(self, x): return self.m.inverse(x)\n",
    "    def inverse(self, x): return self.m.forward(x)"
   ]
  },
  {
   "cell_type": "markdown",
   "metadata": {},
   "source": [
    "Have a basic test to test inversibility"
   ]
  },
  {
   "cell_type": "code",
   "execution_count": 7,
   "metadata": {
    "ExecuteTime": {
     "end_time": "2020-06-02T23:26:52.908735Z",
     "start_time": "2020-06-02T23:26:52.903624Z"
    }
   },
   "outputs": [],
   "source": [
    "# export\n",
    "def assert_inversible(m, x, y, **kwargs):\n",
    "    assert_allclose(m(x),          y, **kwargs)\n",
    "    assert_allclose(Inverse(m)(y), x, **kwargs)"
   ]
  },
  {
   "cell_type": "code",
   "execution_count": 8,
   "metadata": {
    "ExecuteTime": {
     "end_time": "2020-06-02T23:26:52.926948Z",
     "start_time": "2020-06-02T23:26:52.909865Z"
    }
   },
   "outputs": [
    {
     "data": {
      "text/plain": [
       "(Inversible(), Inverse(Inversible()), Inverse(Inverse(Inversible())))"
      ]
     },
     "execution_count": 8,
     "metadata": {},
     "output_type": "execute_result"
    }
   ],
   "source": [
    "a = Inversible(); b = Inverse(a); c = Inverse(b)\n",
    "a,b,c"
   ]
  },
  {
   "cell_type": "markdown",
   "metadata": {},
   "source": [
    "# Translation module"
   ]
  },
  {
   "cell_type": "markdown",
   "metadata": {
    "ExecuteTime": {
     "end_time": "2020-05-02T01:21:28.774565Z",
     "start_time": "2020-05-02T01:21:28.768732Z"
    }
   },
   "source": [
    "This performs a simple 3D translation; the inverse is simply subtracting the translation"
   ]
  },
  {
   "cell_type": "code",
   "execution_count": 9,
   "metadata": {
    "ExecuteTime": {
     "end_time": "2020-06-02T23:26:52.938465Z",
     "start_time": "2020-06-02T23:26:52.928497Z"
    }
   },
   "outputs": [],
   "source": [
    "# export\n",
    "class Translation(Inversible):\n",
    "    def __init__(self, t):\n",
    "        super().__init__()\n",
    "        self.t = tensors2parameters(t)\n",
    "        \n",
    "    def __repr__(self):\n",
    "        return f'{self.__class__.__name__}(tx:{self.t[0]:.4} ty:{self.t[1]:.4} tz:{self.t[2]:.4})'\n",
    "        \n",
    "    def forward_param(self): return  self.t\n",
    "    def inverse_param(self): return -self.forward_param()\n",
    "        \n",
    "    def forward(self, ps, inverse=False): \n",
    "        t = self.forward_param() if not inverse else self.inverse_param()\n",
    "        return ps + t\n",
    "    def inverse(self, ps): return self.forward(ps, inverse=True)"
   ]
  },
  {
   "cell_type": "code",
   "execution_count": 10,
   "metadata": {
    "ExecuteTime": {
     "end_time": "2020-06-02T23:26:52.945799Z",
     "start_time": "2020-06-02T23:26:52.939874Z"
    }
   },
   "outputs": [
    {
     "data": {
      "text/plain": [
       "(Translation(tx:1.0 ty:2.0 tz:3.0), Inverse(Translation(tx:1.0 ty:2.0 tz:3.0)))"
      ]
     },
     "execution_count": 10,
     "metadata": {},
     "output_type": "execute_result"
    }
   ],
   "source": [
    "t = torch.Tensor([1,2,3])\n",
    "a = Translation(t); b = Inverse(a);\n",
    "a, b"
   ]
  },
  {
   "cell_type": "code",
   "execution_count": 11,
   "metadata": {
    "ExecuteTime": {
     "end_time": "2020-06-02T23:26:52.953154Z",
     "start_time": "2020-06-02T23:26:52.946635Z"
    }
   },
   "outputs": [
    {
     "data": {
      "text/plain": [
       "tensor([[0.6471, 0.1149, 0.9713],\n",
       "        [0.8466, 0.4884, 0.3746],\n",
       "        [0.6562, 0.9858, 0.4299],\n",
       "        [0.9856, 0.1484, 0.4646]])"
      ]
     },
     "execution_count": 11,
     "metadata": {},
     "output_type": "execute_result"
    }
   ],
   "source": [
    "ps = torch.rand(4,3)\n",
    "ps"
   ]
  },
  {
   "cell_type": "code",
   "execution_count": 12,
   "metadata": {
    "ExecuteTime": {
     "end_time": "2020-06-02T23:26:52.958663Z",
     "start_time": "2020-06-02T23:26:52.954197Z"
    }
   },
   "outputs": [],
   "source": [
    "assert_inversible(a, ps, ps+t, atol=1e-4)\n",
    "assert_inversible(b, ps, ps-t, atol=1e-4)"
   ]
  },
  {
   "cell_type": "code",
   "execution_count": 13,
   "metadata": {
    "ExecuteTime": {
     "end_time": "2020-06-02T23:26:52.966381Z",
     "start_time": "2020-06-02T23:26:52.960103Z"
    }
   },
   "outputs": [],
   "source": [
    "assert_allclose(a.get_param(),  t)\n",
    "assert_allclose(b.get_param(), -t)"
   ]
  },
  {
   "cell_type": "markdown",
   "metadata": {},
   "source": [
    "# Rotation module"
   ]
  },
  {
   "cell_type": "markdown",
   "metadata": {},
   "source": [
    "This performs a simple 3D rotation; the inverse is simply the transpose. Implement the reconstruction in the `r2R()` method for child classes."
   ]
  },
  {
   "cell_type": "code",
   "execution_count": 14,
   "metadata": {
    "ExecuteTime": {
     "end_time": "2020-06-02T23:26:52.972321Z",
     "start_time": "2020-06-02T23:26:52.967343Z"
    }
   },
   "outputs": [],
   "source": [
    "# export\n",
    "class Rotation(Inversible):\n",
    "    def __init__(self):\n",
    "        super().__init__()\n",
    "        \n",
    "    def r2R(self):\n",
    "        raise NotImplementedError('Please implement rotation matrix reconstruction')       \n",
    "    \n",
    "    def forward_param(self): return self.r2R()\n",
    "    def inverse_param(self): return self.forward_param().T\n",
    "        \n",
    "    def forward(self, ps, inverse=False): \n",
    "        R = self.forward_param() if not inverse else self.inverse_param()\n",
    "        return pmm(R, ps)\n",
    "    def inverse(self, ps): return self.forward(ps, inverse=True)"
   ]
  },
  {
   "cell_type": "markdown",
   "metadata": {},
   "source": [
    "### Euler"
   ]
  },
  {
   "cell_type": "markdown",
   "metadata": {},
   "source": [
    "Note that in particular, `euler2R` must be differentiable"
   ]
  },
  {
   "cell_type": "code",
   "execution_count": 15,
   "metadata": {
    "ExecuteTime": {
     "end_time": "2020-06-02T23:26:52.978598Z",
     "start_time": "2020-06-02T23:26:52.973289Z"
    }
   },
   "outputs": [],
   "source": [
    "# export\n",
    "def R2euler(R):\n",
    "    atan2 = torch.atan2\n",
    "    \n",
    "    return (atan2(R[2, 1], R[2, 2]),\n",
    "            atan2(-R[2, 0], torch.sqrt(R[0, 0]**2+R[1, 0]**2)),\n",
    "            atan2(R[1, 0], R[0, 0]))"
   ]
  },
  {
   "cell_type": "code",
   "execution_count": 16,
   "metadata": {
    "ExecuteTime": {
     "end_time": "2020-06-02T23:26:52.984723Z",
     "start_time": "2020-06-02T23:26:52.979708Z"
    }
   },
   "outputs": [],
   "source": [
    "# export\n",
    "def euler2R(e_x, e_y, e_z):\n",
    "    s, c = torch.sin, torch.cos\n",
    "    stack = torch.stack\n",
    "    \n",
    "    return stack([\n",
    "        stack([c(e_y)*c(e_z), c(e_z)*s(e_x)*s(e_y) - c(e_x)*s(e_z), s(e_x)*s(e_z) + c(e_x)*c(e_z)*s(e_y)]),\n",
    "        stack([c(e_y)*s(e_z), c(e_x)*c(e_z) + s(e_x)*s(e_y)*s(e_z), c(e_x)*s(e_y)*s(e_z) - c(e_z)*s(e_x)]),\n",
    "        stack([      -s(e_y),                        c(e_y)*s(e_x),                        c(e_x)*c(e_y)])\n",
    "    ])"
   ]
  },
  {
   "cell_type": "markdown",
   "metadata": {
    "ExecuteTime": {
     "end_time": "2020-04-29T02:43:41.932602Z",
     "start_time": "2020-04-29T02:43:41.926112Z"
    }
   },
   "source": [
    "Test to make sure r->R->r is consistent"
   ]
  },
  {
   "cell_type": "code",
   "execution_count": 17,
   "metadata": {
    "ExecuteTime": {
     "end_time": "2020-06-02T23:26:52.993624Z",
     "start_time": "2020-06-02T23:26:52.985728Z"
    }
   },
   "outputs": [
    {
     "data": {
      "text/plain": [
       "(tensor(0.9179), tensor(0.7129), tensor(0.7138))"
      ]
     },
     "execution_count": 17,
     "metadata": {},
     "output_type": "execute_result"
    }
   ],
   "source": [
    "euler = tuple(torch.rand(3))\n",
    "euler"
   ]
  },
  {
   "cell_type": "code",
   "execution_count": 18,
   "metadata": {
    "ExecuteTime": {
     "end_time": "2020-06-02T23:26:52.998340Z",
     "start_time": "2020-06-02T23:26:52.995130Z"
    }
   },
   "outputs": [],
   "source": [
    "assert_allclose(euler, R2euler(euler2R(*euler)))"
   ]
  },
  {
   "cell_type": "code",
   "execution_count": 19,
   "metadata": {
    "ExecuteTime": {
     "end_time": "2020-06-02T23:26:53.003751Z",
     "start_time": "2020-06-02T23:26:52.999243Z"
    }
   },
   "outputs": [],
   "source": [
    "# export\n",
    "class EulerRotation(Rotation):\n",
    "    def __init__(self, R):\n",
    "        super().__init__()\n",
    "        self.ex, self.ey, self.ez = tensors2parameters(*R2euler(R))\n",
    "    \n",
    "    def __repr__(self):\n",
    "        return f'{self.__class__.__name__}(ex:{self.ex:.4} ey:{self.ey:.4} ez:{self.ez:.4})'\n",
    "    \n",
    "    def r2R(self): return euler2R(self.ex, self.ey, self.ez)"
   ]
  },
  {
   "cell_type": "code",
   "execution_count": 20,
   "metadata": {
    "ExecuteTime": {
     "end_time": "2020-06-02T23:26:53.010618Z",
     "start_time": "2020-06-02T23:26:53.004778Z"
    }
   },
   "outputs": [
    {
     "data": {
      "text/plain": [
       "(EulerRotation(ex:-2.142 ey:1.142 ez:-0.1416),\n",
       " Inverse(EulerRotation(ex:-2.142 ey:1.142 ez:-0.1416)))"
      ]
     },
     "execution_count": 20,
     "metadata": {},
     "output_type": "execute_result"
    }
   ],
   "source": [
    "R = euler2R(*torch.Tensor([1,2,3]))\n",
    "a = EulerRotation(R); b = Inverse(a)\n",
    "a,b"
   ]
  },
  {
   "cell_type": "code",
   "execution_count": 21,
   "metadata": {
    "ExecuteTime": {
     "end_time": "2020-06-02T23:26:53.015965Z",
     "start_time": "2020-06-02T23:26:53.011619Z"
    }
   },
   "outputs": [
    {
     "data": {
      "text/plain": [
       "tensor([[0.1301, 0.7905, 0.9998],\n",
       "        [0.9564, 0.7389, 0.3912],\n",
       "        [0.1560, 0.4153, 0.8010],\n",
       "        [0.8545, 0.4363, 0.0959]])"
      ]
     },
     "execution_count": 21,
     "metadata": {},
     "output_type": "execute_result"
    }
   ],
   "source": [
    "ps = torch.rand(4,3)\n",
    "ps"
   ]
  },
  {
   "cell_type": "code",
   "execution_count": 22,
   "metadata": {
    "ExecuteTime": {
     "end_time": "2020-06-02T23:26:53.022638Z",
     "start_time": "2020-06-02T23:26:53.016946Z"
    }
   },
   "outputs": [],
   "source": [
    "assert_inversible(a, ps, pmm(R,   ps), atol=1e-4)\n",
    "assert_inversible(b, ps, pmm(R.T, ps), atol=1e-4)"
   ]
  },
  {
   "cell_type": "code",
   "execution_count": 23,
   "metadata": {
    "ExecuteTime": {
     "end_time": "2020-06-02T23:26:53.027005Z",
     "start_time": "2020-06-02T23:26:53.023543Z"
    }
   },
   "outputs": [],
   "source": [
    "assert_allclose(a.get_param(), R)\n",
    "assert_allclose(b.get_param(), R.T)"
   ]
  },
  {
   "cell_type": "markdown",
   "metadata": {},
   "source": [
    "# InversibleSequential Module"
   ]
  },
  {
   "cell_type": "markdown",
   "metadata": {},
   "source": [
    "Having inversible composible modules will be super useful. This is basically nn.Sequential but I've made it inversible. Note that:\n",
    "`y = f(g(h(x)))` implies that `x = h^-1(g^-1(f^-1(y)))`. So basically just reverse the order and take the inverse of each function to invert the whole thing."
   ]
  },
  {
   "cell_type": "code",
   "execution_count": 24,
   "metadata": {
    "ExecuteTime": {
     "end_time": "2020-06-02T23:26:53.034663Z",
     "start_time": "2020-06-02T23:26:53.029158Z"
    }
   },
   "outputs": [],
   "source": [
    "# export\n",
    "class InversibleSequential(Inversible):\n",
    "    def __init__(self, ms):\n",
    "        super().__init__()\n",
    "        self.ms = nn.ModuleList(ms)  \n",
    "    \n",
    "    def forward(self, x):\n",
    "        for m in self.ms: \n",
    "            x = m.forward(x)\n",
    "        return x\n",
    "    \n",
    "    def inverse(self, x):\n",
    "        for m in reversed(self.ms):\n",
    "            x = m.inverse(x)\n",
    "        return x"
   ]
  },
  {
   "cell_type": "markdown",
   "metadata": {},
   "source": [
    "# Rigid"
   ]
  },
  {
   "cell_type": "markdown",
   "metadata": {},
   "source": [
    "Rigid transform is a rotation followed by translation."
   ]
  },
  {
   "cell_type": "code",
   "execution_count": 25,
   "metadata": {
    "ExecuteTime": {
     "end_time": "2020-06-02T23:26:53.040758Z",
     "start_time": "2020-06-02T23:26:53.035910Z"
    }
   },
   "outputs": [],
   "source": [
    "# export\n",
    "def Rt2M(R, t):\n",
    "    M = torch.cat([R, t[:,None]], dim=1)\n",
    "    M = torch.cat([M, M.new_tensor([[0,0,0,1]])])\n",
    "    return M"
   ]
  },
  {
   "cell_type": "code",
   "execution_count": 26,
   "metadata": {
    "ExecuteTime": {
     "end_time": "2020-06-02T23:26:53.047041Z",
     "start_time": "2020-06-02T23:26:53.041772Z"
    }
   },
   "outputs": [],
   "source": [
    "# export\n",
    "def M2Rt(M): return M[0:3,0:3], M[0:3,3]"
   ]
  },
  {
   "cell_type": "code",
   "execution_count": 27,
   "metadata": {
    "ExecuteTime": {
     "end_time": "2020-06-02T23:26:53.053061Z",
     "start_time": "2020-06-02T23:26:53.048013Z"
    }
   },
   "outputs": [],
   "source": [
    "# export\n",
    "def invert_rigid(M):\n",
    "    R, t = M2Rt(M)\n",
    "    return Rt2M(R.T, -R.T@t)"
   ]
  },
  {
   "cell_type": "markdown",
   "metadata": {},
   "source": [
    "Test to make sure `torch.inverse` returns same answer as `invert_rigid` for rigid transformations"
   ]
  },
  {
   "cell_type": "code",
   "execution_count": 28,
   "metadata": {
    "ExecuteTime": {
     "end_time": "2020-06-02T23:26:53.059727Z",
     "start_time": "2020-06-02T23:26:53.054171Z"
    }
   },
   "outputs": [],
   "source": [
    "R, t = euler2R(*tuple(torch.Tensor([1,2,3]))), torch.Tensor([1,2,3])\n",
    "M = Rt2M(R, t)\n",
    "assert_allclose(invert_rigid(M), torch.inverse(M))"
   ]
  },
  {
   "cell_type": "code",
   "execution_count": 29,
   "metadata": {
    "ExecuteTime": {
     "end_time": "2020-06-02T23:26:53.065202Z",
     "start_time": "2020-06-02T23:26:53.060797Z"
    }
   },
   "outputs": [],
   "source": [
    "# export\n",
    "class Rigid(InversibleSequential):\n",
    "    def __init__(self, R, t, Rotation=EulerRotation):\n",
    "        super().__init__([Rotation(R), Translation(t)]) # NOTE: rotation happens first\n",
    "        \n",
    "    def forward_param(self):\n",
    "        return Rt2M(self.ms[0].forward_param(), # R \n",
    "                    self.ms[1].forward_param()) # t\n",
    "        \n",
    "    def inverse_param(self): return invert_rigid(self.forward_param())"
   ]
  },
  {
   "cell_type": "code",
   "execution_count": 30,
   "metadata": {
    "ExecuteTime": {
     "end_time": "2020-06-02T23:26:53.072915Z",
     "start_time": "2020-06-02T23:26:53.066229Z"
    }
   },
   "outputs": [
    {
     "data": {
      "text/plain": [
       "(Rigid(\n",
       "   (ms): ModuleList(\n",
       "     (0): EulerRotation(ex:-2.142 ey:1.142 ez:-0.1416)\n",
       "     (1): Translation(tx:1.0 ty:2.0 tz:3.0)\n",
       "   )\n",
       " ), Inverse(Rigid(\n",
       "   (ms): ModuleList(\n",
       "     (0): EulerRotation(ex:-2.142 ey:1.142 ez:-0.1416)\n",
       "     (1): Translation(tx:1.0 ty:2.0 tz:3.0)\n",
       "   )\n",
       " )))"
      ]
     },
     "execution_count": 30,
     "metadata": {},
     "output_type": "execute_result"
    }
   ],
   "source": [
    "R, t = euler2R(*tuple(torch.Tensor([1,2,3]))), torch.Tensor([1,2,3])\n",
    "a = Rigid(R, t); b = Inverse(a)\n",
    "a,b"
   ]
  },
  {
   "cell_type": "code",
   "execution_count": 31,
   "metadata": {
    "ExecuteTime": {
     "end_time": "2020-06-02T23:26:53.078004Z",
     "start_time": "2020-06-02T23:26:53.073837Z"
    }
   },
   "outputs": [
    {
     "data": {
      "text/plain": [
       "tensor([[0.8170, 0.4538, 0.2851],\n",
       "        [0.3702, 0.7993, 0.7266],\n",
       "        [0.3801, 0.3176, 0.0294],\n",
       "        [0.9325, 0.9712, 0.3129]])"
      ]
     },
     "execution_count": 31,
     "metadata": {},
     "output_type": "execute_result"
    }
   ],
   "source": [
    "ps = torch.rand(4,3)\n",
    "ps"
   ]
  },
  {
   "cell_type": "code",
   "execution_count": 32,
   "metadata": {
    "ExecuteTime": {
     "end_time": "2020-06-02T23:26:53.083123Z",
     "start_time": "2020-06-02T23:26:53.078875Z"
    }
   },
   "outputs": [],
   "source": [
    "M = Rt2M(R,t)\n",
    "M_inv = invert_rigid(M)\n",
    "R_inv, t_inv = M2Rt(M_inv)"
   ]
  },
  {
   "cell_type": "code",
   "execution_count": 33,
   "metadata": {
    "ExecuteTime": {
     "end_time": "2020-06-02T23:26:53.092267Z",
     "start_time": "2020-06-02T23:26:53.084082Z"
    }
   },
   "outputs": [],
   "source": [
    "assert_inversible(a, ps, pmm(R,     ps) + t,     atol=1e-4)\n",
    "assert_inversible(b, ps, pmm(R_inv, ps) + t_inv, atol=1e-4)"
   ]
  },
  {
   "cell_type": "code",
   "execution_count": 34,
   "metadata": {
    "ExecuteTime": {
     "end_time": "2020-06-02T23:26:53.097086Z",
     "start_time": "2020-06-02T23:26:53.093709Z"
    }
   },
   "outputs": [],
   "source": [
    "assert_allclose(a.get_param(), M)\n",
    "assert_allclose(b.get_param(), M_inv)"
   ]
  },
  {
   "cell_type": "markdown",
   "metadata": {
    "ExecuteTime": {
     "end_time": "2020-05-02T03:08:06.759294Z",
     "start_time": "2020-05-02T03:08:06.752916Z"
    }
   },
   "source": [
    "Create a wrapper for composing multiple `Rigid`s"
   ]
  },
  {
   "cell_type": "code",
   "execution_count": 35,
   "metadata": {
    "ExecuteTime": {
     "end_time": "2020-06-02T23:26:53.102421Z",
     "start_time": "2020-06-02T23:26:53.098188Z"
    }
   },
   "outputs": [],
   "source": [
    "def mult_rigid(M1, M2):\n",
    "    R1, t1 = M2Rt(M1)\n",
    "    R2, t2 = M2Rt(M2)\n",
    "    return Rt2M(R1@R2, R1@t2+t1)"
   ]
  },
  {
   "cell_type": "code",
   "execution_count": 36,
   "metadata": {
    "ExecuteTime": {
     "end_time": "2020-06-02T23:26:53.109382Z",
     "start_time": "2020-06-02T23:26:53.103272Z"
    }
   },
   "outputs": [],
   "source": [
    "R1, t1 = euler2R(*tuple(torch.Tensor([1,2,3]))), torch.Tensor([1,2,3])\n",
    "R2, t2 = euler2R(*tuple(torch.Tensor([2,2,2]))), torch.Tensor([2,2,2])\n",
    "M1, M2 = Rt2M(R1, t1), Rt2M(R2, t2)\n",
    "assert_allclose(mult_rigid(M2, M1), M2@M1)"
   ]
  },
  {
   "cell_type": "code",
   "execution_count": 37,
   "metadata": {
    "ExecuteTime": {
     "end_time": "2020-06-02T23:26:53.114591Z",
     "start_time": "2020-06-02T23:26:53.110496Z"
    }
   },
   "outputs": [],
   "source": [
    "# export\n",
    "class Rigids(InversibleSequential):\n",
    "    def __init__(self, rigids):\n",
    "        super().__init__(rigids)\n",
    "    \n",
    "    def forward_param(self):\n",
    "        M = torch.eye(4)\n",
    "        for m in self.ms:\n",
    "            M = mult_rigid(m.forward_param(), M)\n",
    "        return M\n",
    "    \n",
    "    def inverse_param(self): return invert_rigid(self.forward_param())"
   ]
  },
  {
   "cell_type": "code",
   "execution_count": 38,
   "metadata": {
    "ExecuteTime": {
     "end_time": "2020-06-02T23:26:53.124583Z",
     "start_time": "2020-06-02T23:26:53.115592Z"
    }
   },
   "outputs": [],
   "source": [
    "R_a = euler2R(*tuple(torch.Tensor([ 1, 2, 3]))); t_a = torch.Tensor([1,2,3]); a = Rigid(R_a, t_a)\n",
    "R_b = euler2R(*tuple(torch.Tensor([.5, 1, 1]))); t_b = torch.Tensor([3,2,2]); b = Inverse(Rigid(R_b, t_b))\n",
    "R_c = euler2R(*tuple(torch.Tensor([.3,.1, 0]))); t_c = torch.Tensor([3,3,3]); c = Rigid(R_c, t_c)"
   ]
  },
  {
   "cell_type": "code",
   "execution_count": 39,
   "metadata": {
    "ExecuteTime": {
     "end_time": "2020-06-02T23:26:53.128622Z",
     "start_time": "2020-06-02T23:26:53.125627Z"
    }
   },
   "outputs": [],
   "source": [
    "d = Rigids([a,b,c])"
   ]
  },
  {
   "cell_type": "code",
   "execution_count": 40,
   "metadata": {
    "ExecuteTime": {
     "end_time": "2020-06-02T23:26:53.134853Z",
     "start_time": "2020-06-02T23:26:53.129624Z"
    }
   },
   "outputs": [],
   "source": [
    "M_a = Rt2M(R_a, t_a)\n",
    "M_b = Rt2M(R_b.T, -R_b.T@t_b)\n",
    "M_c = Rt2M(R_c, t_c)\n",
    "M_d = M_c@M_b@M_a"
   ]
  },
  {
   "cell_type": "code",
   "execution_count": 41,
   "metadata": {
    "ExecuteTime": {
     "end_time": "2020-06-02T23:26:53.140252Z",
     "start_time": "2020-06-02T23:26:53.135844Z"
    }
   },
   "outputs": [],
   "source": [
    "R_d, t_d = M2Rt(M_d)"
   ]
  },
  {
   "cell_type": "code",
   "execution_count": 42,
   "metadata": {
    "ExecuteTime": {
     "end_time": "2020-06-02T23:26:53.148579Z",
     "start_time": "2020-06-02T23:26:53.141126Z"
    }
   },
   "outputs": [],
   "source": [
    "assert_inversible(d, ps, pmm(R_d, ps) + t_d, atol=1e-4)"
   ]
  },
  {
   "cell_type": "code",
   "execution_count": 43,
   "metadata": {
    "ExecuteTime": {
     "end_time": "2020-06-02T23:26:53.152950Z",
     "start_time": "2020-06-02T23:26:53.149481Z"
    }
   },
   "outputs": [],
   "source": [
    "assert_allclose(d.get_param(), M_d)"
   ]
  },
  {
   "cell_type": "markdown",
   "metadata": {
    "ExecuteTime": {
     "end_time": "2020-05-05T21:55:43.455346Z",
     "start_time": "2020-05-05T21:55:43.453510Z"
    }
   },
   "source": [
    "# Normalize"
   ]
  },
  {
   "cell_type": "markdown",
   "metadata": {},
   "source": [
    "This will normalize 3D coordinates (i.e. project points to \"unit\" image plane)."
   ]
  },
  {
   "cell_type": "code",
   "execution_count": 44,
   "metadata": {
    "ExecuteTime": {
     "end_time": "2020-06-02T23:26:53.158003Z",
     "start_time": "2020-06-02T23:26:53.153945Z"
    }
   },
   "outputs": [],
   "source": [
    "# export\n",
    "class Normalize(nn.Module): # Note: Not Inversible\n",
    "    def __init__(self):\n",
    "        super().__init__()\n",
    "        \n",
    "    def forward(self, ps): return normalize(ps)"
   ]
  },
  {
   "cell_type": "code",
   "execution_count": 45,
   "metadata": {
    "ExecuteTime": {
     "end_time": "2020-06-02T23:26:53.165787Z",
     "start_time": "2020-06-02T23:26:53.158999Z"
    }
   },
   "outputs": [
    {
     "data": {
      "text/plain": [
       "tensor([[0.7521, 0.8615, 0.3213],\n",
       "        [0.6077, 0.2838, 0.2886],\n",
       "        [0.9086, 0.5307, 0.3706],\n",
       "        [0.6055, 0.0148, 0.6356]])"
      ]
     },
     "execution_count": 45,
     "metadata": {},
     "output_type": "execute_result"
    }
   ],
   "source": [
    "ps = torch.rand(4,3)\n",
    "ps"
   ]
  },
  {
   "cell_type": "code",
   "execution_count": 46,
   "metadata": {
    "ExecuteTime": {
     "end_time": "2020-06-02T23:26:53.170740Z",
     "start_time": "2020-06-02T23:26:53.166860Z"
    }
   },
   "outputs": [],
   "source": [
    "assert_allclose(Normalize()(ps), ps[:,0:2]/ps[:,2:3])"
   ]
  },
  {
   "cell_type": "markdown",
   "metadata": {},
   "source": [
    "# Augment"
   ]
  },
  {
   "cell_type": "markdown",
   "metadata": {
    "ExecuteTime": {
     "end_time": "2020-05-05T23:26:15.800252Z",
     "start_time": "2020-05-05T23:26:15.791287Z"
    }
   },
   "source": [
    "Adds `one`s to input array; note this is `Inversible`"
   ]
  },
  {
   "cell_type": "code",
   "execution_count": 47,
   "metadata": {
    "ExecuteTime": {
     "end_time": "2020-06-02T23:26:53.176789Z",
     "start_time": "2020-06-02T23:26:53.171734Z"
    }
   },
   "outputs": [],
   "source": [
    "# export\n",
    "class Augment(Inversible):\n",
    "    def __init__(self):\n",
    "        super().__init__()\n",
    "\n",
    "    def forward(self, ps): return augment(ps)\n",
    "    def inverse(self, ps): return deaugment(ps)"
   ]
  },
  {
   "cell_type": "markdown",
   "metadata": {},
   "source": [
    "Test to make sure `one`s are added and removed"
   ]
  },
  {
   "cell_type": "code",
   "execution_count": 48,
   "metadata": {
    "ExecuteTime": {
     "end_time": "2020-06-02T23:26:53.183590Z",
     "start_time": "2020-06-02T23:26:53.177814Z"
    }
   },
   "outputs": [
    {
     "data": {
      "text/plain": [
       "tensor([[0.0156, 0.3546],\n",
       "        [0.3013, 0.1058],\n",
       "        [0.9760, 0.7847],\n",
       "        [0.6738, 0.1457]])"
      ]
     },
     "execution_count": 48,
     "metadata": {},
     "output_type": "execute_result"
    }
   ],
   "source": [
    "ps = torch.rand(4,2)\n",
    "ps"
   ]
  },
  {
   "cell_type": "code",
   "execution_count": 49,
   "metadata": {
    "ExecuteTime": {
     "end_time": "2020-06-02T23:26:53.189386Z",
     "start_time": "2020-06-02T23:26:53.184539Z"
    }
   },
   "outputs": [],
   "source": [
    "assert_inversible(Augment(), ps, torch.cat([ps, torch.ones(len(ps),1)], dim=1))"
   ]
  },
  {
   "cell_type": "markdown",
   "metadata": {},
   "source": [
    "# Distortion"
   ]
  },
  {
   "cell_type": "markdown",
   "metadata": {},
   "source": [
    "This will apply distortion model to 2D points. Note for now I didn't find much commonality so I didn't make a base class. Also note that distortions are typically not inversible (at least not analytically to my knowledge), so exclude for now."
   ]
  },
  {
   "cell_type": "markdown",
   "metadata": {},
   "source": [
    "### No distortion"
   ]
  },
  {
   "cell_type": "code",
   "execution_count": 50,
   "metadata": {
    "ExecuteTime": {
     "end_time": "2020-06-02T23:26:53.195820Z",
     "start_time": "2020-06-02T23:26:53.190341Z"
    }
   },
   "outputs": [],
   "source": [
    "# export\n",
    "class NoDistortion(nn.Module):\n",
    "    def __init__():\n",
    "        super().__init__()\n",
    "        \n",
    "    def forward(self, ps): return ps"
   ]
  },
  {
   "cell_type": "markdown",
   "metadata": {
    "ExecuteTime": {
     "end_time": "2020-05-05T23:35:04.096552Z",
     "start_time": "2020-05-05T23:35:04.092319Z"
    }
   },
   "source": [
    "### Heikkila97 distortion"
   ]
  },
  {
   "cell_type": "code",
   "execution_count": 51,
   "metadata": {
    "ExecuteTime": {
     "end_time": "2020-06-02T23:26:53.202691Z",
     "start_time": "2020-06-02T23:26:53.196862Z"
    }
   },
   "outputs": [],
   "source": [
    "# export\n",
    "class Heikkila97Distortion(nn.Module):\n",
    "    def __init__(self, k1, k2, p1, p2):\n",
    "        super().__init__()\n",
    "        self.k1, self.k2, self.p1, self.p2 = tensors2parameters(k1, k2, p1, p2)\n",
    "    \n",
    "    def __repr__(self):\n",
    "        return f'{self.__class__.__name__}(k1:{self.k1:.4} k2:{self.k2:.4} p1:{self.p1:.4} p2:{self.p2:.4})'\n",
    "    \n",
    "    def forward(self, ps):\n",
    "        xs, ys = ps[:,0], ps[:,1]\n",
    "        \n",
    "        # Radial distortion\n",
    "        k1, k2 = self.k1, self.k2\n",
    "        rs = xs**2 + ys**2\n",
    "        xs_r = xs*(1 + k1*rs + k2*rs**2)\n",
    "        ys_r = ys*(1 + k1*rs + k2*rs**2)\n",
    "\n",
    "        # Decentering distortion\n",
    "        p1, p2 = self.p1, self.p2        \n",
    "        xs_d = xs_r + 2*p1*xs*ys + p2*(3*xs**2 + ys**2)\n",
    "        ys_d = ys_r + p1*(xs**2 + 3*ys**2) + 2*p2*xs*ys\n",
    "        \n",
    "        return torch.stack([xs_d, ys_d]).T"
   ]
  },
  {
   "cell_type": "code",
   "execution_count": 52,
   "metadata": {
    "ExecuteTime": {
     "end_time": "2020-06-02T23:26:53.212234Z",
     "start_time": "2020-06-02T23:26:53.204447Z"
    }
   },
   "outputs": [
    {
     "data": {
      "text/plain": [
       "Heikkila97Distortion(k1:0.01 k2:0.02 p1:0.03 p2:0.04)"
      ]
     },
     "execution_count": 52,
     "metadata": {},
     "output_type": "execute_result"
    }
   ],
   "source": [
    "distortion = Heikkila97Distortion(*torch.Tensor([.01, 0.02, 0.03, 0.04]))\n",
    "distortion"
   ]
  },
  {
   "cell_type": "code",
   "execution_count": 53,
   "metadata": {
    "ExecuteTime": {
     "end_time": "2020-06-02T23:26:53.217800Z",
     "start_time": "2020-06-02T23:26:53.213627Z"
    }
   },
   "outputs": [],
   "source": [
    "ps = torch.Tensor([[0.1900, 0.2467],\n",
    "                   [0.9817, 0.7349],\n",
    "                   [0.2432, 1.6161],\n",
    "                   [0.2194, 0.4353]])\n",
    "assert_allclose(distortion(ps),\n",
    "                torch.Tensor([[0.1998, 0.2573],\n",
    "                              [1.2215, 0.9145],\n",
    "                              [0.4196, 2.1581],\n",
    "                              [0.2393, 0.4630]]), atol=1e-4)"
   ]
  },
  {
   "cell_type": "markdown",
   "metadata": {
    "ExecuteTime": {
     "end_time": "2020-05-05T23:35:34.332425Z",
     "start_time": "2020-05-05T23:35:34.329342Z"
    }
   },
   "source": [
    "### Wang08 distortion"
   ]
  },
  {
   "cell_type": "code",
   "execution_count": 54,
   "metadata": {
    "ExecuteTime": {
     "end_time": "2020-06-02T23:26:53.224124Z",
     "start_time": "2020-06-02T23:26:53.218836Z"
    }
   },
   "outputs": [],
   "source": [
    "# export\n",
    "class Wang08Distortion(nn.Module):\n",
    "    def __init__(self, k1, k2, p, t):\n",
    "        super().__init__()\n",
    "        self.k1, self.k2, self.p, self.t = tensors2parameters(k1, k2, p, t)\n",
    "    \n",
    "    def __repr__(self):\n",
    "        return f'{self.__class__.__name__}(k1:{self.k1:.4} k2:{self.k2:.4} p:{self.p:.4} t:{self.t:.4})'\n",
    "    \n",
    "    def forward(self, ps):\n",
    "        xs, ys = ps[:,0], ps[:,1]\n",
    "        \n",
    "        # Radial distortion\n",
    "        k1, k2 = self.k1, self.k2\n",
    "        rs = xs**2 + ys**2\n",
    "        xs_r = xs*(1 + k1*rs + k2*rs**2)\n",
    "        ys_r = ys*(1 + k1*rs + k2*rs**2)\n",
    "\n",
    "        # Image plane (small angle approximation) rotation distortion\n",
    "        p, t = self.p, self.t\n",
    "        xs_d = xs_r/(-p*xs_r + t*ys_r + 1)\n",
    "        ys_d = ys_r/(-p*xs_r + t*ys_r + 1)\n",
    "        \n",
    "        return torch.stack([xs_d, ys_d]).T"
   ]
  },
  {
   "cell_type": "markdown",
   "metadata": {},
   "source": [
    "NOTE: possibly refactor the radial distortion part since it appears twice"
   ]
  },
  {
   "cell_type": "code",
   "execution_count": 55,
   "metadata": {
    "ExecuteTime": {
     "end_time": "2020-06-02T23:26:53.233192Z",
     "start_time": "2020-06-02T23:26:53.225193Z"
    }
   },
   "outputs": [
    {
     "data": {
      "text/plain": [
       "Wang08Distortion(k1:0.01 k2:0.02 p:0.03 t:0.04)"
      ]
     },
     "execution_count": 55,
     "metadata": {},
     "output_type": "execute_result"
    }
   ],
   "source": [
    "distortion = Wang08Distortion(*torch.Tensor([.01, 0.02, 0.03, 0.04]))\n",
    "distortion"
   ]
  },
  {
   "cell_type": "code",
   "execution_count": 56,
   "metadata": {
    "ExecuteTime": {
     "end_time": "2020-06-02T23:26:53.239564Z",
     "start_time": "2020-06-02T23:26:53.234323Z"
    }
   },
   "outputs": [],
   "source": [
    "ps = torch.Tensor([[0.1900, 0.2467],\n",
    "                   [0.9817, 0.7349],\n",
    "                   [0.2432, 1.6161],\n",
    "                   [0.2194, 0.4353]])\n",
    "assert_allclose(distortion(ps),\n",
    "                torch.Tensor([[0.1894, 0.2460],\n",
    "                              [1.0409, 0.7792],\n",
    "                              [0.2665, 1.7711],\n",
    "                              [0.2178, 0.4321]]), atol=1e-4)"
   ]
  },
  {
   "cell_type": "markdown",
   "metadata": {},
   "source": [
    "# Camera matrix"
   ]
  },
  {
   "cell_type": "markdown",
   "metadata": {
    "ExecuteTime": {
     "end_time": "2020-05-03T16:34:07.608445Z",
     "start_time": "2020-05-03T16:34:07.605173Z"
    }
   },
   "source": [
    "This performs the application of the Camera matrix. Implement the reconstruction in the `a2A()` method for child classes."
   ]
  },
  {
   "cell_type": "code",
   "execution_count": 57,
   "metadata": {
    "ExecuteTime": {
     "end_time": "2020-06-02T23:26:53.245571Z",
     "start_time": "2020-06-02T23:26:53.240615Z"
    }
   },
   "outputs": [],
   "source": [
    "# export\n",
    "def a2A(alpha_x, alpha_y, x_o, y_o):\n",
    "    stack = torch.stack\n",
    "    zero, one = alpha_x.new_zeros(1)[0], alpha_x.new_ones(1)[0]\n",
    "    return stack([\n",
    "        stack([alpha_x,    zero, x_o]),\n",
    "        stack([   zero, alpha_y, y_o]),\n",
    "        stack([   zero,    zero, one])\n",
    "    ])"
   ]
  },
  {
   "cell_type": "markdown",
   "metadata": {},
   "source": [
    "NOTE: Possibly refactor `stack(stack())` since I've used this a couple times"
   ]
  },
  {
   "cell_type": "markdown",
   "metadata": {},
   "source": [
    "Test to make sure reconstruction is correct"
   ]
  },
  {
   "cell_type": "code",
   "execution_count": 58,
   "metadata": {
    "ExecuteTime": {
     "end_time": "2020-06-02T23:26:53.252101Z",
     "start_time": "2020-06-02T23:26:53.246489Z"
    }
   },
   "outputs": [],
   "source": [
    "a = torch.Tensor([1.5, -2.5, 3.5])\n",
    "A = a2A(alpha_x=a[0], alpha_y=a[0], x_o=a[1], y_o=a[2])\n",
    "assert_allclose(A, torch.Tensor([[ 1.5,  0.0, -2.5],\n",
    "                                 [ 0.0,  1.5,  3.5],\n",
    "                                 [ 0.0,  0.0,  1.0]]))"
   ]
  },
  {
   "cell_type": "code",
   "execution_count": 59,
   "metadata": {
    "ExecuteTime": {
     "end_time": "2020-06-02T23:26:53.258047Z",
     "start_time": "2020-06-02T23:26:53.253002Z"
    }
   },
   "outputs": [],
   "source": [
    "# export\n",
    "class Cam(Inversible):\n",
    "    def __init__(self):\n",
    "        super().__init__()\n",
    "    \n",
    "    def a2A(self):\n",
    "        raise NotImplementedError('Please implement camera matrix reconstruction')\n",
    "    \n",
    "    def forward_param(self): return self.a2A()\n",
    "    def inverse_param(self): return torch.inverse(self.forward_param()) # Overwrite this in child classes\n",
    "        \n",
    "    def forward(self, ps, inverse=False):\n",
    "        A = self.forward_param() if not inverse else self.inverse_param()\n",
    "        return pmm(A, ps, aug=True)\n",
    "    def inverse(self, ps): return self.forward(ps, inverse=True)"
   ]
  },
  {
   "cell_type": "markdown",
   "metadata": {},
   "source": [
    "### Single focal length"
   ]
  },
  {
   "cell_type": "markdown",
   "metadata": {
    "ExecuteTime": {
     "end_time": "2020-05-03T16:37:13.178310Z",
     "start_time": "2020-05-03T16:37:13.169302Z"
    }
   },
   "source": [
    "Assumes there is only a single `alpha`"
   ]
  },
  {
   "cell_type": "code",
   "execution_count": 60,
   "metadata": {
    "ExecuteTime": {
     "end_time": "2020-06-02T23:26:53.266488Z",
     "start_time": "2020-06-02T23:26:53.259310Z"
    }
   },
   "outputs": [],
   "source": [
    "# export\n",
    "class CamSF(Cam):\n",
    "    def __init__(self, A):\n",
    "        super().__init__()\n",
    "        assert_allclose(A[0,0], A[1,1]) # Check that alpha_x and alpha_y are the same\n",
    "        self.alpha, self.x_o, self.y_o = tensors2parameters(A[0,0], A[0,2], A[1,2])\n",
    "    \n",
    "    def __repr__(self):\n",
    "        return f'{self.__class__.__name__}(alpha:{self.alpha:.4} x_o:{self.x_o:.4} y_o:{self.y_o:.4})'\n",
    "    \n",
    "    def a2A(self):\n",
    "        return a2A(alpha_x=self.alpha, alpha_y=self.alpha, x_o=self.x_o, y_o=self.y_o)\n",
    "    \n",
    "    def inverse_param(self): # Overwrite parent method\n",
    "        return a2A(alpha_x=1/self.alpha, \n",
    "                   alpha_y=1/self.alpha, \n",
    "                   x_o=-self.x_o/self.alpha, \n",
    "                   y_o=-self.y_o/self.alpha)"
   ]
  },
  {
   "cell_type": "code",
   "execution_count": 61,
   "metadata": {
    "ExecuteTime": {
     "end_time": "2020-06-02T23:26:53.273669Z",
     "start_time": "2020-06-02T23:26:53.267559Z"
    }
   },
   "outputs": [
    {
     "data": {
      "text/plain": [
       "CamSF(alpha:1.5 x_o:-2.5 y_o:3.5)"
      ]
     },
     "execution_count": 61,
     "metadata": {},
     "output_type": "execute_result"
    }
   ],
   "source": [
    "a = torch.Tensor([1.5, -2.5, 3.5])\n",
    "A = a2A(alpha_x=a[0], alpha_y=a[0], x_o=a[1], y_o=a[2])\n",
    "cam = CamSF(A)\n",
    "cam"
   ]
  },
  {
   "cell_type": "markdown",
   "metadata": {},
   "source": [
    "Test"
   ]
  },
  {
   "cell_type": "code",
   "execution_count": 62,
   "metadata": {
    "ExecuteTime": {
     "end_time": "2020-06-02T23:26:53.279806Z",
     "start_time": "2020-06-02T23:26:53.274515Z"
    }
   },
   "outputs": [
    {
     "data": {
      "text/plain": [
       "tensor([[0.7488, 0.3202],\n",
       "        [0.2200, 0.6569],\n",
       "        [0.7941, 0.7700],\n",
       "        [0.1001, 0.6744]])"
      ]
     },
     "execution_count": 62,
     "metadata": {},
     "output_type": "execute_result"
    }
   ],
   "source": [
    "ps = torch.rand(4,2)\n",
    "ps"
   ]
  },
  {
   "cell_type": "code",
   "execution_count": 63,
   "metadata": {
    "ExecuteTime": {
     "end_time": "2020-06-02T23:26:53.284992Z",
     "start_time": "2020-06-02T23:26:53.280708Z"
    }
   },
   "outputs": [],
   "source": [
    "assert_inversible(cam, ps, pmm(A, ps, aug=True), atol=1e-4)"
   ]
  },
  {
   "cell_type": "code",
   "execution_count": 64,
   "metadata": {
    "ExecuteTime": {
     "end_time": "2020-06-02T23:26:53.290079Z",
     "start_time": "2020-06-02T23:26:53.286077Z"
    }
   },
   "outputs": [],
   "source": [
    "assert_allclose(cam.get_param(), A)"
   ]
  },
  {
   "cell_type": "markdown",
   "metadata": {
    "ExecuteTime": {
     "end_time": "2020-05-03T20:36:21.604772Z",
     "start_time": "2020-05-03T20:36:21.600609Z"
    }
   },
   "source": [
    "# Build"
   ]
  },
  {
   "cell_type": "code",
   "execution_count": 65,
   "metadata": {
    "ExecuteTime": {
     "end_time": "2020-06-02T23:26:53.967536Z",
     "start_time": "2020-06-02T23:26:53.291101Z"
    }
   },
   "outputs": [
    {
     "name": "stdout",
     "output_type": "stream",
     "text": [
      "Converted calib.ipynb.\n",
      "Converted cb_geom.ipynb.\n",
      "Converted control_refine.ipynb.\n",
      "Converted coordinate_graph.ipynb.\n",
      "Converted fiducial_detect.ipynb.\n",
      "Converted image.ipynb.\n",
      "Converted modules.ipynb.\n",
      "Converted test.ipynb.\n",
      "Converted utils.ipynb.\n"
     ]
    }
   ],
   "source": [
    "!nbdev_build_lib"
   ]
  }
 ],
 "metadata": {
  "kernelspec": {
   "display_name": "Python 3",
   "language": "python",
   "name": "python3"
  },
  "language_info": {
   "codemirror_mode": {
    "name": "ipython",
    "version": 3
   },
   "file_extension": ".py",
   "mimetype": "text/x-python",
   "name": "python",
   "nbconvert_exporter": "python",
   "pygments_lexer": "ipython3",
   "version": "3.6.9"
  },
  "varInspector": {
   "cols": {
    "lenName": 16,
    "lenType": 16,
    "lenVar": 40
   },
   "kernels_config": {
    "python": {
     "delete_cmd_postfix": "",
     "delete_cmd_prefix": "del ",
     "library": "var_list.py",
     "varRefreshCmd": "print(var_dic_list())"
    },
    "r": {
     "delete_cmd_postfix": ") ",
     "delete_cmd_prefix": "rm(",
     "library": "var_list.r",
     "varRefreshCmd": "cat(var_dic_list()) "
    }
   },
   "types_to_exclude": [
    "module",
    "function",
    "builtin_function_or_method",
    "instance",
    "_Feature"
   ],
   "window_display": false
  }
 },
 "nbformat": 4,
 "nbformat_minor": 2
}
