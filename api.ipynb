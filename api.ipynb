{
 "cells": [
  {
   "cell_type": "code",
   "execution_count": 1,
   "metadata": {
    "ExecuteTime": {
     "end_time": "2020-08-06T20:09:11.641088Z",
     "start_time": "2020-08-06T20:09:11.639214Z"
    }
   },
   "outputs": [],
   "source": [
    "# default_exp api"
   ]
  },
  {
   "cell_type": "markdown",
   "metadata": {},
   "source": [
    "The purpose of this notebook is to expose the main api. To use the library for calibration you should be able to import like:\n",
    "\n",
    "`import camera_calib.api as api`\n",
    "\n",
    "Then do `api.` and tab complete the \"official\" API calls."
   ]
  },
  {
   "cell_type": "markdown",
   "metadata": {
    "ExecuteTime": {
     "end_time": "2020-05-14T13:42:09.485783Z",
     "start_time": "2020-05-14T13:42:09.141697Z"
    }
   },
   "source": [
    "# Import"
   ]
  },
  {
   "cell_type": "code",
   "execution_count": 2,
   "metadata": {
    "ExecuteTime": {
     "end_time": "2020-08-06T20:09:12.739185Z",
     "start_time": "2020-08-06T20:09:11.642394Z"
    }
   },
   "outputs": [],
   "source": [
    "# export\n",
    "from camera_calib.calib import multi_calib\n",
    "from camera_calib.cb_geom import CbGeom, CpCSRGrid, FmCFPGrid\n",
    "from camera_calib.control_refine import OpenCVCheckerRefiner\n",
    "from camera_calib.fiducial_detect import DotVisionCheckerDLDetector\n",
    "from camera_calib.image import File16bitImg"
   ]
  },
  {
   "cell_type": "code",
   "execution_count": 3,
   "metadata": {
    "ExecuteTime": {
     "end_time": "2020-08-06T20:09:12.742510Z",
     "start_time": "2020-08-06T20:09:12.740604Z"
    }
   },
   "outputs": [],
   "source": [
    "from camera_calib.utils import *\n",
    "from IPython.core.debugger import set_trace"
   ]
  },
  {
   "cell_type": "markdown",
   "metadata": {},
   "source": [
    "# Interface"
   ]
  },
  {
   "cell_type": "code",
   "execution_count": 4,
   "metadata": {
    "ExecuteTime": {
     "end_time": "2020-08-06T20:09:12.757514Z",
     "start_time": "2020-08-06T20:09:12.743460Z"
    }
   },
   "outputs": [],
   "source": [
    "# export\n",
    "def plot_bipartite(calib, ax=None): \n",
    "    import camera_calib.calib\n",
    "    \n",
    "    camera_calib.calib.plot_bipartite(*calib['graph'], ax=ax)"
   ]
  },
  {
   "cell_type": "code",
   "execution_count": 5,
   "metadata": {
    "ExecuteTime": {
     "end_time": "2020-08-06T20:09:12.763961Z",
     "start_time": "2020-08-06T20:09:12.758998Z"
    }
   },
   "outputs": [],
   "source": [
    "# export\n",
    "def plot_residuals(calib, ax=None):\n",
    "    import matplotlib.pyplot as plt\n",
    "    \n",
    "    if ax == None: _, ax = plt.subplots(1, 1, figsize=(6,6))\n",
    "\n",
    "    for p1, p2 in zip(calib['pss_c_p'], calib['pss_c_p_m']):\n",
    "        res = p1-p2\n",
    "        plt.plot(res[:,0], res[:,1], 's')\n",
    "    ax.set_aspect(1)\n",
    "    ax.set_xlim(-0.25, 0.25)\n",
    "    ax.set_ylim(-0.25, 0.25)\n",
    "    return ax"
   ]
  },
  {
   "cell_type": "code",
   "execution_count": 6,
   "metadata": {
    "ExecuteTime": {
     "end_time": "2020-08-06T20:09:12.769994Z",
     "start_time": "2020-08-06T20:09:12.765081Z"
    }
   },
   "outputs": [],
   "source": [
    "# export\n",
    "def plot_extrinsics(calib, ax=None):\n",
    "    import camera_calib.plot\n",
    "    \n",
    "    Ms_cb  = tuple(rigid_cb.get_param()  for rigid_cb  in calib['rigids_cb'])\n",
    "    Ms_cam = tuple(rigid_cam.get_param() for rigid_cam in calib['rigids_cam'])\n",
    "    return camera_calib.plot.plot_extrinsics(Ms_cb, Ms_cam, calib['cb_geom'], ax=ax)"
   ]
  },
  {
   "cell_type": "code",
   "execution_count": 7,
   "metadata": {
    "ExecuteTime": {
     "end_time": "2020-08-06T20:09:12.776218Z",
     "start_time": "2020-08-06T20:09:12.770939Z"
    }
   },
   "outputs": [],
   "source": [
    "# export\n",
    "def save(calib, file_calib):\n",
    "    import torch\n",
    "    torch.save(calib, file_calib)"
   ]
  },
  {
   "cell_type": "code",
   "execution_count": 8,
   "metadata": {
    "ExecuteTime": {
     "end_time": "2020-08-06T20:09:12.782423Z",
     "start_time": "2020-08-06T20:09:12.777450Z"
    }
   },
   "outputs": [],
   "source": [
    "# export\n",
    "def load(file_calib):\n",
    "    import torch\n",
    "    return torch.load(file_calib)"
   ]
  },
  {
   "cell_type": "markdown",
   "metadata": {
    "ExecuteTime": {
     "end_time": "2020-05-03T20:36:21.604772Z",
     "start_time": "2020-05-03T20:36:21.600609Z"
    }
   },
   "source": [
    "# Build"
   ]
  },
  {
   "cell_type": "code",
   "execution_count": 9,
   "metadata": {
    "ExecuteTime": {
     "end_time": "2020-08-06T20:09:12.911153Z",
     "start_time": "2020-08-06T20:09:12.783658Z"
    }
   },
   "outputs": [
    {
     "data": {
      "application/javascript": [
       "IPython.notebook.save_checkpoint();"
      ],
      "text/plain": [
       "<IPython.core.display.Javascript object>"
      ]
     },
     "metadata": {},
     "output_type": "display_data"
    },
    {
     "name": "stdout",
     "output_type": "stream",
     "text": [
      "Converted api.ipynb.\n"
     ]
    }
   ],
   "source": [
    "build_notebook()"
   ]
  }
 ],
 "metadata": {
  "kernelspec": {
   "display_name": "Python 3",
   "language": "python",
   "name": "python3"
  },
  "language_info": {
   "codemirror_mode": {
    "name": "ipython",
    "version": 3
   },
   "file_extension": ".py",
   "mimetype": "text/x-python",
   "name": "python",
   "nbconvert_exporter": "python",
   "pygments_lexer": "ipython3",
   "version": "3.6.9"
  },
  "varInspector": {
   "cols": {
    "lenName": 16,
    "lenType": 16,
    "lenVar": 40
   },
   "kernels_config": {
    "python": {
     "delete_cmd_postfix": "",
     "delete_cmd_prefix": "del ",
     "library": "var_list.py",
     "varRefreshCmd": "print(var_dic_list())"
    },
    "r": {
     "delete_cmd_postfix": ") ",
     "delete_cmd_prefix": "rm(",
     "library": "var_list.r",
     "varRefreshCmd": "cat(var_dic_list()) "
    }
   },
   "types_to_exclude": [
    "module",
    "function",
    "builtin_function_or_method",
    "instance",
    "_Feature"
   ],
   "window_display": false
  }
 },
 "nbformat": 4,
 "nbformat_minor": 2
}
