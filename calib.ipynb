{
 "cells": [
  {
   "cell_type": "code",
   "execution_count": 1,
   "metadata": {
    "ExecuteTime": {
     "end_time": "2020-06-03T02:01:11.052514Z",
     "start_time": "2020-06-03T02:01:11.050919Z"
    }
   },
   "outputs": [],
   "source": [
    "# default_exp calib"
   ]
  },
  {
   "cell_type": "markdown",
   "metadata": {},
   "source": [
    "This contains scripts to perform camera calibration"
   ]
  },
  {
   "cell_type": "markdown",
   "metadata": {
    "ExecuteTime": {
     "end_time": "2020-05-14T13:42:09.485783Z",
     "start_time": "2020-05-14T13:42:09.141697Z"
    }
   },
   "source": [
    "# Import"
   ]
  },
  {
   "cell_type": "code",
   "execution_count": 2,
   "metadata": {
    "ExecuteTime": {
     "end_time": "2020-06-03T02:01:11.516599Z",
     "start_time": "2020-06-03T02:01:11.053673Z"
    }
   },
   "outputs": [],
   "source": [
    "# export\n",
    "import numpy as np\n",
    "import torch\n",
    "\n",
    "from camera_calib_python.control_refine import CheckerRefiner\n",
    "from camera_calib_python.modules import (CamSF, Heikkila97Distortion,\n",
    "                                         Normalize, Rigid)\n",
    "from camera_calib_python.utils import *"
   ]
  },
  {
   "cell_type": "code",
   "execution_count": 3,
   "metadata": {
    "ExecuteTime": {
     "end_time": "2020-06-03T02:01:11.808688Z",
     "start_time": "2020-06-03T02:01:11.517979Z"
    }
   },
   "outputs": [],
   "source": [
    "from pathlib import Path\n",
    "\n",
    "import matplotlib.pyplot as plt\n",
    "from IPython.core.debugger import set_trace\n",
    "\n",
    "from camera_calib_python.cb_geom import CbGeom, CpCSRGrid, FmCFPGrid\n",
    "from camera_calib_python.control_refine import OpenCVCheckerRefiner\n",
    "from camera_calib_python.fiducial_detect import DotVisionCheckerDLDetector\n",
    "from camera_calib_python.image import File16bitImg"
   ]
  },
  {
   "cell_type": "markdown",
   "metadata": {},
   "source": [
    "# Utility"
   ]
  },
  {
   "cell_type": "code",
   "execution_count": 4,
   "metadata": {
    "ExecuteTime": {
     "end_time": "2020-06-03T02:01:11.814676Z",
     "start_time": "2020-06-03T02:01:11.809662Z"
    }
   },
   "outputs": [],
   "source": [
    "def init_intrin(Hs, sz):\n",
    "    yo, xo = (np.array(sz)-1)/2\n",
    "    po_inv = np.array([[1, 0, -xo],\n",
    "                       [0, 1, -yo],\n",
    "                       [0, 0,   1]])\n",
    "    A, b = [np.empty(0) for _ in range(2)]\n",
    "    for H in Hs:\n",
    "        H_bar = po_inv@H\n",
    "        v1, v2 = H_bar[:,0], H_bar[:,1]\n",
    "        v3, v4 = v1+v2, v1-v2\n",
    "        v1, v2, v3, v4 = unitize(np.stack([v1, v2, v3, v4]))\n",
    "        A = np.r_[A, np.array([v1[0]*v2[0]+v1[1]*v2[1], v3[0]*v4[0]+v3[1]*v4[1]])]\n",
    "        b = np.r_[b, np.array([-v1[2]*v2[2], -v3[2]*v4[2]])]\n",
    "    alpha = np.sqrt(np.dot(b,A)/np.dot(b,b))\n",
    "    return np.array([[alpha,     0, xo],\n",
    "                     [    0, alpha, yo],\n",
    "                     [    0,     0,  1]])"
   ]
  },
  {
   "cell_type": "code",
   "execution_count": 5,
   "metadata": {
    "ExecuteTime": {
     "end_time": "2020-06-03T02:01:11.823779Z",
     "start_time": "2020-06-03T02:01:11.815794Z"
    }
   },
   "outputs": [],
   "source": [
    "def init_extrin(H, A):\n",
    "    H_bar = np.linalg.inv(A)@H\n",
    "    lambdas = np.linalg.norm(H_bar, axis=0)\n",
    "    r1, r2 = [H_bar[:,idx]/lambdas[idx] for idx in range(2)]\n",
    "    r3 = np.cross(r1, r2)\n",
    "    R = approx_R(np.c_[r1,r2,r3])\n",
    "    t = H_bar[:,2]/np.mean(lambdas[0:2])\n",
    "    return R, t"
   ]
  },
  {
   "cell_type": "markdown",
   "metadata": {},
   "source": [
    "# Single Calibration"
   ]
  },
  {
   "cell_type": "markdown",
   "metadata": {},
   "source": [
    "This will calibrate a single camera"
   ]
  },
  {
   "cell_type": "code",
   "execution_count": 6,
   "metadata": {
    "ExecuteTime": {
     "end_time": "2020-06-03T02:01:11.830372Z",
     "start_time": "2020-06-03T02:01:11.824846Z"
    }
   },
   "outputs": [],
   "source": [
    "def single_calib_f(imgs, \n",
    "                   cb_geom, \n",
    "                   detector, \n",
    "                   refiner, \n",
    "                   Cam=CamSF,\n",
    "                   Distortion=lambda:Heikkila97Distortion(*torch.zeros(4, dtype=torch.double)),\n",
    "                   loss=torch.nn.functional.mse_loss,\n",
    "                   cutoff_it=500,\n",
    "                   cutoff_norm=1e-5):\n",
    "    ps_f_w = cb_geom.ps_f\n",
    "    \n",
    "    # Get initial homographies via fiducial markers\n",
    "    Hs = []\n",
    "    for img in imgs:\n",
    "        ps_f_p = detector(img.array_gs)\n",
    "        Hs.append(homography(ps_f_w, ps_f_p))\n",
    "        \n",
    "    return single_calib_H(imgs, \n",
    "                          cb_geom, \n",
    "                          Hs, \n",
    "                          refiner,\n",
    "                          Cam=CamSF,\n",
    "                          Distortion=Distortion,\n",
    "                          loss=loss,\n",
    "                          cutoff_it=cutoff_it,\n",
    "                          cutoff_norm=cutoff_norm)"
   ]
  },
  {
   "cell_type": "code",
   "execution_count": 7,
   "metadata": {
    "ExecuteTime": {
     "end_time": "2020-06-03T02:01:11.843269Z",
     "start_time": "2020-06-03T02:01:11.831939Z"
    }
   },
   "outputs": [],
   "source": [
    "def single_calib_H(imgs, \n",
    "                   cb_geom, \n",
    "                   Hs,\n",
    "                   refiner,\n",
    "                   Cam=CamSF,\n",
    "                   Distortion=lambda:Heikkila97Distortion(*torch.zeros(4, dtype=torch.double)),\n",
    "                   loss=torch.nn.functional.mse_loss,\n",
    "                   cutoff_it=500,\n",
    "                   cutoff_norm=1e-5):\n",
    "    ps_c_w = cb_geom.ps_c\n",
    "    bs_c_w = cb_geom.bs_c\n",
    "    \n",
    "    # Get refined control points\n",
    "    pss_c_p = []\n",
    "    for img, H in zip(imgs, Hs):\n",
    "        print(f'Refining control points for: {img.name}...')\n",
    "        ps_c_p = pmm(H, ps_c_w, aug=True)\n",
    "        bs_c_p = np.array([pmm(H, b_c_w, aug=True) for b_c_w in bs_c_w], np.object)\n",
    "        pss_c_p.append(refiner(img.array_gs, ps_c_p, bs_c_p))\n",
    "\n",
    "    # Update homographies with refined control points\n",
    "    for idx, ps_c_p in enumerate(pss_c_p):\n",
    "        Hs[idx] = homography(ps_c_w, ps_c_p)\n",
    "    \n",
    "    # Get initial guess for intrinsics; distortion assumed to be zero\n",
    "    A = init_intrin(Hs, imgs[0].size)\n",
    "    \n",
    "    # Get intial guess for extrinsics\n",
    "    Rs, ts = [], []\n",
    "    for H in Hs:\n",
    "        R, t = init_extrin(H, A)\n",
    "        Rs.append(R)\n",
    "        ts.append(t)\n",
    "        \n",
    "    # Entering torch land...\n",
    "        \n",
    "    # Get points for nonlinear refinement    \n",
    "    ps_c_w = torch.tensor(np.c_[ps_c_w, np.zeros(len(ps_c_w))], dtype=torch.double) # 3rd dimenion is zero for calibration boards\n",
    "    pss_c_p = [torch.tensor(ps_c_p, dtype=torch.double) for ps_c_p in pss_c_p]\n",
    "    \n",
    "    # Intrinsic modules\n",
    "    cam = Cam(torch.tensor(A, dtype=torch.double))\n",
    "    distort = Distortion()\n",
    "    \n",
    "    # Extrinsic modules\n",
    "    rigids = [Rigid(torch.tensor(R, dtype=torch.double), torch.tensor(t, dtype=torch.double)) for R,t in zip(Rs,ts)]\n",
    "    \n",
    "    # Get ms_w2p transformations\n",
    "    if isinstance(refiner, CheckerRefiner):\n",
    "        ms_w2p = [torch.nn.Sequential(rigids[idx], \n",
    "                                      Normalize(), \n",
    "                                      distort, \n",
    "                                      cam)\n",
    "                  for idx in range(len(rigids))]\n",
    "    else:\n",
    "        raise RuntimeError(f'Dont know how to handle: {type(refiner)}')\n",
    "\n",
    "    pass\n",
    "        \n",
    "    # Do nonlinear optimization\n",
    "    def _get_loss():\n",
    "        ls, total = [], 0\n",
    "        for m_w2p, ps_c_p in zip(ms_w2p, pss_c_p):\n",
    "            idx = torch.all(torch.isfinite(ps_c_p), dim=1)\n",
    "            ls.append(loss(ps_c_p[idx], m_w2p(ps_c_w[idx]))*len(idx))\n",
    "            total += len(idx)\n",
    "        return torch.sum(torch.stack(ls))/total \n",
    "    \n",
    "    def _get_params():\n",
    "        return sum([list(m.parameters()) for m in [cam, distort]+rigids], [])\n",
    "    \n",
    "    set_trace()\n",
    "        \n",
    "    print(f'Refining parameters...')\n",
    "    optim = torch.optim.LBFGS(_get_params())\n",
    "    params_prev = torch.cat([p.view(-1) for p in _get_params()])\n",
    "    for it in range(cutoff_it):\n",
    "        def _closure():\n",
    "            optim.zero_grad()\n",
    "            l = _get_loss()\n",
    "            l.backward()\n",
    "            return l\n",
    "        optim.step(_closure)\n",
    "        params = torch.cat([p.view(-1) for p in _get_params()])\n",
    "        norm = torch.norm(params-params_prev)\n",
    "        print(f' - Iteration: {it:03d} - Norm: {norm.item():10.5f} - Loss: {_get_loss().item():10.5f}')\n",
    "        if norm < cutoff_norm: break\n",
    "        params_prev = params\n",
    "        \n",
    "    return cam, distort, rigids, torch2np((tuple(pss_c_p), tuple([m_w2p(ps_c_w) for m_w2p in ms_w2p])))"
   ]
  },
  {
   "cell_type": "markdown",
   "metadata": {},
   "source": [
    "# Test"
   ]
  },
  {
   "cell_type": "code",
   "execution_count": 8,
   "metadata": {
    "ExecuteTime": {
     "end_time": "2020-06-03T02:01:11.851896Z",
     "start_time": "2020-06-03T02:01:11.845176Z"
    }
   },
   "outputs": [],
   "source": [
    "h_cb = 50.8\n",
    "w_cb = 50.8\n",
    "h_f = 42.672\n",
    "w_f = 42.672\n",
    "num_c_h = 16\n",
    "num_c_w = 16\n",
    "spacing_c = 2.032\n",
    "cb_geom = CbGeom(h_cb, w_cb,\n",
    "                 CpCSRGrid(num_c_h, num_c_w, spacing_c),\n",
    "                 FmCFPGrid(h_f, w_f))"
   ]
  },
  {
   "cell_type": "code",
   "execution_count": 9,
   "metadata": {
    "ExecuteTime": {
     "end_time": "2020-06-03T02:01:11.876181Z",
     "start_time": "2020-06-03T02:01:11.852973Z"
    }
   },
   "outputs": [],
   "source": [
    "file_model = Path('/home/justin/justinblaber/camera_calib_python/models/dot_vision_checker.pth')\n",
    "detector = DotVisionCheckerDLDetector(file_model)"
   ]
  },
  {
   "cell_type": "code",
   "execution_count": 10,
   "metadata": {
    "ExecuteTime": {
     "end_time": "2020-06-03T02:01:11.881439Z",
     "start_time": "2020-06-03T02:01:11.877109Z"
    }
   },
   "outputs": [],
   "source": [
    "refiner = OpenCVCheckerRefiner(hw_min=5, hw_max=15, cutoff_it=5, cutoff_norm=1e-2)"
   ]
  },
  {
   "cell_type": "code",
   "execution_count": 11,
   "metadata": {
    "ExecuteTime": {
     "end_time": "2020-06-03T02:01:11.887284Z",
     "start_time": "2020-06-03T02:01:11.882419Z"
    }
   },
   "outputs": [],
   "source": [
    "#imgs = [File16bitImg(file_img) for file_img in Path('/home/justin/Downloads/CAM_1').glob('*CAM_1*.png')]"
   ]
  },
  {
   "cell_type": "code",
   "execution_count": 12,
   "metadata": {
    "ExecuteTime": {
     "end_time": "2020-06-03T02:01:11.893473Z",
     "start_time": "2020-06-03T02:01:11.888317Z"
    }
   },
   "outputs": [],
   "source": [
    "imgs = [File16bitImg(file_img) for file_img in Path('data/dot_vision_checker').glob('*CAM_1*.png')]"
   ]
  },
  {
   "cell_type": "code",
   "execution_count": 13,
   "metadata": {
    "ExecuteTime": {
     "end_time": "2020-06-03T02:11:37.606871Z",
     "start_time": "2020-06-03T02:01:11.894475Z"
    },
    "scrolled": false
   },
   "outputs": [
    {
     "name": "stdout",
     "output_type": "stream",
     "text": [
      "Refining control points for: SERIAL_19061245_DATETIME_2019-06-07-00:38:19-438594_CAM_1_FRAMEID_0_COUNTER_1...\n",
      "> \u001b[0;32m<ipython-input-7-bb9c701178f0>\u001b[0m(74)\u001b[0;36msingle_calib_H\u001b[0;34m()\u001b[0m\n",
      "\u001b[0;32m     72 \u001b[0;31m    \u001b[0mset_trace\u001b[0m\u001b[0;34m(\u001b[0m\u001b[0;34m)\u001b[0m\u001b[0;34m\u001b[0m\u001b[0;34m\u001b[0m\u001b[0m\n",
      "\u001b[0m\u001b[0;32m     73 \u001b[0;31m\u001b[0;34m\u001b[0m\u001b[0m\n",
      "\u001b[0m\u001b[0;32m---> 74 \u001b[0;31m    \u001b[0mprint\u001b[0m\u001b[0;34m(\u001b[0m\u001b[0;34mf'Refining parameters...'\u001b[0m\u001b[0;34m)\u001b[0m\u001b[0;34m\u001b[0m\u001b[0;34m\u001b[0m\u001b[0m\n",
      "\u001b[0m\u001b[0;32m     75 \u001b[0;31m    \u001b[0moptim\u001b[0m \u001b[0;34m=\u001b[0m \u001b[0mtorch\u001b[0m\u001b[0;34m.\u001b[0m\u001b[0moptim\u001b[0m\u001b[0;34m.\u001b[0m\u001b[0mLBFGS\u001b[0m\u001b[0;34m(\u001b[0m\u001b[0m_get_params\u001b[0m\u001b[0;34m(\u001b[0m\u001b[0;34m)\u001b[0m\u001b[0;34m)\u001b[0m\u001b[0;34m\u001b[0m\u001b[0;34m\u001b[0m\u001b[0m\n",
      "\u001b[0m\u001b[0;32m     76 \u001b[0;31m    \u001b[0mparams_prev\u001b[0m \u001b[0;34m=\u001b[0m \u001b[0mtorch\u001b[0m\u001b[0;34m.\u001b[0m\u001b[0mcat\u001b[0m\u001b[0;34m(\u001b[0m\u001b[0;34m[\u001b[0m\u001b[0mp\u001b[0m\u001b[0;34m.\u001b[0m\u001b[0mview\u001b[0m\u001b[0;34m(\u001b[0m\u001b[0;34m-\u001b[0m\u001b[0;36m1\u001b[0m\u001b[0;34m)\u001b[0m \u001b[0;32mfor\u001b[0m \u001b[0mp\u001b[0m \u001b[0;32min\u001b[0m \u001b[0m_get_params\u001b[0m\u001b[0;34m(\u001b[0m\u001b[0;34m)\u001b[0m\u001b[0;34m]\u001b[0m\u001b[0;34m)\u001b[0m\u001b[0;34m\u001b[0m\u001b[0;34m\u001b[0m\u001b[0m\n",
      "\u001b[0m\n",
      "ipdb> l = _get_loss()\n",
      "*** Error in argument: '= _get_loss()'\n",
      "ipdb> ! l = _get_loss()\n",
      "*** IndentationError: unexpected indent\n",
      "ipdb> !l = _get_loss()\n",
      "ipdb> !l.backward()\n",
      "ipdb> !cam.x_o.grad\n",
      "tensor(-0.0028, dtype=torch.float64)\n",
      "ipdb> !cam.y_o.grad\n",
      "tensor(0.0044, dtype=torch.float64)\n",
      "ipdb> !cam.alpha.grad\n",
      "tensor(-0.0002, dtype=torch.float64)\n",
      "ipdb> cam.y_o\n",
      "Parameter containing:\n",
      "tensor(767.5000, dtype=torch.float64, requires_grad=True)\n",
      "ipdb> rigids\n",
      "[Rigid(\n",
      "  (ms): ModuleList(\n",
      "    (0): EulerRotation(ex:-0.724 ey:0.1416 ez:2.303)\n",
      "    (1): Translation(tx:12.01 ty:2.679 tz:183.1)\n",
      "  )\n",
      ")]\n",
      "ipdb> rigids[0]\n",
      "Rigid(\n",
      "  (ms): ModuleList(\n",
      "    (0): EulerRotation(ex:-0.724 ey:0.1416 ez:2.303)\n",
      "    (1): Translation(tx:12.01 ty:2.679 tz:183.1)\n",
      "  )\n",
      ")\n",
      "ipdb> rigids[0].ms[0]\n",
      "EulerRotation(ex:-0.724 ey:0.1416 ez:2.303)\n",
      "ipdb> rigids[0].ms[0].ex.grad\n",
      "tensor(-1.5650, dtype=torch.float64)\n",
      "ipdb> rigids[0].ms[0].t.grad\n",
      "*** AttributeError: 'EulerRotation' object has no attribute 't'\n",
      "ipdb> rigids[0].ms[1].t.grad\n",
      "tensor([-0.0800,  0.1290,  0.0046], dtype=torch.float64)\n",
      "ipdb> exit\n"
     ]
    },
    {
     "ename": "BdbQuit",
     "evalue": "",
     "output_type": "error",
     "traceback": [
      "\u001b[0;31m---------------------------------------------------------------------------\u001b[0m",
      "\u001b[0;31mBdbQuit\u001b[0m                                   Traceback (most recent call last)",
      "\u001b[0;32m<ipython-input-13-9b254e73a010>\u001b[0m in \u001b[0;36m<module>\u001b[0;34m\u001b[0m\n\u001b[0;32m----> 1\u001b[0;31m \u001b[0mcam\u001b[0m\u001b[0;34m,\u001b[0m \u001b[0mdistort\u001b[0m\u001b[0;34m,\u001b[0m \u001b[0mrigids\u001b[0m\u001b[0;34m,\u001b[0m \u001b[0mdebug\u001b[0m \u001b[0;34m=\u001b[0m \u001b[0msingle_calib_f\u001b[0m\u001b[0;34m(\u001b[0m\u001b[0mimgs\u001b[0m\u001b[0;34m,\u001b[0m \u001b[0mcb_geom\u001b[0m\u001b[0;34m,\u001b[0m \u001b[0mdetector\u001b[0m\u001b[0;34m,\u001b[0m \u001b[0mrefiner\u001b[0m\u001b[0;34m)\u001b[0m\u001b[0;34m\u001b[0m\u001b[0;34m\u001b[0m\u001b[0m\n\u001b[0m",
      "\u001b[0;32m<ipython-input-6-6c8ecb277560>\u001b[0m in \u001b[0;36msingle_calib_f\u001b[0;34m(imgs, cb_geom, detector, refiner, Cam, Distortion, loss, cutoff_it, cutoff_norm)\u001b[0m\n\u001b[1;32m     24\u001b[0m                           \u001b[0mloss\u001b[0m\u001b[0;34m=\u001b[0m\u001b[0mloss\u001b[0m\u001b[0;34m,\u001b[0m\u001b[0;34m\u001b[0m\u001b[0;34m\u001b[0m\u001b[0m\n\u001b[1;32m     25\u001b[0m                           \u001b[0mcutoff_it\u001b[0m\u001b[0;34m=\u001b[0m\u001b[0mcutoff_it\u001b[0m\u001b[0;34m,\u001b[0m\u001b[0;34m\u001b[0m\u001b[0;34m\u001b[0m\u001b[0m\n\u001b[0;32m---> 26\u001b[0;31m                           cutoff_norm=cutoff_norm)\n\u001b[0m",
      "\u001b[0;32m<ipython-input-7-bb9c701178f0>\u001b[0m in \u001b[0;36msingle_calib_H\u001b[0;34m(imgs, cb_geom, Hs, refiner, Cam, Distortion, loss, cutoff_it, cutoff_norm)\u001b[0m\n\u001b[1;32m     72\u001b[0m     \u001b[0mset_trace\u001b[0m\u001b[0;34m(\u001b[0m\u001b[0;34m)\u001b[0m\u001b[0;34m\u001b[0m\u001b[0;34m\u001b[0m\u001b[0m\n\u001b[1;32m     73\u001b[0m \u001b[0;34m\u001b[0m\u001b[0m\n\u001b[0;32m---> 74\u001b[0;31m     \u001b[0mprint\u001b[0m\u001b[0;34m(\u001b[0m\u001b[0;34mf'Refining parameters...'\u001b[0m\u001b[0;34m)\u001b[0m\u001b[0;34m\u001b[0m\u001b[0;34m\u001b[0m\u001b[0m\n\u001b[0m\u001b[1;32m     75\u001b[0m     \u001b[0moptim\u001b[0m \u001b[0;34m=\u001b[0m \u001b[0mtorch\u001b[0m\u001b[0;34m.\u001b[0m\u001b[0moptim\u001b[0m\u001b[0;34m.\u001b[0m\u001b[0mLBFGS\u001b[0m\u001b[0;34m(\u001b[0m\u001b[0m_get_params\u001b[0m\u001b[0;34m(\u001b[0m\u001b[0;34m)\u001b[0m\u001b[0;34m)\u001b[0m\u001b[0;34m\u001b[0m\u001b[0;34m\u001b[0m\u001b[0m\n\u001b[1;32m     76\u001b[0m     \u001b[0mparams_prev\u001b[0m \u001b[0;34m=\u001b[0m \u001b[0mtorch\u001b[0m\u001b[0;34m.\u001b[0m\u001b[0mcat\u001b[0m\u001b[0;34m(\u001b[0m\u001b[0;34m[\u001b[0m\u001b[0mp\u001b[0m\u001b[0;34m.\u001b[0m\u001b[0mview\u001b[0m\u001b[0;34m(\u001b[0m\u001b[0;34m-\u001b[0m\u001b[0;36m1\u001b[0m\u001b[0;34m)\u001b[0m \u001b[0;32mfor\u001b[0m \u001b[0mp\u001b[0m \u001b[0;32min\u001b[0m \u001b[0m_get_params\u001b[0m\u001b[0;34m(\u001b[0m\u001b[0;34m)\u001b[0m\u001b[0;34m]\u001b[0m\u001b[0;34m)\u001b[0m\u001b[0;34m\u001b[0m\u001b[0;34m\u001b[0m\u001b[0m\n",
      "\u001b[0;32m<ipython-input-7-bb9c701178f0>\u001b[0m in \u001b[0;36msingle_calib_H\u001b[0;34m(imgs, cb_geom, Hs, refiner, Cam, Distortion, loss, cutoff_it, cutoff_norm)\u001b[0m\n\u001b[1;32m     72\u001b[0m     \u001b[0mset_trace\u001b[0m\u001b[0;34m(\u001b[0m\u001b[0;34m)\u001b[0m\u001b[0;34m\u001b[0m\u001b[0;34m\u001b[0m\u001b[0m\n\u001b[1;32m     73\u001b[0m \u001b[0;34m\u001b[0m\u001b[0m\n\u001b[0;32m---> 74\u001b[0;31m     \u001b[0mprint\u001b[0m\u001b[0;34m(\u001b[0m\u001b[0;34mf'Refining parameters...'\u001b[0m\u001b[0;34m)\u001b[0m\u001b[0;34m\u001b[0m\u001b[0;34m\u001b[0m\u001b[0m\n\u001b[0m\u001b[1;32m     75\u001b[0m     \u001b[0moptim\u001b[0m \u001b[0;34m=\u001b[0m \u001b[0mtorch\u001b[0m\u001b[0;34m.\u001b[0m\u001b[0moptim\u001b[0m\u001b[0;34m.\u001b[0m\u001b[0mLBFGS\u001b[0m\u001b[0;34m(\u001b[0m\u001b[0m_get_params\u001b[0m\u001b[0;34m(\u001b[0m\u001b[0;34m)\u001b[0m\u001b[0;34m)\u001b[0m\u001b[0;34m\u001b[0m\u001b[0;34m\u001b[0m\u001b[0m\n\u001b[1;32m     76\u001b[0m     \u001b[0mparams_prev\u001b[0m \u001b[0;34m=\u001b[0m \u001b[0mtorch\u001b[0m\u001b[0;34m.\u001b[0m\u001b[0mcat\u001b[0m\u001b[0;34m(\u001b[0m\u001b[0;34m[\u001b[0m\u001b[0mp\u001b[0m\u001b[0;34m.\u001b[0m\u001b[0mview\u001b[0m\u001b[0;34m(\u001b[0m\u001b[0;34m-\u001b[0m\u001b[0;36m1\u001b[0m\u001b[0;34m)\u001b[0m \u001b[0;32mfor\u001b[0m \u001b[0mp\u001b[0m \u001b[0;32min\u001b[0m \u001b[0m_get_params\u001b[0m\u001b[0;34m(\u001b[0m\u001b[0;34m)\u001b[0m\u001b[0;34m]\u001b[0m\u001b[0;34m)\u001b[0m\u001b[0;34m\u001b[0m\u001b[0;34m\u001b[0m\u001b[0m\n",
      "\u001b[0;32m/usr/lib/python3.6/bdb.py\u001b[0m in \u001b[0;36mtrace_dispatch\u001b[0;34m(self, frame, event, arg)\u001b[0m\n\u001b[1;32m     49\u001b[0m             \u001b[0;32mreturn\u001b[0m \u001b[0;31m# None\u001b[0m\u001b[0;34m\u001b[0m\u001b[0;34m\u001b[0m\u001b[0m\n\u001b[1;32m     50\u001b[0m         \u001b[0;32mif\u001b[0m \u001b[0mevent\u001b[0m \u001b[0;34m==\u001b[0m \u001b[0;34m'line'\u001b[0m\u001b[0;34m:\u001b[0m\u001b[0;34m\u001b[0m\u001b[0;34m\u001b[0m\u001b[0m\n\u001b[0;32m---> 51\u001b[0;31m             \u001b[0;32mreturn\u001b[0m \u001b[0mself\u001b[0m\u001b[0;34m.\u001b[0m\u001b[0mdispatch_line\u001b[0m\u001b[0;34m(\u001b[0m\u001b[0mframe\u001b[0m\u001b[0;34m)\u001b[0m\u001b[0;34m\u001b[0m\u001b[0;34m\u001b[0m\u001b[0m\n\u001b[0m\u001b[1;32m     52\u001b[0m         \u001b[0;32mif\u001b[0m \u001b[0mevent\u001b[0m \u001b[0;34m==\u001b[0m \u001b[0;34m'call'\u001b[0m\u001b[0;34m:\u001b[0m\u001b[0;34m\u001b[0m\u001b[0;34m\u001b[0m\u001b[0m\n\u001b[1;32m     53\u001b[0m             \u001b[0;32mreturn\u001b[0m \u001b[0mself\u001b[0m\u001b[0;34m.\u001b[0m\u001b[0mdispatch_call\u001b[0m\u001b[0;34m(\u001b[0m\u001b[0mframe\u001b[0m\u001b[0;34m,\u001b[0m \u001b[0marg\u001b[0m\u001b[0;34m)\u001b[0m\u001b[0;34m\u001b[0m\u001b[0;34m\u001b[0m\u001b[0m\n",
      "\u001b[0;32m/usr/lib/python3.6/bdb.py\u001b[0m in \u001b[0;36mdispatch_line\u001b[0;34m(self, frame)\u001b[0m\n\u001b[1;32m     68\u001b[0m         \u001b[0;32mif\u001b[0m \u001b[0mself\u001b[0m\u001b[0;34m.\u001b[0m\u001b[0mstop_here\u001b[0m\u001b[0;34m(\u001b[0m\u001b[0mframe\u001b[0m\u001b[0;34m)\u001b[0m \u001b[0;32mor\u001b[0m \u001b[0mself\u001b[0m\u001b[0;34m.\u001b[0m\u001b[0mbreak_here\u001b[0m\u001b[0;34m(\u001b[0m\u001b[0mframe\u001b[0m\u001b[0;34m)\u001b[0m\u001b[0;34m:\u001b[0m\u001b[0;34m\u001b[0m\u001b[0;34m\u001b[0m\u001b[0m\n\u001b[1;32m     69\u001b[0m             \u001b[0mself\u001b[0m\u001b[0;34m.\u001b[0m\u001b[0muser_line\u001b[0m\u001b[0;34m(\u001b[0m\u001b[0mframe\u001b[0m\u001b[0;34m)\u001b[0m\u001b[0;34m\u001b[0m\u001b[0;34m\u001b[0m\u001b[0m\n\u001b[0;32m---> 70\u001b[0;31m             \u001b[0;32mif\u001b[0m \u001b[0mself\u001b[0m\u001b[0;34m.\u001b[0m\u001b[0mquitting\u001b[0m\u001b[0;34m:\u001b[0m \u001b[0;32mraise\u001b[0m \u001b[0mBdbQuit\u001b[0m\u001b[0;34m\u001b[0m\u001b[0;34m\u001b[0m\u001b[0m\n\u001b[0m\u001b[1;32m     71\u001b[0m         \u001b[0;32mreturn\u001b[0m \u001b[0mself\u001b[0m\u001b[0;34m.\u001b[0m\u001b[0mtrace_dispatch\u001b[0m\u001b[0;34m\u001b[0m\u001b[0;34m\u001b[0m\u001b[0m\n\u001b[1;32m     72\u001b[0m \u001b[0;34m\u001b[0m\u001b[0m\n",
      "\u001b[0;31mBdbQuit\u001b[0m: "
     ]
    }
   ],
   "source": [
    "cam, distort, rigids, debug = single_calib_f(imgs, cb_geom, detector, refiner)"
   ]
  },
  {
   "cell_type": "code",
   "execution_count": null,
   "metadata": {
    "ExecuteTime": {
     "end_time": "2020-06-03T02:11:37.629812Z",
     "start_time": "2020-06-03T02:01:11.064Z"
    }
   },
   "outputs": [],
   "source": [
    "for p1, p2 in zip(debug[0], debug[1]):\n",
    "    res = (p1-p2)\n",
    "    plt.plot(res[:,0], res[:,1], 'gs')"
   ]
  },
  {
   "cell_type": "markdown",
   "metadata": {
    "ExecuteTime": {
     "end_time": "2020-05-03T20:36:21.604772Z",
     "start_time": "2020-05-03T20:36:21.600609Z"
    }
   },
   "source": [
    "# Build"
   ]
  },
  {
   "cell_type": "code",
   "execution_count": null,
   "metadata": {
    "ExecuteTime": {
     "end_time": "2020-06-03T02:11:37.630517Z",
     "start_time": "2020-06-03T02:01:11.067Z"
    }
   },
   "outputs": [],
   "source": [
    "!nbdev_build_lib"
   ]
  }
 ],
 "metadata": {
  "kernelspec": {
   "display_name": "Python 3",
   "language": "python",
   "name": "python3"
  },
  "language_info": {
   "codemirror_mode": {
    "name": "ipython",
    "version": 3
   },
   "file_extension": ".py",
   "mimetype": "text/x-python",
   "name": "python",
   "nbconvert_exporter": "python",
   "pygments_lexer": "ipython3",
   "version": "3.6.9"
  },
  "varInspector": {
   "cols": {
    "lenName": 16,
    "lenType": 16,
    "lenVar": 40
   },
   "kernels_config": {
    "python": {
     "delete_cmd_postfix": "",
     "delete_cmd_prefix": "del ",
     "library": "var_list.py",
     "varRefreshCmd": "print(var_dic_list())"
    },
    "r": {
     "delete_cmd_postfix": ") ",
     "delete_cmd_prefix": "rm(",
     "library": "var_list.r",
     "varRefreshCmd": "cat(var_dic_list()) "
    }
   },
   "types_to_exclude": [
    "module",
    "function",
    "builtin_function_or_method",
    "instance",
    "_Feature"
   ],
   "window_display": false
  }
 },
 "nbformat": 4,
 "nbformat_minor": 2
}
