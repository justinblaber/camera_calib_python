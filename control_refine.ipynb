{
 "cells": [
  {
   "cell_type": "code",
   "execution_count": 1,
   "metadata": {
    "ExecuteTime": {
     "end_time": "2020-05-26T02:13:24.851748Z",
     "start_time": "2020-05-26T02:13:24.849992Z"
    }
   },
   "outputs": [],
   "source": [
    "# default_exp control_refine"
   ]
  },
  {
   "cell_type": "markdown",
   "metadata": {},
   "source": [
    "This contains code for refining the following control points:\n",
    "\n",
    "* Checker\n",
    "* Ellipse\n",
    "\n",
    "The term \"refine\" is used here because an initial guess for the location is required."
   ]
  },
  {
   "cell_type": "markdown",
   "metadata": {},
   "source": [
    "# Import"
   ]
  },
  {
   "cell_type": "code",
   "execution_count": 2,
   "metadata": {
    "ExecuteTime": {
     "end_time": "2020-05-26T02:13:25.370955Z",
     "start_time": "2020-05-26T02:13:24.853081Z"
    }
   },
   "outputs": [],
   "source": [
    "# export\n",
    "import numpy as np\n",
    "import skimage.draw\n",
    "from scipy.stats import multivariate_normal\n",
    "from shapely.geometry import Point\n",
    "from shapely.geometry.polygon import Polygon\n",
    "\n",
    "from camera_calib_python.utils import *"
   ]
  },
  {
   "cell_type": "code",
   "execution_count": 3,
   "metadata": {
    "ExecuteTime": {
     "end_time": "2020-05-26T02:13:25.498043Z",
     "start_time": "2020-05-26T02:13:25.372718Z"
    }
   },
   "outputs": [],
   "source": [
    "from pathlib import Path\n",
    "\n",
    "import matplotlib.pyplot as plt\n",
    "from IPython.core.debugger import set_trace\n",
    "\n",
    "from camera_calib_python.image import File16bitImg"
   ]
  },
  {
   "cell_type": "markdown",
   "metadata": {},
   "source": [
    "# Utility"
   ]
  },
  {
   "cell_type": "code",
   "execution_count": 4,
   "metadata": {
    "ExecuteTime": {
     "end_time": "2020-05-26T02:13:25.503483Z",
     "start_time": "2020-05-26T02:13:25.499544Z"
    }
   },
   "outputs": [],
   "source": [
    "# export\n",
    "def pm2l(p, m):\n",
    "    x, y = p\n",
    "    if not np.isfinite(m): a, b, c = 1,  0,    -x\n",
    "    else:                  a, b, c = m, -1, y-m*x\n",
    "    return np.array([a,b,c])"
   ]
  },
  {
   "cell_type": "code",
   "execution_count": 5,
   "metadata": {
    "ExecuteTime": {
     "end_time": "2020-05-26T02:13:25.509511Z",
     "start_time": "2020-05-26T02:13:25.505284Z"
    }
   },
   "outputs": [],
   "source": [
    "# export\n",
    "def ps2l(p1, p2):\n",
    "    x1, y1 = p1\n",
    "    x2, y2 = p2\n",
    "    m = (y2-y1)/(x2-x1)\n",
    "    return pm2l(p1, m)"
   ]
  },
  {
   "cell_type": "code",
   "execution_count": 6,
   "metadata": {
    "ExecuteTime": {
     "end_time": "2020-05-26T02:13:25.518966Z",
     "start_time": "2020-05-26T02:13:25.511241Z"
    }
   },
   "outputs": [],
   "source": [
    "# export\n",
    "def pld(p, l):\n",
    "    x, y = p\n",
    "    a, b, c = l\n",
    "    return np.abs(a*x + b*y + c)/np.sqrt(a**2 + b**2)"
   ]
  },
  {
   "cell_type": "code",
   "execution_count": 7,
   "metadata": {
    "ExecuteTime": {
     "end_time": "2020-05-26T02:13:25.528107Z",
     "start_time": "2020-05-26T02:13:25.520836Z"
    }
   },
   "outputs": [],
   "source": [
    "# export\n",
    "def is_p_in_bb(p, bb):\n",
    "    return p[0] >= bb[0,0] and p[1] >= bb[0,1] and p[0] <= bb[1,0] and p[1] <= bb[1,1]"
   ]
  },
  {
   "cell_type": "code",
   "execution_count": 8,
   "metadata": {
    "ExecuteTime": {
     "end_time": "2020-05-26T02:13:25.534585Z",
     "start_time": "2020-05-26T02:13:25.529265Z"
    }
   },
   "outputs": [],
   "source": [
    "# export\n",
    "def is_bb_in_bb(bb1, bb2):\n",
    "    return is_p_in_bb(bb1[0], bb2) and is_p_in_bb(bb1[1], bb2)"
   ]
  },
  {
   "cell_type": "code",
   "execution_count": 9,
   "metadata": {
    "ExecuteTime": {
     "end_time": "2020-05-26T02:13:25.540936Z",
     "start_time": "2020-05-26T02:13:25.535992Z"
    }
   },
   "outputs": [],
   "source": [
    "# export\n",
    "def is_p_in_b(p, b): return Polygon(b).contains(Point(*p))"
   ]
  },
  {
   "cell_type": "markdown",
   "metadata": {},
   "source": [
    "# Base class"
   ]
  },
  {
   "cell_type": "markdown",
   "metadata": {},
   "source": [
    "I tried to make a generic control flow loop for refining control points which you can inherit and modify/implement"
   ]
  },
  {
   "cell_type": "code",
   "execution_count": 10,
   "metadata": {
    "ExecuteTime": {
     "end_time": "2020-05-26T02:13:25.572031Z",
     "start_time": "2020-05-26T02:13:25.541895Z"
    }
   },
   "outputs": [],
   "source": [
    "# export\n",
    "class CPRefiner:\n",
    "    def __init__(self, cutoff_it, cutoff_norm):\n",
    "        self.cutoff_it = cutoff_it\n",
    "        self.cutoff_norm = cutoff_norm\n",
    "    \n",
    "    def proc_arr(self, arr):            return (arr,)\n",
    "    def it_preproc(self, p, b):         pass\n",
    "    def get_bb(self, p, b):             raise NotImplementedError('Please implement get_bb')\n",
    "    def get_W(self, p, b, bb):          return None    \n",
    "    def refine_point(self, arrs, p, W): raise NotImplementedError('Please implement refine_point')\n",
    "\n",
    "    def __call__(self, arr, ps, bs):\n",
    "        arrs = self.proc_arr(arr)\n",
    "        bb_arr = array_bb(arr)\n",
    "        ps_refined = []\n",
    "        for idx, (p, b) in enumerate(zip(ps, bs)):\n",
    "            self.it_preproc(p, b)\n",
    "            b_init = b\n",
    "            for it in range(self.cutoff_it):\n",
    "                p_prev = p\n",
    "                bb = self.get_bb(p, b)\n",
    "                if not is_bb_in_bb(bb, bb_arr): p = np.full(2, np.nan); break\n",
    "                w = self.get_W(p, b, bb)\n",
    "                p = self.refine_point([bb_array(arr, bb) for arr in arrs], p-bb[0], w)+bb[0] \n",
    "                if np.any(np.isnan(p)): break\n",
    "                if not is_p_in_b(p, b_init): p = np.full(2, np.nan); break\n",
    "                if np.linalg.norm(p-p_prev) < self.cutoff_norm: break\n",
    "                b = b-p_prev+p\n",
    "            ps_refined.append(p)\n",
    "        return np.stack(ps_refined)"
   ]
  },
  {
   "cell_type": "markdown",
   "metadata": {},
   "source": [
    "# Checker"
   ]
  },
  {
   "cell_type": "code",
   "execution_count": 11,
   "metadata": {
    "ExecuteTime": {
     "end_time": "2020-05-26T02:13:25.580850Z",
     "start_time": "2020-05-26T02:13:25.572985Z"
    }
   },
   "outputs": [],
   "source": [
    "# export\n",
    "class CheckerRefiner(CPRefiner):\n",
    "    def __init__(self, hw_min, hw_max, cutoff_it, cutoff_norm):\n",
    "        super().__init__(cutoff_it, cutoff_norm)\n",
    "        assert_allclose(type(hw_min), int)\n",
    "        assert_allclose(type(hw_max), int)\n",
    "        self.hw_min, self.hw_max = hw_min, hw_max\n",
    "    \n",
    "    def it_preproc(self, p, b):\n",
    "        ls = [ps2l(b[idx], b[np.mod(idx+1, len(b))]) for idx in range(len(b))]\n",
    "        d_min = np.min([pld(p, l) for l in ls])\n",
    "        hw = int(np.floor(d_min/np.sqrt(2)))\n",
    "        if hw < self.hw_min: hw = self.hw_min\n",
    "        if hw > self.hw_max: hw = self.hw_max\n",
    "        self.hw = hw\n",
    "        \n",
    "    def get_bb(self, p, b):\n",
    "        return np.array([[-self.hw, -self.hw],[self.hw, self.hw]]) + np.round(p).astype(np.int)   \n",
    "        \n",
    "    def get_W(self, p, b, bb):\n",
    "        sigma = self.hw/2\n",
    "        cov = np.array([[sigma**2,        0],\n",
    "                        [       0, sigma**2]])\n",
    "        return multivariate_normal(p, cov).pdf(np.dstack(bb_grid(bb)))"
   ]
  },
  {
   "cell_type": "markdown",
   "metadata": {},
   "source": [
    "### Opencv method"
   ]
  },
  {
   "cell_type": "code",
   "execution_count": 12,
   "metadata": {
    "ExecuteTime": {
     "end_time": "2020-05-26T02:13:25.589154Z",
     "start_time": "2020-05-26T02:13:25.581864Z"
    }
   },
   "outputs": [],
   "source": [
    "# export\n",
    "def checker_opencv(arr_dx, arr_dy, W=None):\n",
    "    assert_allclose(arr_dx.shape, arr_dy.shape)\n",
    "    \n",
    "    # Condition array points\n",
    "    ps_cond, T = condition(array_ps(arr_dx))\n",
    "        \n",
    "    # Form linear system \n",
    "    A = grid2ps(arr_dx, arr_dy)\n",
    "    b = (A*ps_cond).sum(axis=1)\n",
    "    \n",
    "    # Get weighted least squares estimate\n",
    "    p,_,_,_ = wlstsq(A, b, W)\n",
    "    \n",
    "    # Convert back to unconditioned points\n",
    "    return pmm(np.linalg.inv(T), p, aug=True)"
   ]
  },
  {
   "cell_type": "code",
   "execution_count": 13,
   "metadata": {
    "ExecuteTime": {
     "end_time": "2020-05-26T02:13:25.919762Z",
     "start_time": "2020-05-26T02:13:25.590145Z"
    }
   },
   "outputs": [
    {
     "data": {
      "image/png": "[encoded data removed]",
      "text/plain": [
       "<Figure size 432x288 with 3 Axes>"
      ]
     },
     "metadata": {
      "needs_background": "light"
     },
     "output_type": "display_data"
    }
   ],
   "source": [
    "file_img = Path('data/dot_vision_checker/SERIAL_16276942_DATETIME_2019-06-07-00:38:48-109736_CAM_3_FRAMEID_0_COUNTER_2.png')\n",
    "bb = np.array([[540, 965],\n",
    "               [566, 991]])\n",
    "arr = bb_array(File16bitImg(file_img).array_gs, bb)\n",
    "arr_dx, arr_dy = grad_array(arr)\n",
    "fig, axs = plt.subplots(1,3)\n",
    "for a, ax in zip([arr, arr_dx, arr_dy], axs): ax.imshow(a, cmap='gray')"
   ]
  },
  {
   "cell_type": "code",
   "execution_count": 14,
   "metadata": {
    "ExecuteTime": {
     "end_time": "2020-05-26T02:13:25.924687Z",
     "start_time": "2020-05-26T02:13:25.920827Z"
    }
   },
   "outputs": [
    {
     "data": {
      "text/plain": [
       "array([11.93475028,  6.39796754])"
      ]
     },
     "execution_count": 14,
     "metadata": {},
     "output_type": "execute_result"
    }
   ],
   "source": [
    "p = checker_opencv(arr_dx, arr_dy)\n",
    "p"
   ]
  },
  {
   "cell_type": "code",
   "execution_count": 15,
   "metadata": {
    "ExecuteTime": {
     "end_time": "2020-05-26T02:13:26.097950Z",
     "start_time": "2020-05-26T02:13:25.929272Z"
    }
   },
   "outputs": [
    {
     "data": {
      "text/plain": [
       "[<matplotlib.lines.Line2D at 0x7f166ed439b0>]"
      ]
     },
     "execution_count": 15,
     "metadata": {},
     "output_type": "execute_result"
    },
    {
     "data": {
      "image/png": "[encoded data removed]",
      "text/plain": [
       "<Figure size 432x288 with 1 Axes>"
      ]
     },
     "metadata": {
      "needs_background": "light"
     },
     "output_type": "display_data"
    }
   ],
   "source": [
    "plt.imshow(arr, cmap='gray')\n",
    "plt.plot(p[0], p[1], 'rs')"
   ]
  },
  {
   "cell_type": "code",
   "execution_count": 16,
   "metadata": {
    "ExecuteTime": {
     "end_time": "2020-05-26T02:13:26.102004Z",
     "start_time": "2020-05-26T02:13:26.098957Z"
    }
   },
   "outputs": [],
   "source": [
    "# export\n",
    "class OpenCVCheckerRefiner(CheckerRefiner):    \n",
    "    def __init__(self, hw_min, hw_max, cutoff_it, cutoff_norm):\n",
    "        super().__init__(hw_min, hw_max, cutoff_it, cutoff_norm)\n",
    "        \n",
    "    def proc_arr(self, arr): return grad_array(arr)\n",
    "    \n",
    "    def refine_point(self, arrs, p, W): return checker_opencv(*arrs, W)"
   ]
  },
  {
   "cell_type": "code",
   "execution_count": 17,
   "metadata": {
    "ExecuteTime": {
     "end_time": "2020-05-26T02:13:26.116013Z",
     "start_time": "2020-05-26T02:13:26.103984Z"
    }
   },
   "outputs": [],
   "source": [
    "refiner = OpenCVCheckerRefiner(hw_min=3, hw_max=10, cutoff_it=20, cutoff_norm=1e-3)"
   ]
  },
  {
   "cell_type": "code",
   "execution_count": 18,
   "metadata": {
    "ExecuteTime": {
     "end_time": "2020-05-26T02:13:26.276270Z",
     "start_time": "2020-05-26T02:13:26.123159Z"
    }
   },
   "outputs": [],
   "source": [
    "file_img = Path('data/dot_vision_checker/SERIAL_16276942_DATETIME_2019-06-07-00:38:48-109736_CAM_3_FRAMEID_0_COUNTER_2.png')\n",
    "img = File16bitImg(file_img)\n",
    "ps_c_p = np.array([[858.7428864 , 633.38643518]])\n",
    "bs_c_p = np.array([[[878.5844935448612, 614.1667623245968],\n",
    "                    [838.8941064355354, 613.1104586040717],\n",
    "                    [838.9778791064288, 652.5319092059557],\n",
    "                    [878.5655638183706, 653.6357474223086]]])\n",
    "ps_c_p_refined = refiner(img.array_gs, ps_c_p, bs_c_p)\n",
    "assert_allclose(ps_c_p_refined, np.array([[860.2377069 , 635.16968263]]))"
   ]
  },
  {
   "cell_type": "code",
   "execution_count": 19,
   "metadata": {
    "ExecuteTime": {
     "end_time": "2020-05-26T02:13:26.580607Z",
     "start_time": "2020-05-26T02:13:26.278113Z"
    }
   },
   "outputs": [
    {
     "data": {
      "text/plain": [
       "(620, 650)"
      ]
     },
     "execution_count": 19,
     "metadata": {},
     "output_type": "execute_result"
    },
    {
     "data": {
      "image/png": "[encoded data removed]",
      "text/plain": [
       "<Figure size 432x288 with 1 Axes>"
      ]
     },
     "metadata": {
      "needs_background": "light"
     },
     "output_type": "display_data"
    }
   ],
   "source": [
    "plt.imshow(img.array_gs, cmap='gray')\n",
    "plt.plot(ps_c_p[:,0], ps_c_p[:,1], 'rs')\n",
    "plt.plot(ps_c_p_refined[:,0], ps_c_p_refined[:,1], 'gs')\n",
    "plt.gca().set_xlim(845, 875)\n",
    "plt.gca().set_ylim(620, 650)"
   ]
  },
  {
   "cell_type": "markdown",
   "metadata": {},
   "source": [
    "# Ellipse"
   ]
  },
  {
   "cell_type": "code",
   "execution_count": 20,
   "metadata": {
    "ExecuteTime": {
     "end_time": "2020-05-26T02:13:26.585031Z",
     "start_time": "2020-05-26T02:13:26.581704Z"
    }
   },
   "outputs": [],
   "source": [
    "# export\n",
    "class EllipseRefiner(CPRefiner):\n",
    "    def __init__(self, cutoff_it, cutoff_norm):\n",
    "        super().__init__(cutoff_it, cutoff_norm)\n",
    "            \n",
    "    def get_bb(self, p, b):\n",
    "        bb = ps_bb(b)\n",
    "        return np.stack([np.floor(bb[0]), np.ceil(bb[1])]).astype(np.int)\n",
    "        \n",
    "    def get_W(self, p, b, bb): \n",
    "        return skimage.draw.polygon2mask(bb_sz(bb), b-bb[0]).astype(np.float)"
   ]
  },
  {
   "cell_type": "markdown",
   "metadata": {
    "ExecuteTime": {
     "end_time": "2020-05-17T21:08:31.844283Z",
     "start_time": "2020-05-17T21:08:31.835913Z"
    }
   },
   "source": [
    "### dual conic method"
   ]
  },
  {
   "cell_type": "code",
   "execution_count": 21,
   "metadata": {
    "ExecuteTime": {
     "end_time": "2020-05-26T02:13:26.594413Z",
     "start_time": "2020-05-26T02:13:26.586016Z"
    }
   },
   "outputs": [],
   "source": [
    "# export\n",
    "def fit_conic(arr_dx, arr_dy, W=None):\n",
    "    assert_allclose(arr_dx.shape, arr_dy.shape)\n",
    "    \n",
    "    # Condition array points\n",
    "    ps_cond, T = condition(array_ps(arr_dx))\n",
    "        \n",
    "    # Form homogeneous coordinates of lines\n",
    "    ls = grid2ps(arr_dx, arr_dy)\n",
    "    ls = np.c_[ls, -(ls*ps_cond).sum(axis=1)]\n",
    "        \n",
    "    # Form linear system \n",
    "    A = np.c_[ls[:, 0]**2, ls[:, 0]*ls[:, 1], ls[:, 1]**2, ls[:, 0]*ls[:, 2], ls[:, 1]*ls[:, 2]]\n",
    "    b = -ls[:, 2]**2\n",
    "    \n",
    "    # Get weighted least squares estimate\n",
    "    aq_inv,_,_,_ = wlstsq(A, b, W)\n",
    "    \n",
    "    # Get conic matrix\n",
    "    Aq_inv = np.array([[  aq_inv[0], aq_inv[1]/2, aq_inv[3]/2],\n",
    "                       [aq_inv[1]/2,   aq_inv[2], aq_inv[4]/2],\n",
    "                       [aq_inv[3]/2, aq_inv[4]/2,           1]])\n",
    "    Aq = np.linalg.inv(Aq_inv)\n",
    "\n",
    "    # Rescale conic matrix to take conditioning into account\n",
    "    return T.T@Aq@T"
   ]
  },
  {
   "cell_type": "code",
   "execution_count": 22,
   "metadata": {
    "ExecuteTime": {
     "end_time": "2020-05-26T02:13:26.602572Z",
     "start_time": "2020-05-26T02:13:26.595674Z"
    }
   },
   "outputs": [],
   "source": [
    "# export\n",
    "def ellipse_dualconic(arr_dx, arr_dy, W=None):\n",
    "    Aq = fit_conic(arr_dx, arr_dy, W)\n",
    "    return conic2ellipse(Aq)"
   ]
  },
  {
   "cell_type": "code",
   "execution_count": 23,
   "metadata": {
    "ExecuteTime": {
     "end_time": "2020-05-26T02:13:26.934369Z",
     "start_time": "2020-05-26T02:13:26.603662Z"
    }
   },
   "outputs": [
    {
     "data": {
      "image/png": "[encoded data removed]",
      "text/plain": [
       "<Figure size 432x288 with 3 Axes>"
      ]
     },
     "metadata": {
      "needs_background": "light"
     },
     "output_type": "display_data"
    }
   ],
   "source": [
    "file_img = Path('data/dot_vision_circle/SERIAL_19061245_DATETIME_2020-05-17-20:48:11-005188_CAM_1_FRAMEID_0_COUNTER_1.png')\n",
    "bb = np.array([[520, 975],\n",
    "               [561, 1016]])\n",
    "arr = bb_array(File16bitImg(file_img).array_gs, bb)\n",
    "arr_dx, arr_dy = grad_array(arr)\n",
    "fig, axs = plt.subplots(1,3)\n",
    "for a, ax in zip([arr, arr_dx, arr_dy], axs): ax.imshow(a, cmap='gray')"
   ]
  },
  {
   "cell_type": "code",
   "execution_count": 24,
   "metadata": {
    "ExecuteTime": {
     "end_time": "2020-05-26T02:13:27.065693Z",
     "start_time": "2020-05-26T02:13:26.935534Z"
    }
   },
   "outputs": [
    {
     "data": {
      "text/plain": [
       "[<matplotlib.lines.Line2D at 0x7f166d74b048>]"
      ]
     },
     "execution_count": 24,
     "metadata": {},
     "output_type": "execute_result"
    },
    {
     "data": {
      "image/png": "[encoded data removed]",
      "text/plain": [
       "<Figure size 432x288 with 1 Axes>"
      ]
     },
     "metadata": {
      "needs_background": "light"
     },
     "output_type": "display_data"
    }
   ],
   "source": [
    "e = ellipse_dualconic(arr_dx, arr_dy)\n",
    "ps_e = sample_ellipse(*e, 100)\n",
    "plt.imshow(arr, cmap='gray')\n",
    "plt.plot(ps_e[:,0], ps_e[:,1],'-r')"
   ]
  },
  {
   "cell_type": "code",
   "execution_count": 25,
   "metadata": {
    "ExecuteTime": {
     "end_time": "2020-05-26T02:13:27.069608Z",
     "start_time": "2020-05-26T02:13:27.066717Z"
    }
   },
   "outputs": [],
   "source": [
    "# export\n",
    "class DualConicEllipseRefiner(EllipseRefiner):    \n",
    "    def __init__(self, cutoff_it, cutoff_norm):\n",
    "        super().__init__(cutoff_it, cutoff_norm)\n",
    "        \n",
    "    def proc_arr(self, arr): return grad_array(arr)\n",
    "    \n",
    "    def refine_point(self, arrs, p, W): return np.array(ellipse_dualconic(*arrs, W)[:2])"
   ]
  },
  {
   "cell_type": "code",
   "execution_count": 26,
   "metadata": {
    "ExecuteTime": {
     "end_time": "2020-05-26T02:13:27.078203Z",
     "start_time": "2020-05-26T02:13:27.070627Z"
    }
   },
   "outputs": [],
   "source": [
    "refiner = DualConicEllipseRefiner(cutoff_it=20, cutoff_norm=1e-3)"
   ]
  },
  {
   "cell_type": "code",
   "execution_count": 27,
   "metadata": {
    "ExecuteTime": {
     "end_time": "2020-05-26T02:13:27.210075Z",
     "start_time": "2020-05-26T02:13:27.079214Z"
    }
   },
   "outputs": [],
   "source": [
    "file_img = Path('data/dot_vision_circle/SERIAL_19061245_DATETIME_2020-05-17-20:48:11-005188_CAM_1_FRAMEID_0_COUNTER_1.png')\n",
    "img = File16bitImg(file_img)\n",
    "ps_c_p = np.array([[ 89.74539133, 996.88665043]])\n",
    "bs_c_p = np.array([[[89.54655384855116, 1029.6488057591937],\n",
    "                    [57.63816166782976, 996.9142817777084],\n",
    "                    [89.94410826454079, 964.1443565486551],\n",
    "                    [121.88933256121098, 996.8589874927425]]])\n",
    "ps_c_p_refined = refiner(img.array_gs, ps_c_p, bs_c_p)\n",
    "assert_allclose(ps_c_p_refined, np.array([[ 95.89891747, 997.13242706]]))"
   ]
  },
  {
   "cell_type": "code",
   "execution_count": 28,
   "metadata": {
    "ExecuteTime": {
     "end_time": "2020-05-26T02:13:27.500319Z",
     "start_time": "2020-05-26T02:13:27.211329Z"
    }
   },
   "outputs": [
    {
     "data": {
      "text/plain": [
       "(982, 1012)"
      ]
     },
     "execution_count": 28,
     "metadata": {},
     "output_type": "execute_result"
    },
    {
     "data": {
      "image/png": "[encoded data removed]",
      "text/plain": [
       "<Figure size 432x288 with 1 Axes>"
      ]
     },
     "metadata": {
      "needs_background": "light"
     },
     "output_type": "display_data"
    }
   ],
   "source": [
    "plt.imshow(img.array_gs, cmap='gray')\n",
    "plt.plot(ps_c_p[:,0], ps_c_p[:,1], 'rs')\n",
    "plt.plot(ps_c_p_refined[:,0], ps_c_p_refined[:,1], 'gs')\n",
    "plt.gca().set_xlim(80,  110)\n",
    "plt.gca().set_ylim(982, 1012)"
   ]
  },
  {
   "cell_type": "markdown",
   "metadata": {
    "ExecuteTime": {
     "end_time": "2020-05-03T20:36:21.604772Z",
     "start_time": "2020-05-03T20:36:21.600609Z"
    }
   },
   "source": [
    "# Build"
   ]
  },
  {
   "cell_type": "code",
   "execution_count": 29,
   "metadata": {
    "ExecuteTime": {
     "end_time": "2020-05-26T02:13:28.133615Z",
     "start_time": "2020-05-26T02:13:27.501604Z"
    }
   },
   "outputs": [
    {
     "name": "stdout",
     "output_type": "stream",
     "text": [
      "Converted cb_geom.ipynb.\n",
      "Converted control_refine.ipynb.\n",
      "Converted coordinate_graph.ipynb.\n",
      "Converted fiducial_detect.ipynb.\n",
      "Converted image.ipynb.\n",
      "Converted modules.ipynb.\n",
      "Converted test.ipynb.\n",
      "Converted utils.ipynb.\n"
     ]
    }
   ],
   "source": [
    "!nbdev_build_lib"
   ]
  }
 ],
 "metadata": {
  "kernelspec": {
   "display_name": "Python 3",
   "language": "python",
   "name": "python3"
  },
  "language_info": {
   "codemirror_mode": {
    "name": "ipython",
    "version": 3
   },
   "file_extension": ".py",
   "mimetype": "text/x-python",
   "name": "python",
   "nbconvert_exporter": "python",
   "pygments_lexer": "ipython3",
   "version": "3.6.9"
  },
  "varInspector": {
   "cols": {
    "lenName": 16,
    "lenType": 16,
    "lenVar": 40
   },
   "kernels_config": {
    "python": {
     "delete_cmd_postfix": "",
     "delete_cmd_prefix": "del ",
     "library": "var_list.py",
     "varRefreshCmd": "print(var_dic_list())"
    },
    "r": {
     "delete_cmd_postfix": ") ",
     "delete_cmd_prefix": "rm(",
     "library": "var_list.r",
     "varRefreshCmd": "cat(var_dic_list()) "
    }
   },
   "types_to_exclude": [
    "module",
    "function",
    "builtin_function_or_method",
    "instance",
    "_Feature"
   ],
   "window_display": false
  }
 },
 "nbformat": 4,
 "nbformat_minor": 2
}
