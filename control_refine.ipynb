{
 "cells": [
  {
   "cell_type": "code",
   "execution_count": 1,
   "metadata": {
    "ExecuteTime": {
     "end_time": "2020-07-31T22:22:11.953843Z",
     "start_time": "2020-07-31T22:22:11.952296Z"
    }
   },
   "outputs": [],
   "source": [
    "# default_exp control_refine"
   ]
  },
  {
   "cell_type": "markdown",
   "metadata": {},
   "source": [
    "This contains code for refining the following control points:\n",
    "\n",
    "* Checker\n",
    "* Ellipse\n",
    "\n",
    "The term \"refine\" is used here because an initial guess for the location is required."
   ]
  },
  {
   "cell_type": "markdown",
   "metadata": {},
   "source": [
    "# Import"
   ]
  },
  {
   "cell_type": "code",
   "execution_count": 2,
   "metadata": {
    "ExecuteTime": {
     "end_time": "2020-07-31T22:22:12.936827Z",
     "start_time": "2020-07-31T22:22:11.955006Z"
    }
   },
   "outputs": [],
   "source": [
    "# export\n",
    "import math\n",
    "\n",
    "import numpy as np\n",
    "import skimage.draw\n",
    "import torch\n",
    "from torch.distributions.multivariate_normal import MultivariateNormal\n",
    "\n",
    "from camera_calib.utils import *"
   ]
  },
  {
   "cell_type": "code",
   "execution_count": 3,
   "metadata": {
    "ExecuteTime": {
     "end_time": "2020-07-31T22:22:12.941407Z",
     "start_time": "2020-07-31T22:22:12.938829Z"
    }
   },
   "outputs": [],
   "source": [
    "from pathlib import Path\n",
    "\n",
    "import matplotlib.pyplot as plt\n",
    "from IPython.core.debugger import set_trace\n",
    "\n",
    "from camera_calib.image import File16bitImg"
   ]
  },
  {
   "cell_type": "markdown",
   "metadata": {},
   "source": [
    "# Base class"
   ]
  },
  {
   "cell_type": "markdown",
   "metadata": {},
   "source": [
    "I tried to make a generic control flow loop for refining control points which you can inherit and modify/implement"
   ]
  },
  {
   "cell_type": "code",
   "execution_count": 4,
   "metadata": {
    "ExecuteTime": {
     "end_time": "2020-07-31T22:22:12.956422Z",
     "start_time": "2020-07-31T22:22:12.942629Z"
    }
   },
   "outputs": [],
   "source": [
    "# export\n",
    "class CPRefiner:\n",
    "    def __init__(self, cutoff_it, cutoff_norm):\n",
    "        self.cutoff_it   = cutoff_it\n",
    "        self.cutoff_norm = cutoff_norm\n",
    "\n",
    "    def proc_arr(self, arr):            return (arr,)\n",
    "    def it_preproc(self, p, b):         pass\n",
    "    def get_bb(self, p, b):             raise NotImplementedError('Please implement get_bb')\n",
    "    def get_W(self, p, b, bb):          return None    \n",
    "    def refine_point(self, arrs, p, W): raise NotImplementedError('Please implement refine_point')\n",
    "\n",
    "    def __call__(self, arr, ps, bs):\n",
    "        arrs = self.proc_arr(arr)\n",
    "        bb_arr = array_bb(arr)\n",
    "        ps_refined = []\n",
    "        for idx, (p, b) in enumerate(zip(ps, bs)):\n",
    "            self.it_preproc(p, b)\n",
    "            b_init = b\n",
    "            for it in torch.arange(self.cutoff_it):\n",
    "                p_prev = p\n",
    "                bb = self.get_bb(p, b)\n",
    "                if not is_bb_in_bb(bb, bb_arr): p = arr.new_full(2, math.nan); break\n",
    "                W = self.get_W(p, b, bb)\n",
    "                p = self.refine_point(tuple(bb_array(arr, bb) for arr in arrs), p-bb[0], W)+bb[0] \n",
    "                if torch.any(torch.isnan(p)): break\n",
    "                if not is_p_in_b(p, b_init):    p = arr.new_full(2, math.nan); break\n",
    "                if torch.norm(p-p_prev) < self.cutoff_norm: break\n",
    "                b = b-p_prev+p\n",
    "            ps_refined.append(p)\n",
    "        return stackify(tuple(ps_refined))"
   ]
  },
  {
   "cell_type": "markdown",
   "metadata": {},
   "source": [
    "# Checker"
   ]
  },
  {
   "cell_type": "code",
   "execution_count": 5,
   "metadata": {
    "ExecuteTime": {
     "end_time": "2020-07-31T22:22:12.964942Z",
     "start_time": "2020-07-31T22:22:12.957585Z"
    }
   },
   "outputs": [],
   "source": [
    "# export\n",
    "class CheckerRefiner(CPRefiner):\n",
    "    def __init__(self, hw_min, hw_max, cutoff_it, cutoff_norm):\n",
    "        super().__init__(cutoff_it, cutoff_norm)\n",
    "        assert_allclose(type(hw_min), int)\n",
    "        assert_allclose(type(hw_max), int)\n",
    "        self.hw_min, self.hw_max = hw_min, hw_max\n",
    "\n",
    "    def it_preproc(self, p, b):\n",
    "        ls = [ps2l(b[idx], b[torch.remainder(idx+1, len(b))]) for idx in torch.arange(len(b))]\n",
    "        d_min = stackify(tuple(pld(p, l) for l in ls)).min()\n",
    "        hw = torch.floor(d_min/math.sqrt(2))\n",
    "        hw = hw.clamp(self.hw_min, self.hw_max)\n",
    "        self.hw = hw\n",
    "        self.bb = stackify(((-hw, -hw),\n",
    "                            ( hw,  hw)))\n",
    "\n",
    "    def get_bb(self, p, b): return self.bb+p.round()\n",
    "\n",
    "    def get_W(self, p, b, bb):\n",
    "        zero = p.new_tensor(0)\n",
    "\n",
    "        sigma = self.hw/2\n",
    "        cov = stackify(((sigma**2,     zero),\n",
    "                        (    zero, sigma**2)))\n",
    "        d = MultivariateNormal(p, covariance_matrix=cov)\n",
    "        return torch.exp(d.log_prob(grid2ps(*bb_grid(bb)))).reshape(tuple(bb_sz(bb).long()))"
   ]
  },
  {
   "cell_type": "markdown",
   "metadata": {},
   "source": [
    "### Opencv method"
   ]
  },
  {
   "cell_type": "code",
   "execution_count": 6,
   "metadata": {
    "ExecuteTime": {
     "end_time": "2020-07-31T22:22:12.973400Z",
     "start_time": "2020-07-31T22:22:12.966466Z"
    }
   },
   "outputs": [],
   "source": [
    "# export\n",
    "@numpyify\n",
    "def checker_opencv(arr_dx, arr_dy, W=None):    \n",
    "    # Condition array points\n",
    "    ps_cond, T = condition(array_ps(arr_dx))\n",
    "        \n",
    "    # Form linear system \n",
    "    A = grid2ps(arr_dx, arr_dy)\n",
    "    b = (A*ps_cond).sum(dim=1)\n",
    "    \n",
    "    # Get weighted least squares estimate\n",
    "    p = wlstsq(A, b, W)\n",
    "    \n",
    "    # Convert back to unconditioned points\n",
    "    return pmm(p, torch.inverse(T), aug=True)"
   ]
  },
  {
   "cell_type": "code",
   "execution_count": 7,
   "metadata": {
    "ExecuteTime": {
     "end_time": "2020-07-31T22:22:13.309935Z",
     "start_time": "2020-07-31T22:22:12.974271Z"
    }
   },
   "outputs": [
    {
     "data": {
      "image/png": "[encoded data removed]",
      "text/plain": [
       "<Figure size 432x288 with 3 Axes>"
      ]
     },
     "metadata": {
      "needs_background": "light"
     },
     "output_type": "display_data"
    }
   ],
   "source": [
    "file_img = Path('data/dot_vision_checker/SERIAL_16276942_DATETIME_2019-06-07-00:38:48-109736_CAM_3_FRAMEID_0_COUNTER_2.png')\n",
    "bb = torch.FloatTensor([[540, 965], [566, 991]])\n",
    "arr = bb_array(File16bitImg(file_img).array_gs(torch.float), bb)\n",
    "arr_dx, arr_dy = grad_array(arr)\n",
    "fig, axs = plt.subplots(1,3)\n",
    "for a, ax in zip([arr, arr_dx, arr_dy], axs): ax.imshow(a, cmap='gray')"
   ]
  },
  {
   "cell_type": "code",
   "execution_count": 8,
   "metadata": {
    "ExecuteTime": {
     "end_time": "2020-07-31T22:22:13.318589Z",
     "start_time": "2020-07-31T22:22:13.311159Z"
    }
   },
   "outputs": [
    {
     "data": {
      "text/plain": [
       "tensor([11.9810,  6.2994])"
      ]
     },
     "execution_count": 8,
     "metadata": {},
     "output_type": "execute_result"
    }
   ],
   "source": [
    "p = checker_opencv(arr_dx, arr_dy)\n",
    "p"
   ]
  },
  {
   "cell_type": "code",
   "execution_count": 9,
   "metadata": {
    "ExecuteTime": {
     "end_time": "2020-07-31T22:22:13.431685Z",
     "start_time": "2020-07-31T22:22:13.320512Z"
    }
   },
   "outputs": [
    {
     "data": {
      "text/plain": [
       "[<matplotlib.lines.Line2D at 0x7fc39344aeb8>]"
      ]
     },
     "execution_count": 9,
     "metadata": {},
     "output_type": "execute_result"
    },
    {
     "data": {
      "image/png": "[encoded data removed]",
      "text/plain": [
       "<Figure size 432x288 with 1 Axes>"
      ]
     },
     "metadata": {
      "needs_background": "light"
     },
     "output_type": "display_data"
    }
   ],
   "source": [
    "plt.imshow(arr, cmap='gray')\n",
    "plt.plot(p[0], p[1], 'rs')"
   ]
  },
  {
   "cell_type": "code",
   "execution_count": 10,
   "metadata": {
    "ExecuteTime": {
     "end_time": "2020-07-31T22:22:13.436220Z",
     "start_time": "2020-07-31T22:22:13.432964Z"
    }
   },
   "outputs": [],
   "source": [
    "# export\n",
    "class OpenCVCheckerRefiner(CheckerRefiner):\n",
    "    def __init__(self, hw_min, hw_max, cutoff_it, cutoff_norm):\n",
    "        super().__init__(hw_min, hw_max, cutoff_it, cutoff_norm)\n",
    "\n",
    "    def proc_arr(self, arr): return grad_array(arr)\n",
    "\n",
    "    def refine_point(self, arrs, p, W): return checker_opencv(*arrs, W)"
   ]
  },
  {
   "cell_type": "code",
   "execution_count": 11,
   "metadata": {
    "ExecuteTime": {
     "end_time": "2020-07-31T22:22:13.447697Z",
     "start_time": "2020-07-31T22:22:13.437191Z"
    }
   },
   "outputs": [],
   "source": [
    "refiner = OpenCVCheckerRefiner(hw_min=3, hw_max=10, cutoff_it=20, cutoff_norm=1e-3)"
   ]
  },
  {
   "cell_type": "code",
   "execution_count": 12,
   "metadata": {
    "ExecuteTime": {
     "end_time": "2020-07-31T22:22:13.635063Z",
     "start_time": "2020-07-31T22:22:13.448854Z"
    },
    "scrolled": false
   },
   "outputs": [],
   "source": [
    "file_img = Path('data/dot_vision_checker/SERIAL_16276942_DATETIME_2019-06-07-00:38:48-109736_CAM_3_FRAMEID_0_COUNTER_2.png')\n",
    "img = File16bitImg(file_img)\n",
    "ps_c_p = torch.FloatTensor([[858.7428864 , 633.38643518]])\n",
    "bs_c_p = torch.FloatTensor([[[878.5844935448612, 614.1667623245968],\n",
    "                             [838.8941064355354, 613.1104586040717],\n",
    "                             [838.9778791064288, 652.5319092059557],\n",
    "                             [878.5655638183706, 653.6357474223086]]])\n",
    "ps_c_p_refined = refiner(img.array_gs(torch.float), ps_c_p, bs_c_p)\n",
    "assert_allclose(ps_c_p_refined, torch.FloatTensor([[860.234, 635.174]]), atol=1e-3)"
   ]
  },
  {
   "cell_type": "code",
   "execution_count": 13,
   "metadata": {
    "ExecuteTime": {
     "end_time": "2020-07-31T22:22:13.854750Z",
     "start_time": "2020-07-31T22:22:13.636317Z"
    }
   },
   "outputs": [
    {
     "data": {
      "text/plain": [
       "(620.0, 650.0)"
      ]
     },
     "execution_count": 13,
     "metadata": {},
     "output_type": "execute_result"
    },
    {
     "data": {
      "image/png": "[encoded data removed]",
      "text/plain": [
       "<Figure size 432x288 with 1 Axes>"
      ]
     },
     "metadata": {
      "needs_background": "light"
     },
     "output_type": "display_data"
    }
   ],
   "source": [
    "plt.imshow(img.array_gs(torch.float), cmap='gray')\n",
    "plt.plot(ps_c_p[:,0], ps_c_p[:,1], 'rs')\n",
    "plt.plot(ps_c_p_refined[:,0], ps_c_p_refined[:,1], 'gs')\n",
    "plt.gca().set_xlim(845, 875)\n",
    "plt.gca().set_ylim(620, 650)"
   ]
  },
  {
   "cell_type": "markdown",
   "metadata": {},
   "source": [
    "# Ellipse"
   ]
  },
  {
   "cell_type": "markdown",
   "metadata": {
    "ExecuteTime": {
     "end_time": "2020-07-31T01:42:07.667986Z",
     "start_time": "2020-07-31T01:42:07.663616Z"
    }
   },
   "source": [
    "Note that torch doesnt have a `polygon2mask` function, so just convert to numpy and then back to tensor for now"
   ]
  },
  {
   "cell_type": "code",
   "execution_count": 14,
   "metadata": {
    "ExecuteTime": {
     "end_time": "2020-07-31T22:22:13.859579Z",
     "start_time": "2020-07-31T22:22:13.855816Z"
    }
   },
   "outputs": [],
   "source": [
    "# export\n",
    "class EllipseRefiner(CPRefiner):\n",
    "    def __init__(self, cutoff_it, cutoff_norm):\n",
    "        super().__init__(cutoff_it, cutoff_norm)\n",
    "\n",
    "    def it_preproc(self, p, b):\n",
    "        bb = ps_bb(b)\n",
    "        bb = stackify((bb[0].floor(), bb[1].ceil()))\n",
    "        W = p.new_tensor(skimage.draw.polygon2mask(*torch2np((tuple(bb_sz(bb).long()), b-bb[0]))))\n",
    "        self.bb, self.W = bb-p.round(), W\n",
    "\n",
    "    def get_bb(self, p, b):    return self.bb+p.round()\n",
    "        \n",
    "    def get_W(self, p, b, bb): return self.W"
   ]
  },
  {
   "cell_type": "markdown",
   "metadata": {
    "ExecuteTime": {
     "end_time": "2020-05-17T21:08:31.844283Z",
     "start_time": "2020-05-17T21:08:31.835913Z"
    }
   },
   "source": [
    "### dual conic method"
   ]
  },
  {
   "cell_type": "code",
   "execution_count": 15,
   "metadata": {
    "ExecuteTime": {
     "end_time": "2020-07-31T22:22:13.871278Z",
     "start_time": "2020-07-31T22:22:13.860469Z"
    }
   },
   "outputs": [],
   "source": [
    "# export\n",
    "@numpyify\n",
    "def fit_conic(arr_dx, arr_dy, W=None):   \n",
    "    one = arr_dx.new_tensor(1)\n",
    "    \n",
    "    # Condition array points\n",
    "    ps_cond, T = condition(array_ps(arr_dx))\n",
    "        \n",
    "    # Form homogeneous coordinates of lines\n",
    "    ls = grid2ps(arr_dx, arr_dy)\n",
    "    ls = torch.cat([ls, -(ls*ps_cond).sum(dim=1, keepdim=True)], dim=1)\n",
    "    \n",
    "    # Form linear system \n",
    "    A = stackify((ls[:,0]**2, ls[:,0]*ls[:,1], ls[:,1]**2, ls[:,0]*ls[:,2], ls[:,1]*ls[:,2]), dim=1)\n",
    "    b = -ls[:, 2]**2\n",
    "        \n",
    "    # Get weighted least squares estimate\n",
    "    aq_inv = wlstsq(A, b, W)\n",
    "    \n",
    "    # Get conic matrix\n",
    "    Aq_inv = stackify(((  aq_inv[0], aq_inv[1]/2, aq_inv[3]/2),\n",
    "                       (aq_inv[1]/2,   aq_inv[2], aq_inv[4]/2),\n",
    "                       (aq_inv[3]/2, aq_inv[4]/2,         one)))\n",
    "    Aq = torch.inverse(Aq_inv)\n",
    "\n",
    "    # Rescale conic matrix to take conditioning into account\n",
    "    return T.T@Aq@T"
   ]
  },
  {
   "cell_type": "code",
   "execution_count": 16,
   "metadata": {
    "ExecuteTime": {
     "end_time": "2020-07-31T22:22:13.880228Z",
     "start_time": "2020-07-31T22:22:13.873774Z"
    }
   },
   "outputs": [],
   "source": [
    "# export\n",
    "@numpyify\n",
    "def ellipse_dualconic(arr_dx, arr_dy, W=None):\n",
    "    Aq = fit_conic(arr_dx, arr_dy, W)\n",
    "    return conic2ellipse(Aq)"
   ]
  },
  {
   "cell_type": "code",
   "execution_count": 17,
   "metadata": {
    "ExecuteTime": {
     "end_time": "2020-07-31T22:22:14.185942Z",
     "start_time": "2020-07-31T22:22:13.881905Z"
    }
   },
   "outputs": [
    {
     "data": {
      "image/png": "[encoded data removed]",
      "text/plain": [
       "<Figure size 432x288 with 3 Axes>"
      ]
     },
     "metadata": {
      "needs_background": "light"
     },
     "output_type": "display_data"
    }
   ],
   "source": [
    "file_img = Path('data/dot_vision_circle/SERIAL_19061245_DATETIME_2020-05-17-20:48:11-005188_CAM_1_FRAMEID_0_COUNTER_1.png')\n",
    "bb = torch.FloatTensor([[520, 975], [561, 1016]])\n",
    "arr = bb_array(File16bitImg(file_img).array_gs(torch.float), bb)\n",
    "arr_dx, arr_dy = grad_array(arr)\n",
    "fig, axs = plt.subplots(1,3)\n",
    "for a, ax in zip([arr, arr_dx, arr_dy], axs): ax.imshow(a, cmap='gray')"
   ]
  },
  {
   "cell_type": "code",
   "execution_count": 18,
   "metadata": {
    "ExecuteTime": {
     "end_time": "2020-07-31T22:22:14.310857Z",
     "start_time": "2020-07-31T22:22:14.187382Z"
    }
   },
   "outputs": [
    {
     "data": {
      "text/plain": [
       "[<matplotlib.lines.Line2D at 0x7fc39326c438>]"
      ]
     },
     "execution_count": 18,
     "metadata": {},
     "output_type": "execute_result"
    },
    {
     "data": {
      "image/png": "[encoded data removed]",
      "text/plain": [
       "<Figure size 432x288 with 1 Axes>"
      ]
     },
     "metadata": {
      "needs_background": "light"
     },
     "output_type": "display_data"
    }
   ],
   "source": [
    "e = ellipse_dualconic(arr_dx, arr_dy)\n",
    "ps_e = sample_ellipse(e, 100)\n",
    "plt.imshow(arr, cmap='gray')\n",
    "plt.plot(ps_e[:,0], ps_e[:,1],'-r')"
   ]
  },
  {
   "cell_type": "code",
   "execution_count": 19,
   "metadata": {
    "ExecuteTime": {
     "end_time": "2020-07-31T22:22:14.314451Z",
     "start_time": "2020-07-31T22:22:14.311866Z"
    }
   },
   "outputs": [],
   "source": [
    "# export\n",
    "class DualConicEllipseRefiner(EllipseRefiner):    \n",
    "    def __init__(self, cutoff_it, cutoff_norm):\n",
    "        super().__init__(cutoff_it, cutoff_norm)\n",
    "        \n",
    "    def proc_arr(self, arr): return grad_array(arr)\n",
    "    \n",
    "    def refine_point(self, arrs, p, W): return ellipse_dualconic(*arrs, W)[:2]"
   ]
  },
  {
   "cell_type": "code",
   "execution_count": 20,
   "metadata": {
    "ExecuteTime": {
     "end_time": "2020-07-31T22:22:14.323382Z",
     "start_time": "2020-07-31T22:22:14.315595Z"
    }
   },
   "outputs": [],
   "source": [
    "refiner = DualConicEllipseRefiner(cutoff_it=20, cutoff_norm=1e-3)"
   ]
  },
  {
   "cell_type": "code",
   "execution_count": 21,
   "metadata": {
    "ExecuteTime": {
     "end_time": "2020-07-31T22:22:14.500575Z",
     "start_time": "2020-07-31T22:22:14.324441Z"
    }
   },
   "outputs": [],
   "source": [
    "file_img = Path('data/dot_vision_circle/SERIAL_19061245_DATETIME_2020-05-17-20:48:11-005188_CAM_1_FRAMEID_0_COUNTER_1.png')\n",
    "img = File16bitImg(file_img)\n",
    "ps_c_p = torch.FloatTensor([[ 89.74539133, 996.88665043]])\n",
    "bs_c_p = torch.FloatTensor([[[ 89.5465538485512, 1029.648805759194],\n",
    "                             [ 57.6381616678298,  996.914281777708],\n",
    "                             [ 89.9441082645408,  964.144356548655],\n",
    "                             [121.8893325612110,  996.858987492743]]])\n",
    "ps_c_p_refined = refiner(img.array_gs(torch.float), ps_c_p, bs_c_p)\n",
    "assert_allclose(ps_c_p_refined, torch.FloatTensor([[ 95.89870615, 997.13709847]]))"
   ]
  },
  {
   "cell_type": "code",
   "execution_count": 22,
   "metadata": {
    "ExecuteTime": {
     "end_time": "2020-07-31T22:22:14.748188Z",
     "start_time": "2020-07-31T22:22:14.502235Z"
    }
   },
   "outputs": [
    {
     "data": {
      "text/plain": [
       "(982.0, 1012.0)"
      ]
     },
     "execution_count": 22,
     "metadata": {},
     "output_type": "execute_result"
    },
    {
     "data": {
      "image/png": "[encoded data removed]",
      "text/plain": [
       "<Figure size 432x288 with 1 Axes>"
      ]
     },
     "metadata": {
      "needs_background": "light"
     },
     "output_type": "display_data"
    }
   ],
   "source": [
    "plt.imshow(img.array_gs(torch.float), cmap='gray')\n",
    "plt.plot(ps_c_p[:,0], ps_c_p[:,1], 'rs')\n",
    "plt.plot(ps_c_p_refined[:,0], ps_c_p_refined[:,1], 'gs')\n",
    "plt.gca().set_xlim(80,  110)\n",
    "plt.gca().set_ylim(982, 1012)"
   ]
  },
  {
   "cell_type": "markdown",
   "metadata": {
    "ExecuteTime": {
     "end_time": "2020-05-03T20:36:21.604772Z",
     "start_time": "2020-05-03T20:36:21.600609Z"
    }
   },
   "source": [
    "# Build"
   ]
  },
  {
   "cell_type": "code",
   "execution_count": 23,
   "metadata": {
    "ExecuteTime": {
     "end_time": "2020-07-31T22:22:14.944095Z",
     "start_time": "2020-07-31T22:22:14.749351Z"
    }
   },
   "outputs": [
    {
     "data": {
      "application/javascript": [
       "IPython.notebook.save_checkpoint();"
      ],
      "text/plain": [
       "<IPython.core.display.Javascript object>"
      ]
     },
     "metadata": {},
     "output_type": "display_data"
    },
    {
     "name": "stdout",
     "output_type": "stream",
     "text": [
      "Converted control_refine.ipynb.\n"
     ]
    }
   ],
   "source": [
    "build_notebook()"
   ]
  }
 ],
 "metadata": {
  "kernelspec": {
   "display_name": "Python 3",
   "language": "python",
   "name": "python3"
  },
  "language_info": {
   "codemirror_mode": {
    "name": "ipython",
    "version": 3
   },
   "file_extension": ".py",
   "mimetype": "text/x-python",
   "name": "python",
   "nbconvert_exporter": "python",
   "pygments_lexer": "ipython3",
   "version": "3.6.9"
  },
  "varInspector": {
   "cols": {
    "lenName": 16,
    "lenType": 16,
    "lenVar": 40
   },
   "kernels_config": {
    "python": {
     "delete_cmd_postfix": "",
     "delete_cmd_prefix": "del ",
     "library": "var_list.py",
     "varRefreshCmd": "print(var_dic_list())"
    },
    "r": {
     "delete_cmd_postfix": ") ",
     "delete_cmd_prefix": "rm(",
     "library": "var_list.r",
     "varRefreshCmd": "cat(var_dic_list()) "
    }
   },
   "types_to_exclude": [
    "module",
    "function",
    "builtin_function_or_method",
    "instance",
    "_Feature"
   ],
   "window_display": false
  }
 },
 "nbformat": 4,
 "nbformat_minor": 2
}
